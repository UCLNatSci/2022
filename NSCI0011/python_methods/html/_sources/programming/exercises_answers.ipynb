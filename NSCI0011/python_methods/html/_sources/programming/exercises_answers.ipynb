{
 "cells": [
  {
   "attachments": {},
   "cell_type": "markdown",
   "metadata": {},
   "source": [
    "# Answers to Exercises\n",
    "\n",
    "\n",
    ":::{solution}\n",
    ":::"
   ]
  },
  {
   "cell_type": "code",
   "execution_count": 1,
   "metadata": {},
   "outputs": [
    {
     "name": "stdout",
     "output_type": "stream",
     "text": [
      "[[0, 3], [1, 3], [0, 1, 3], [2, 3]]\n"
     ]
    }
   ],
   "source": [
    "n = 5\n",
    "m = 4\n",
    "x = [[0, 2],\n",
    "     [1, 2],\n",
    "     [3],\n",
    "     [0, 1, 2, 3],\n",
    "     []]\n",
    "\n",
    "y = []\n",
    "for i in range(m):\n",
    "    y.append([])\n",
    "\n",
    "for i in range(n):\n",
    "    for j in x[i]:\n",
    "        y[j].append(i)\n",
    "\n",
    "\n",
    "print(y)"
   ]
  }
 ],
 "metadata": {
  "kernelspec": {
   "display_name": "Python 3",
   "language": "python",
   "name": "python3"
  },
  "language_info": {
   "codemirror_mode": {
    "name": "ipython",
    "version": 3
   },
   "file_extension": ".py",
   "mimetype": "text/x-python",
   "name": "python",
   "nbconvert_exporter": "python",
   "pygments_lexer": "ipython3",
   "version": "3.7.9"
  },
  "orig_nbformat": 4,
  "vscode": {
   "interpreter": {
    "hash": "7924ab759b3df5cb48bbab33739b019b840d790ae77db55f5a743ebfebcfdc3f"
   }
  }
 },
 "nbformat": 4,
 "nbformat_minor": 2
}
