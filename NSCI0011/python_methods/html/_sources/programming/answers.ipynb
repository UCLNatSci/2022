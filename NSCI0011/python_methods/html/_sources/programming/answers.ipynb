{
 "cells": [
  {
   "attachments": {},
   "cell_type": "markdown",
   "metadata": {},
   "source": [
    "# Answers\n",
    "\n",
    ":::{solution} types_exercise\n",
    "1. `1.0` (float)\n",
    "2. `1` (int)\n",
    "3. `TypeError` since `x/x` is a float and we cannot index an array using a float. Try using `z[x//x]` or `z[int(x/x)]` instead.\n",
    "4. `\"5555555555\"` (string)\n",
    "5. `[10, 20, 10, 20, 10, 20, ... , 10, 20]` (list)\n",
    "6. `TypeError` since 10. is a float and we cannot use the operator `*` with a list and a float. First convert to a float.\n",
    "7. `array(100, 200)` (Numpy array)\n",
    "8. `TypeError` since floats and strings cannot be added. Convert `w` to an int or float first e.g. `y + int(w)`.\n",
    "7. `array([100, 400])` Numpy performs elementwise multiplication\n",
    ":::\n",
    "\n",
    "<!--\n",
    ":::{solution} reference_exercise\n",
    "\n",
    "1\\.\n",
    "\n",
    "```\n",
    "x = 6\n",
    "y = 1\n",
    "```\n",
    "\n",
    "After executing the first two lines, `x` and `y` both refer to the same value `1`. But the line `x += 5` is an assigment operation. It evalutes `x + 5` then assigns the variable `x` to the new value. `y` still refers to the value `1`.\n",
    "\n",
    "2\\.\n",
    "\n",
    "```\n",
    "x = [10, 2]\n",
    "y = [10, 2]\n",
    "```\n",
    "\n",
    "After executing the first two lines, `x` and `y` both refer to the same list `[1, 2]`.\n",
    "The line `x[0] = 10` mutates the value of the list. `x` and `y` then both refer to the same list `[10, 2]`. \n",
    "\n",
    "3\\.\n",
    "\n",
    "```\n",
    "x = [5, 2, 3, 4]\n",
    "y = 1\n",
    "```\n",
    "\n",
    "After executing the first two lines, `x`\n",
    "\n",
    ":::\n",
    "-->"
   ]
  }
 ],
 "metadata": {
  "kernelspec": {
   "display_name": "Python 3",
   "language": "python",
   "name": "python3"
  },
  "language_info": {
   "name": "python",
   "version": "3.7.9 (tags/v3.7.9:13c94747c7, Aug 17 2020, 16:30:00) [MSC v.1900 64 bit (AMD64)]"
  },
  "orig_nbformat": 4,
  "vscode": {
   "interpreter": {
    "hash": "7f871366baaeb23d5e2a586caa18124c1371cc3d3832dcd001f8f599e1be9e29"
   }
  }
 },
 "nbformat": 4,
 "nbformat_minor": 2
}
