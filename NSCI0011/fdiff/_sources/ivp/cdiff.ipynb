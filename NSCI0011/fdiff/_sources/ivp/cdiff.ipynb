{
 "cells": [
  {
   "cell_type": "code",
   "execution_count": 1,
   "id": "db7ba23f",
   "metadata": {
    "render": null,
    "tags": [
     "remove-input"
    ]
   },
   "outputs": [],
   "source": [
    "import numpy as np\n",
    "import matplotlib.pyplot as plt\n",
    "plt.rcParams['axes.xmargin'] = 0"
   ]
  },
  {
   "cell_type": "markdown",
   "id": "a0e1fdbb",
   "metadata": {},
   "source": [
    "# Midpoint method\n",
    "\n",
    "The explicit Euler method is rarely used in problems of real practical importance, as it often requires impractically small integration steps to achieve the required accuracy goal. However, it does appear as a sub-step in some other important multistep formulas. \n",
    "\n",
    "The central difference (midpoint) formulas are of particular importance. They are very heavily used in numeric methods because they achieve a good balance between simplicity, stability and accuracy. In this chapter you will learn to apply the midpoint formula to an initial value problem.\n",
    "\n",
    "After completing the chapter you should be able to:\n",
    "* Use the first derivative midpoint rule to solve a first order IVP, either by using the explicit Euler method to obtain a starting value, or by obtaining a starting value from a more accurate rule such as the trapezoidal rule.\n",
    "* Use the second derivative midpoint rule to solve a second order IVP by introducing a \"ghost point\", and recognise why we cannot use the explicit Euler method to obtain a starting value in this case.\n",
    "\n",
    "## First order problem \n",
    "\n",
    "The general form of a (scalar) first order IVP is defined by a first order ODE together with the initial value of the variable:\n",
    "\n",
    "\\begin{equation}\n",
    "\\frac{\\mathrm{d}x}{\\mathrm{d}t} = f(t,x), \\quad x(0)=x_0.\n",
    "\\end{equation}\n",
    "\n",
    "We will demonstrate a quadratic order solution technique for this problem using the following example case:\n",
    "\n",
    "\\begin{equation}\n",
    "\\frac{\\mathrm{d}x}{\\mathrm{d}{t}}=\\cos\\left(t+\\frac{\\pi}{4}\\right), \\quad x(0)=\\frac{1}{\\sqrt{2}}.\n",
    "\\end{equation}\n",
    "\n",
    "Application of the midpoint rule results in the following formula, which requires two starting points:\n",
    "\n",
    "\\begin{equation}\n",
    "\\frac{x_{k+1}-x_{k-1}}{2h} = f(t_k,x_k) \\qquad \\implies \\qquad x_{k+1}=x_{k-1}+2hf(t_k,x_k).\n",
    "\\end{equation}\n",
    "\n",
    "The IVP gives us only one starting point, but we can estimate a second starting point by using the explicit Euler formula for the first step only. Although this formula is an order of accuracy worse than the midpoint formula, we will only use it for a single step.\n",
    "\n",
    "The code below implements the algorithm for our example problem, using various step sizes to explore the effect on the error. The output is a table of the maximum errors for each step size, from which it can be seen that the errors scale with $h^2$. Decreasing the step size by a factor of two decreases the error by a factor of four:"
   ]
  },
  {
   "cell_type": "code",
   "execution_count": 2,
   "id": "1f017ad3",
   "metadata": {
    "render": null,
    "tags": [
     "hide-input"
    ]
   },
   "outputs": [],
   "source": [
    "# Libraries and definitions used in the following code\n",
    "import numpy as np\n",
    "import matplotlib.pyplot as plt\n",
    "from numpy import sin,abs,pi,cos,sqrt\n",
    "\n",
    "# Print function for tabulating output\n",
    "def print_errs(hvals,err):\n",
    "  n=len(hvals)\n",
    "  print('Step size', '\\tError', '\\t\\tRatio')\n",
    "  for j in range(n-1):\n",
    "    print('%.8f' % hvals[j+1], '\\t%.8f' % err[j+1], '\\t%.8f' % (err[j]/err[j+1]))"
   ]
  },
  {
   "cell_type": "code",
   "execution_count": 3,
   "id": "2768c5a7",
   "metadata": {},
   "outputs": [
    {
     "name": "stdout",
     "output_type": "stream",
     "text": [
      "Step size \tError \t\tRatio\n",
      "0.01562500 \t0.00009823 \t4.00035089\n",
      "0.00781250 \t0.00002456 \t3.99996600\n",
      "0.00390625 \t0.00000614 \t4.00000492\n",
      "0.00195312 \t0.00000153 \t4.00000638\n",
      "0.00097656 \t0.00000038 \t3.99999903\n"
     ]
    }
   ],
   "source": [
    "hvals=[2**-j for j in range(5,11)]    #Range of step sizes to try\n",
    "err=[]                                #To record max errors\n",
    "\n",
    "xsol = lambda t   :  sin(t+pi/4)      #Analytic solution      \n",
    "dxdt = lambda t,x :  cos(t+pi/4)      #Derivative definition\n",
    "x0=1/sqrt(2)                          #Initial condition\n",
    "\n",
    "for h in hvals: \n",
    "  t=np.arange(0,2*pi,h)               #Integration domain\n",
    "  x=np.empty(t.shape); x[0]=x0        #Solution array                     \n",
    "  x[1]=x[0]+h*dxdt(t[0],x[0])         #Explicit Euler (one step)\n",
    "\n",
    "  for k in range(1,len(t)-1):\n",
    "    x[k+1]=x[k-1]+2*h*dxdt(t[k],x[k]) #midpoint rule (remaining steps)\n",
    "\n",
    "  E = max(abs(xsol(t)-x))             #Max error on domain\n",
    "  err.append(E)\n",
    "\n",
    "print_errs(hvals,err)                 #Print the errors"
   ]
  },
  {
   "cell_type": "markdown",
   "id": "52a1bdbd",
   "metadata": {},
   "source": [
    "```{note}\n",
    "Although we can get by with the explicit Euler result for the first step, using a higher order result such as the trapezoidal rule will normally give a more accurate result. For this example, using the trapezoidal rule for the first step gives a global result that is about 1.5 times more accurate than if the explicit Euler result is used for the first step.\n",
    "```\n",
    "\n",
    "## Second order problem\n",
    "\n",
    "The general form of a second order IVP is defined by a second order ODE together with the initial value of the variable and its derivative:\n",
    "\n",
    "```{math}\n",
    ":label: ivp2\n",
    "\\frac{\\mathrm{d}^2 x}{\\mathrm{d}t^2}=f\\left(t,x,\\frac{\\mathrm{d}x}{\\mathrm{d}t}\\right), \\qquad x(t_0)=\\alpha, \\quad \\frac{\\mathrm{d}x}{\\mathrm{d}t}\\biggr|_{t=t_0}=\\beta.\n",
    "```\n",
    "\n",
    "We will demonstrate solution techniques for this problem using the following example case:\n",
    "\n",
    "```{math}\n",
    ":label: 6-6\n",
    "\\ddot{x}=-\\sin\\left(t+\\frac{\\pi}{4}\\right), \\quad x(0)=\\dot{x}(0)=\\frac{1}{\\sqrt{2}}.\n",
    "```\n",
    "\n",
    "### First derivative rule\n",
    "\n",
    "The second order problem can be re-written as a first order IVP by definining $y=\\dot{x}$ to obtain\n",
    "\n",
    "\\begin{equation}\n",
    "\\frac{\\mathrm{d}\\underline{x}}{\\mathrm{d}t}=\\underline{F}(t,\\underline{x}), \\qquad \\underline{x}(t_0)=\\begin{bmatrix}\\alpha\\\\\\beta\\end{bmatrix}, \\qquad \\underline{x}=\\begin{bmatrix}x\\\\y\\end{bmatrix}.\n",
    "\\end{equation}\n",
    "\n",
    "Therefore it could be solved using the midpoint method with a single explicit Euler step at the start, as above for the scalar case. In general, a $n$th order IVP can be re-cast in this way as a first order IVP with $n$ dependent variables.\n",
    "\n",
    "For our example problem we obtain\n",
    "\n",
    "\\begin{equation}\n",
    "\\frac{\\mathrm{d}}{\\mathrm{d}t}\\begin{bmatrix}x\\\\y\\end{bmatrix}=\\begin{bmatrix}y\\\\-\\sin(t+\\pi/4)\\end{bmatrix}, \\qquad \\begin{bmatrix}x(0)\\\\y(0)\\end{bmatrix}=\\frac{1}{\\sqrt{2}}\\begin{bmatrix}1\\\\1\\end{bmatrix}.\n",
    "\\end{equation}\n",
    "\n",
    "The code below implements the algorithm for our example problem, using various step sizes to explore the effect on the error. From the output table it can be again seen that the errors scale with $h^2$:"
   ]
  },
  {
   "cell_type": "code",
   "execution_count": 4,
   "id": "bee33198",
   "metadata": {},
   "outputs": [
    {
     "name": "stdout",
     "output_type": "stream",
     "text": [
      "Step size \tError \t\tRatio\n",
      "0.01562500 \t0.00036135 \t3.96003168\n",
      "0.00781250 \t0.00009034 \t4.00004880\n",
      "0.00390625 \t0.00002258 \t4.00001220\n",
      "0.00195312 \t0.00000565 \t4.00000305\n",
      "0.00097656 \t0.00000141 \t4.00000079\n"
     ]
    }
   ],
   "source": [
    "err=[]                                  #Reset the error array\n",
    "\n",
    "# Define the first order ODE system\n",
    "def dXdt(t,X):\n",
    "  x,y=X\n",
    "  return np.array([y,-sin(t+pi/4)])\n",
    "\n",
    "X0=np.array([1,1])/sqrt(2)              #Initial condition\n",
    "\n",
    "for h in hvals: \n",
    "  t=np.arange(0,2*pi,h)                 #Domain\n",
    "  X=np.empty((len(t),2)); X[0]=X0;      #Two-column solution array\n",
    "  X[1]=X[0]+h*dXdt(t[0],X[0])           #Explicit Euler (1 step)\n",
    "\n",
    "  for k in range(1,len(t)-1):\n",
    "    X[k+1]=X[k-1]+2*h*dXdt(t[k],X[k])   #Midpoint rule (remaining steps)\n",
    "  \n",
    "  E = max(abs(xsol(t)-X[:,0]))          #Max error on domain\n",
    "  err.append(E)\n",
    "\n",
    "print_errs(hvals,err)                   #Print the errors"
   ]
  },
  {
   "cell_type": "markdown",
   "id": "74371269",
   "metadata": {},
   "source": [
    "### Second derivative rule \n",
    "\n",
    "For the partial differential equations that we will encounter later, it is not possible to rewrite them in the manner of a first order system. Therefore we will need to use the finite difference formulae for the higher derivatives. In preparation for this, we will demonstrate the basic technique using our example problem.\n",
    "\n",
    "Subsituting the second derivative midpoint formula into {eq}`6-6` gives\n",
    "\n",
    "\\begin{equation}\n",
    "\\frac{x_{k+1}-2x_k+x_{k-1}}{h^2}=\\sin\\left(t_k+\\frac{\\pi}{4}\\right) \\qquad \\implies \\qquad x_{k+1}=2x_k-x_{k-1}+h^2 \\sin\\left(t_k+\\frac{\\pi}{4}\\right)\n",
    "\\end{equation}\n",
    "\n",
    "Again, we require two starting points and it is natural for us to try using the explicit Euler formula for the first step. Unfortunately, it turns out that doing so contaminates the accuracy of the entire solution and results in global accuracy no better than $\\mathcal{O}(h)$, as demonstrated below:"
   ]
  },
  {
   "cell_type": "code",
   "execution_count": 5,
   "id": "6146afbb",
   "metadata": {},
   "outputs": [
    {
     "name": "stdout",
     "output_type": "stream",
     "text": [
      "Step size \tError \t\tRatio\n",
      "0.01562500 \t0.03478967 \t2.00519336\n",
      "0.00781250 \t0.01737225 \t2.00260000\n",
      "0.00390625 \t0.00868048 \t2.00130084\n",
      "0.00195312 \t0.00433883 \t2.00065063\n",
      "0.00097656 \t0.00216940 \t2.00001436\n"
     ]
    }
   ],
   "source": [
    "err=[]                               #Reset the error array\n",
    "\n",
    "d2xdt2 = lambda t,x : -sin(t+pi/4)   #Define 2nd order ODE\n",
    "x0 =1/sqrt(2); x0p=1/sqrt(2)         #Initial condition\n",
    "\n",
    "for h in hvals: \n",
    "  t=np.arange(0,2*pi,h)              #Domain\n",
    "  x=np.empty(t.shape); x[0]=x0;      #Solution array\n",
    "  x[1]=x0+h*x0p                      #Explicit Euler (1 step)\n",
    "\n",
    "  for k in range(1,len(t)-1):\n",
    "    x[k+1]=2*x[k]-x[k-1]+h**2*d2xdt2(t[k],x[k]) #Midpoint rule\n",
    "\n",
    "  E = max(abs(xsol(t)-x))            #Max error on domain\n",
    "  err.append(E)\n",
    "\n",
    "print_errs(hvals,err)                #Print the errors"
   ]
  },
  {
   "cell_type": "markdown",
   "id": "01673700",
   "metadata": {},
   "source": [
    "When we used the explicit Euler method for a single step in the first derivative form of this problem it worked ok, so why not here? \n",
    "\n",
    "The explanation is very subtle, but is due to the way that the second derivative formula propagates errors. It can be shown that the errors $E_k$ in midpoint formulae obey\n",
    "\n",
    "* 1st derivative: $\\quad\\  E_{k+1}=E_{k-1}+\\mathcal{O}(h^3)$\n",
    "* 2nd derivative: $\\quad E_{k+1} = 2E_k-E_{k-1}+\\mathcal{O}(h^3)$\n",
    "\n",
    "The error introduced by the explicit Euler formula in the first step is $E_1=\\mathcal{O}(h^2)$. Applying the above formulae recursively with this error gives a global error of $\\mathcal{O}(h^2)$ in the first derivative approximation and a global error of $\\mathcal{O}(h)$ in the second derivative approximation.\n",
    "\n",
    "So, we need to use a result for the first step that has the same order of accuracy as the midpoint method. There are lots of ways to do this, but we will use a technique that is based on the midpoint formula. We will be able to implement the same method later to also solve partial differential equations.\n",
    "\n",
    "The trick involves the introduction of a \"ghost point\" $x_{-1}$ outside the solution domain. Application of the midpoint rule to the initial condition for the derivative then gives the following result, which can be solved simultaneously with the update rule to obtain $x_1$ :\n",
    "\n",
    "\\begin{equation}\n",
    "\\frac{x_1-x_{-1}}{2h}=x_0^{\\prime}.\n",
    "\\end{equation}\n",
    "\n",
    "```{exercise}\n",
    "\n",
    "By combining the equation above with the second differerence update rule and initial value $x_0$, obtain a result for $x_1$. Replace the explicit Euler step with your result, and show the the global error is reduced to $\\mathcal{O}(h^2)$.\n",
    "```\n",
    "\n",
    "````{toggle}\n",
    "For this problem, we have the following rules\n",
    "\\begin{equation}\n",
    "x_{1}=2x_0-x_{-1}+h^2 x_0^{\\prime\\prime}, \\qquad x_1 = x_{-1}+2hx_0^{\\prime}.\n",
    "\\end{equation}\n",
    "\n",
    "Solving simultaneously gives \n",
    "\n",
    "\\begin{equation*}\n",
    "x_1=x_0+hx_0^{\\prime}+\\frac{h^2}{2} x_0^{\\prime\\prime}.\n",
    "\\end{equation*}\n",
    "\n",
    "This may be implemented by changing the one-step Euler calculation to:\n",
    "\n",
    "```{code}\n",
    "x[1]=x0+h*x0p+h**2/2*d2xdt2(0,x0)\n",
    "```\n",
    "\n",
    "You should see that the error then decreases quadratically with $h$.\n",
    "\n",
    "````\n",
    "\n",
    "\n",
    "```{warning}\n",
    "The moral of the story is that if we are using the second derivative formula we need to implement a second order boundary condition.\n",
    "```\n",
    "\n",
    "(cauchy_example)=\n",
    "## Chapter exercise\n",
    "\n",
    "Implement the midpoint method using the second derivative rule to solve the following second order linear IVP with step size $h=0.001$, and produce a plot of the errors:\n",
    "\n",
    "```{math}\n",
    ":label: 2order_cau\n",
    "\\ddot{x} + 2\\dot{x}+10 x = 0, \\qquad x(0)=1, \\quad \\dot{x}(0)=-1.\n",
    "```\n",
    "\n",
    "The analytic solution of this IVP is given by\n",
    "\n",
    "\\begin{equation}\n",
    "x = e^{-3t}\\cos(3t).\n",
    "\\end{equation}\n",
    "\n",
    "A plot of the analytic solution is shown below:"
   ]
  },
  {
   "cell_type": "code",
   "execution_count": 6,
   "id": "7e47144f",
   "metadata": {},
   "outputs": [
    {
     "data": {
      "image/png": "[encoded data removed]",
      "text/plain": [
       "<Figure size 640x480 with 1 Axes>"
      ]
     },
     "metadata": {
      "filenames": {
       "image/png": "C:\\Users\\Ella Metcalfe\\OneDrive - University College London\\GITBOOKS\\Finite-Differences\\_build\\jupyter_execute\\ivp\\cdiff_9_0.png"
      }
     },
     "output_type": "display_data"
    }
   ],
   "source": [
    "from numpy import arange,cos,exp\n",
    "import matplotlib.pyplot as plt\n",
    "plt.rcParams['axes.xmargin'] = 0\n",
    "\n",
    "h=0.01\n",
    "t=arange(0,10,h)\n",
    "xsol=exp(-t)*cos(3*t)\n",
    "plt.plot(t,xsol)\n",
    "plt.xlabel('$t$'); plt.ylabel('$x(t)$')\n",
    "plt.show()"
   ]
  }
 ],
 "metadata": {
  "jupytext": {
   "formats": "md:myst",
   "text_representation": {
    "extension": ".md",
    "format_name": "myst",
    "format_version": 0.13,
    "jupytext_version": "1.10.3"
   }
  },
  "kernelspec": {
   "display_name": "Python 3",
   "language": "python",
   "name": "python3"
  },
  "language_info": {
   "codemirror_mode": {
    "name": "ipython",
    "version": 3
   },
   "file_extension": ".py",
   "mimetype": "text/x-python",
   "name": "python",
   "nbconvert_exporter": "python",
   "pygments_lexer": "ipython3",
   "version": "3.9.13"
  },
  "source_map": [
   15,
   23,
   60,
   79,
   99,
   139,
   161,
   175,
   193,
   262
  ]
 },
 "nbformat": 4,
 "nbformat_minor": 5
}