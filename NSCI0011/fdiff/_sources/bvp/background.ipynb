{
 "cells": [
  {
   "cell_type": "code",
   "execution_count": 1,
   "id": "5f66f08f",
   "metadata": {
    "render": null,
    "tags": [
     "remove-input"
    ]
   },
   "outputs": [],
   "source": [
    "import numpy as np\n",
    "import matplotlib.pyplot as plt\n",
    "plt.rcParams['axes.xmargin'] = 0"
   ]
  },
  {
   "cell_type": "markdown",
   "id": "cab02f2d",
   "metadata": {},
   "source": [
    "# Preliminaries\n",
    "\n",
    "This chapter adapts the finite difference methods that we have studied so far to deal with cases where the problem constraints are given in the form of boundary conditions instead of initial values. This poses a difficulty as our iterative approach requires the solution at each step to be computed from the initial values. \n",
    "\n",
    "In this chapter we will consider two techniques that can be used to tackle boundary value problems with finite difference methods:\n",
    "\n",
    "* The \"shooting\" method makes repeated use of the explicit solution methods we developed in the previous chapters, with a root-finding algorithm used to \"guess\" the missing initial values\n",
    "* The matrix (linear algebra) method solves for all nodes of the system at once by setting up the finite difference scheme in the form of a system of algebraic equations to be solved simultaneously.\n",
    "\n",
    "## About the problem \n",
    "\n",
    "The term \"boundary value problem\" (BVP) refers to cases where the solution constraints for a differential equation are specified at the boundaries of the independent variable domain. This is in contrast to an IVP where all constraints are imposed at the same \"initial\" value of the independent variable.\n",
    "\n",
    "An example is the steady state equation for heat transer along a one-dimensional rod of length $L$, which is given by:\n",
    "\n",
    "\\begin{equation}\n",
    "T^{\\prime\\prime}(x)=0, \\qquad T(0)=a, \\quad T(L)=b.\n",
    "\\end{equation}\n",
    "\n",
    "The boundary conditions here impose the temperature at each end of the rod. The solution exhibits a constant temperature gradient:\n",
    "\n",
    "\\begin{equation}\n",
    "\\frac{T-a}{x}=\\frac{b-a}{L}.\n",
    "\\end{equation}\n",
    "\n",
    "Unlike IVPs, a boundary value problem (BVP) may have no solutions or infinitely many solutions. For example, the following problem is satisfied by $y=A\\sin(x)$ for all values of the constant $A$ :\n",
    "\n",
    "\\begin{equation}\n",
    "y^{\\prime\\prime}+y=0, \\qquad y(0)=y(2\\pi)=0.\n",
    "\\end{equation}\n",
    "\n",
    "```{note}\n",
    "To solve a boundary value problem numerically, it needs to be well-defined, with a unique solution. The problem given in {numref}`cauchy_example` is not straightforward to define as a boundary value problem because its general solution decays as $t\\to\\infty$ for all initial conditions:\n",
    "\\begin{equation*}\n",
    "x = e^{-t}(A\\cos(3t)+B\\sin(3t)),\n",
    "\\end{equation*}\n",
    "```\n",
    "\n",
    "BVPs are also more tricky to attack by finite difference method, since information is communicated through the solution domain from *both* boundaries. For example, consider the manner in which the solution profile of the heated/cooled rod is influenced by the temperature at both ends of the domain. This prevents us from easily constructing a solution by forward stepping.\n",
    "\n",
    "\n",
    "### Discretisation \n",
    "\n",
    "Before we go on to introduce these methods, we first revisit our method for discretising the domain. Up to now we have found it convenient to use `np.arange`, which allows us to set the step size $h$. However, if we do not choose a step size that accurately subdivides the domain, we will \"miss\" the endpoint where the boundary condition is to be imposed.\n",
    "\n",
    "We can ensure that the right-hand boundary is included in the discretised domain by using `np.linspace`. The relationship between the number of steps $n$ and the step size $h$ on an interval $[a,b]$ is given by \n",
    "\n",
    "\\begin{equation}\n",
    "h = \\frac{b-a}{n-1}\n",
    "\\end{equation}\n",
    "\n",
    "Therefore if we want to subdivide an interval with an approximate step size $h$, we can use a method like follows:"
   ]
  },
  {
   "cell_type": "code",
   "execution_count": 2,
   "id": "59b8626c",
   "metadata": {},
   "outputs": [],
   "source": [
    "def discretise(a,b,h_appr):\n",
    "    n=int(np.ceil((b-a)/h_appr) +1) #steps required\n",
    "    t=np.linspace(a,b,n)            #discretised domain\n",
    "    h=t[1]-t[0]                     #computed step size\n",
    "    return t,h"
   ]
  },
  {
   "cell_type": "markdown",
   "id": "a153cbee",
   "metadata": {},
   "source": [
    "## Shooting method\n",
    "\n",
    "The basic idea behind the shooting method is to \"guess\" the intial value required to implement an explicit forward-stepping technique. The solution can be compared to the boundary condition to evaluate how good the guess was. The guess can be repeatedly modified using a root-finding technique to obtain a value which works.\n",
    "\n",
    "An illustration of the rule is provided below for the case of a second order derivative scalar problem, involving dependent variable $x$ with boundary values $\\alpha$ and $\\beta$ :\n",
    "\n",
    "<br>\n",
    "\n",
    "```{image} ../images/shooting_idea.png\n",
    ":alt: secant\n",
    ":align: center\n",
    ":scale: 80%\n",
    "```\n",
    "<br>\n",
    "\n",
    "The algorithm is fairly straightforward to implement. However, it does not generalise well to solve PDE problems.\n",
    "\n",
    "### Example: Blasius boundary layer \n",
    "\n",
    "To demonstrate the shooting technique, we will consider the following third order problem, which describes the velocity profile $f^{\\prime}(y)$ that forms over a flat plate in an oncoming stream of constant velocity fluid.\n",
    "\n",
    "\\begin{equation}\n",
    "f^{\\prime\\prime\\prime}(y)+f(y)f^{\\prime\\prime}(y)=0, \\quad f(0)=f^{\\prime}(0)=0, \\quad \\lim_{y\\to\\infty}f^{\\prime}(y)=1\n",
    "\\end{equation}\n",
    "\n",
    "```{note}\n",
    "In all of the previous problems we have used variables $(t,x)$, but here we are using $(y,f).$ Try not to get confused by the change of notation! \n",
    "```\n",
    "\n",
    "Taking $\\underline{u}=(u,v,w)$ where $u=f(y)$, $v=f^{\\prime}(y)$, $w=f^{\\prime\\prime}(y)$ allows us to rewrite the problem as a first order system:\n",
    "\n",
    "\\begin{equation}\n",
    "\\frac{\\mathrm{d}\\underline{u}}{\\mathrm{d}y}=F(y,\\underline{u}), \\qquad \n",
    "F(y,\\underline{u})=\\begin{bmatrix}v\\\\w\\\\-uw\\end{bmatrix}, \\qquad \\underline{u}(0)=\\begin{bmatrix}0\\\\0\\\\c\\end{bmatrix}.\n",
    "\\end{equation}\n",
    "\n",
    "The value $c$ needs to be chosen such that $v_{\\infty}=1$. In the following application we assume that the solution has converged by $y~10$, and take this to represent the domain boundary."
   ]
  },
  {
   "cell_type": "code",
   "execution_count": 3,
   "id": "872b8137",
   "metadata": {},
   "outputs": [],
   "source": [
    "# Define the first order ODE system\n",
    "def dUdy(y,U):\n",
    "  u,v,w=U\n",
    "  return np.array([v,w,-u*w])\n",
    "\n",
    "y,h=discretise(0,10,0.01)  #Domain (taking inf ~=10)\n",
    "U=np.empty((len(y),3));    #Two-column solution array\n",
    "U[0,0]=0                   #Initial condition u0=f0\n",
    "U[0,1]=0                   #Initial condiiton v0=f0'"
   ]
  },
  {
   "cell_type": "markdown",
   "id": "bc54b66d",
   "metadata": {},
   "source": [
    "We'll use the modified Euler method, which is an explicit two stage method. It is based on the trapezoidal rule, with the explicit Euler method used to esimate $U_{k+1}$ in the first stage:\n",
    "\n",
    "\\begin{align}\n",
    "\\bar{U}_{k+1}&=U_k+hF(y_k,U_k)\\\\\n",
    "U_{k+1}&=U_k+\\frac{h}{2}(F(y_k,U_k)+F(y_{k+1},\\bar{U}_{k+1}))\n",
    "\\end{align}\n",
    "\n",
    "The following function applies the method for a given initial condition $c$ and computes the error in the estimate for $v_{\\infty}$"
   ]
  },
  {
   "cell_type": "code",
   "execution_count": 4,
   "id": "a1f12af2",
   "metadata": {},
   "outputs": [],
   "source": [
    "def shoot(c):\n",
    "  U[0,2]=c                      #Guess for w0=f0''\n",
    "  for k in range(0,len(y)-1):\n",
    "    Fk=dUdy(y[k],U[k])          #F(t_k,U_k)\n",
    "    Fe=dUdy(y[k+1],U[k]+h*Fk)   #F(t_{k+1},U_k+hF_k)\n",
    "    U[k+1]=U[k]+h/2*(Fk+Fe)     #modified Euler\n",
    "  return np.abs(U[-1,1]-1)      #error in f'(inf)"
   ]
  },
  {
   "cell_type": "markdown",
   "id": "4afa301b",
   "metadata": {},
   "source": [
    "Applying the method with initial guess $f^{\\prime\\prime}(0)=0.3$ and plotting the result for the Blaius profile $f^{\\prime}(y)$ :"
   ]
  },
  {
   "cell_type": "code",
   "execution_count": 5,
   "id": "699e224e",
   "metadata": {},
   "outputs": [
    {
     "data": {
      "image/png": "[encoded data removed]",
      "text/plain": [
       "<Figure size 640x480 with 1 Axes>"
      ]
     },
     "metadata": {
      "filenames": {
       "image/png": "C:\\Users\\Ella Metcalfe\\OneDrive - University College London\\GITBOOKS\\Finite-Differences\\_build\\jupyter_execute\\bvp\\background_8_0.png"
      }
     },
     "output_type": "display_data"
    }
   ],
   "source": [
    "# Find the root for f0''\n",
    "from scipy.optimize import fsolve \n",
    "res = fsolve(shoot, 0.3)\n",
    "\n",
    "plt.plot(y,U[:,1])\n",
    "plt.xlabel('$y$')\n",
    "plt.ylabel('$f^{\\prime}(y)$')\n",
    "plt.show()"
   ]
  },
  {
   "cell_type": "markdown",
   "id": "97b059b8",
   "metadata": {},
   "source": [
    "(dirode)=\n",
    "## Matrix method \n",
    "\n",
    "The shooting method can be an attractive and effective way to solve a BVP that involves a single independent variable. However, it is difficult to see how it might be adapted to solve a partial BVP. \n",
    "\n",
    "The method that we will introduce next can be used for both ODEs and PDEs. It involves labelling every node in the discretised solution domain and using the finite difference rules to write down their governing algebraic equations. Efficient linear algebra routines can be used to simultaneously solve these systems.\n",
    "\n",
    "### Example: 2nd order ODE\n",
    "\n",
    "We will start by demonstating the technique for the following second order BVP:\n",
    "\n",
    "\\begin{equation*}\n",
    "\\ddot{x}+\\dot{x}-6x=0, \\qquad x(0)=1,\\quad x(1)=2.\n",
    "\\end{equation*}\n",
    "\n",
    "Application of the midpoint difference rules gives the a system of linear equations: \n",
    "\n",
    "\\begin{equation}\n",
    "(1-h/2)x_{k-1}-(2+6h^2)x_k+(1+h/2)x_{k+1}=0.\n",
    "\\end{equation}\n",
    "\n",
    "We can write this as a matrix system involving variables $x_0,\\dots x_n$. The fixed value boundary conditions can be implemented in the first and last rows and we obtain the following matrix system to solve.\n",
    "\n",
    "```{math}\n",
    ":label: dirmatr1\n",
    "\\left[\\begin{array}{cccccc}\n",
    "1 &0 & 0 & 0 & \\dots & 0\\\\\n",
    "1-h/2 & -(2+6h^2) & 1+h/2 & 0 & \\ddots &\\vdots\\\\\n",
    "0 & 1-h/2 & -(2+6h^2) & 1+h/2 & \\ddots&\\vdots\\\\\n",
    "\\vdots& \\ddots & \\ddots &\\ddots &\\ddots & 0\\\\\n",
    "0 & \\ddots & 0& 1-h/2 & -(2+6h^2) & 1+h/2\\\\\n",
    "0 &\\dots & 0 & 0 & 0 & 1\\end{array}\\right]\n",
    "\\left[\\begin{array}{cc} x_0\\phantom{\\vdots}&\\\\y_1&\\phantom{\\vdots}\\\\x_2\\phantom{\\vdots}&\\\\ \\vdots&\\\\x_{n-1}\\\\x_n\\end{array}\\right]=\\left[\\begin{array}{cc}1&\\phantom{\\vdots}\\\\0&\\phantom{\\vdots}\\\\0&\\phantom{\\vdots}\\\\\\vdots&\\\\0\\\\2\\end{array}\\right]\n",
    "```\n",
    "\n",
    "The $(n+1)\\times(n+1)$ tri-diagonal matrix has diagonal coefficients $\\biggr[1-h/2,-(2+6h^2),1+h/2\\biggr]$, except for the first and last rows which are used to implement the boundary conditions.\n",
    "\n",
    "\n",
    "You can solve the simultaneous system in Python by using the `solve` function from numpy's linear algebra module (`linalg`). An implementation is shown below, in which matrix $A$ is constructed using `numpy.diag`. This function  can be used to create an array with the given data on the $k$th diagonal and zeros everywhere else:"
   ]
  },
  {
   "cell_type": "code",
   "execution_count": 6,
   "id": "0d72b1f6",
   "metadata": {
    "render": {
     "image": {
      "align": "center"
     }
    }
   },
   "outputs": [
    {
     "data": {
      "image/png": "[encoded data removed]",
      "text/plain": [
       "<Figure size 640x480 with 1 Axes>"
      ]
     },
     "metadata": {
      "filenames": {
       "image/png": "C:\\Users\\Ella Metcalfe\\OneDrive - University College London\\GITBOOKS\\Finite-Differences\\_build\\jupyter_execute\\bvp\\background_10_0.png"
      }
     },
     "output_type": "display_data"
    }
   ],
   "source": [
    "from numpy import diag,ones,zeros,linalg,arange\n",
    "\n",
    "# Define the nodes\n",
    "t,h=discretise(0,1,0.01)\n",
    "#---------------------------------------------------------------\n",
    "# Construct tridiagonal matrix A and vector b\n",
    "# Initially we ignore the BCs:\n",
    "\n",
    "c1,c2,c3= [1-h/2, -2-6*h**2, 1+h/2]\n",
    "n=len(t)\n",
    "\n",
    "A = diag([c1]*(n-1),k=-1) + \\\n",
    "    diag([c2]*n,    k=0)  + \\\n",
    "    diag([c3]*(n-1),k=1)\n",
    "\n",
    "b = zeros((n,1))\n",
    "\n",
    "# Now enforce the BCs: \n",
    "A[0, [ 0, 1, 2]]=[1,0,0]; b[0 ] = 1  # x(0)\n",
    "A[-1,[-3,-2,-1]]=[0,0,1]; b[-1] = 2  # x(1)\n",
    "\n",
    "#---------------------------------------------------------------\n",
    "# Solve the matrix system numerically\n",
    "x= linalg.solve(A,b)\n",
    "\n",
    "plt.plot(t,x)\n",
    "plt.xlabel('t'); plt.ylabel('x')\n",
    "plt.show()"
   ]
  },
  {
   "cell_type": "markdown",
   "id": "b2493259",
   "metadata": {},
   "source": [
    "```{exercise}\n",
    "Other techniques could be used to create the tridiagonal matrix. Can you do it with a loop-based technique?\n",
    "```\n",
    "\n",
    "````{toggle}\n",
    "Here is an example of how it could be done:\n",
    "\n",
    "```{code}\n",
    "M = zeros([n,n])\n",
    "for k in range(1,n-1):\n",
    "  M[k,[k-1,k,k+1]]=[c1,c2,c3]\n",
    "M[0,0]=1; M[-1,-1]=1\n",
    "np.array_equal(A,M) #test\n",
    "```\n",
    "````\n",
    "\n",
    "### For Python gurus\n",
    "\n",
    "The matrix calculations above are resource-intensive. The size of the coefficient matrix is quadratically dependent on the number of data points, and numerically solving the system requires a very large number of \"flops\" (floating point operations). I tried decreasing the step size to `h=0.0001` and the calculation took more than 10 seconds on my fairly standard three-year-old desktop computer.\n",
    "\n",
    "However, you may notice that matrix $A$ in the above example is relatively \"sparse\". Only three of the digaonals contain non-zero elements. Instead of recoding every element, we may therefore want to record only the indexed locations and values of the non-zero elements. This type of representation may require less memory to store, and can allow use of highly efficient algorithms designed for sparse matrices.\n",
    "\n",
    "An example implementation is given below. This code took less than two seconds to run on an fairly standard desktop computer and less than 3Mb of memory were required to store matrix $A$. The equivalent \"dense\" representation for this step size would have required around 75 Gigabytes!"
   ]
  },
  {
   "cell_type": "code",
   "execution_count": 7,
   "id": "da8ef0d8",
   "metadata": {},
   "outputs": [
    {
     "name": "stdout",
     "output_type": "stream",
     "text": [
      "Compuation time (s) :  1.0492944717407227\n",
      "Memory (Mb) :  2.3999919999999997\n"
     ]
    },
    {
     "data": {
      "image/png": "[encoded data removed]",
      "text/plain": [
       "<Figure size 640x480 with 1 Axes>"
      ]
     },
     "metadata": {
      "filenames": {
       "image/png": "C:\\Users\\Ella Metcalfe\\OneDrive - University College London\\GITBOOKS\\Finite-Differences\\_build\\jupyter_execute\\bvp\\background_12_1.png"
      }
     },
     "output_type": "display_data"
    }
   ],
   "source": [
    "import time\n",
    "# Define the nodes\n",
    "t,h=discretise(0,1,0.00001); n=len(t)\n",
    "\n",
    "from scipy import sparse\n",
    "import scipy.sparse.linalg\n",
    "\n",
    "T = time.time()\n",
    "A = sparse.lil_matrix((n, n))\n",
    "b = sparse.lil_matrix((n, 1))\n",
    "c1,c2,c3= [1-h/2, -2-6*h**2, 1+h/2]\n",
    "A.setdiag([c1]*(n-1),k=-1)\n",
    "A.setdiag([c2]*(n),  k=0 )\n",
    "A.setdiag([c3]*(n-1),k=1 )\n",
    "A[0, [ 0, 1, 2]]=[1,0,0]; b[0 ] = 1  # x(0)\n",
    "A[-1,[-3,-2,-1]]=[0,0,1]; b[-1] = 2  # x(1)\n",
    "A = A.tocsr(); b=b.tocsr()\n",
    "\n",
    "x=sparse.linalg.spsolve(A,b)\n",
    "print('Compuation time (s) : ',time.time()-T)\n",
    "print('Memory (Mb) : ',(A.data.nbytes)*1e-6)    #size of A in Mb\n",
    "\n",
    "plt.plot(t,x)\n",
    "plt.show()\n"
   ]
  },
  {
   "cell_type": "markdown",
   "id": "00f62c76",
   "metadata": {},
   "source": [
    "(matrix-cauchy)=\n",
    "## Ghost points \n",
    "\n",
    "Some BVPs requre a derivative condtion to be imposed on one or both boundaries. Solving these problems will require the introduction of ghost points, as we did in the second derivative problems in the last chapter. \n",
    "\n",
    "The ghost point variables can be included in our matrix method, and these points can be removed from the solution array at the end.\n",
    "\n",
    "As an example, consider the following matrix representation of the problem given in {numref}`cauchy_example` :\n",
    "\n",
    "\\begin{equation}\n",
    "\\left[\\begin{array}{c|ccccc}-1 &0 &1 & 0 & \\dots & 0&\\\\\\hline0 &1 &0 & 0 & \\ddots &\\vdots\\\\1-h & -2+10h^2 & 1+h & 0 & \\ddots &\\vdots\\\\0 & 1-h & -2+10h^2 & 1+h & \\ddots&\\vdots\\\\\\vdots& \\vdots & \\ddots &\\ddots &\\ddots & 0\\\\0 & \\dots & 0& 1-h & -2+10h^2 & 1+h\\end{array}\\right]\\left[\\begin{array}{cc}x_{-1}&\\\\\\hline x_0\\vphantom{\\ddots}&\\\\x_1&\\vphantom{\\ddots}\\\\x_2\\vphantom{\\ddots}&\\\\ \\vdots\\vphantom{\\ddots}&\\\\x_N\\vphantom{h^2}\\end{array}\\right]=\\left[\\begin{array}{cc}-2h&\\\\\\hline1&\\vphantom{\\ddots}\\\\0&\\vphantom{\\ddots}\\\\0&\\vphantom{\\ddots}\\\\\\vdots\\vphantom{\\ddots}&\\\\0\\vphantom{h^2}\\end{array}\\right]\n",
    "\\end{equation}\n",
    "\n",
    "<br>\n",
    "\n",
    "\n",
    "```{admonition} Note\n",
    ":class: theorem\n",
    "The reason the coefficients are not centred on the main diagonal is because the first two rows are used to implement the boundary conditions.\n",
    "```\n",
    "\n",
    "If you are struggling to understand where the result comes from, write down the some of the simultaneous equations that you get by multipliying out the matrix product.\n",
    "\n",
    "```{toggle}\n",
    "The first row implements the derivative boundary condition: <br>\n",
    "$\\qquad \\qquad -x_{-1}+x_{1}=-2h$\n",
    "\n",
    "The second row implements the fixed boundary condition: <br>\n",
    "$\\qquad \\qquad x_0=1$\n",
    "\n",
    "The third row implements the central difference formula: <br> \n",
    "$\\qquad \\qquad (1-h)x_{-1}+(-2+10h^2)x_0+(1+h)x_1=0$\n",
    "\n",
    "etc.\n",
    "\n",
    "___________\n",
    "```\n",
    "\n",
    "\n",
    "\n",
    "The result obtained by numerically solving this system is shown below."
   ]
  },
  {
   "cell_type": "code",
   "execution_count": 8,
   "id": "b7f82953",
   "metadata": {
    "render": {
     "image": {
      "align": "center"
     }
    },
    "tags": [
     "hide-input"
    ]
   },
   "outputs": [
    {
     "data": {
      "image/png": "[encoded data removed]",
      "text/plain": [
       "<Figure size 640x480 with 1 Axes>"
      ]
     },
     "metadata": {
      "filenames": {
       "image/png": "C:\\Users\\Ella Metcalfe\\OneDrive - University College London\\GITBOOKS\\Finite-Differences\\_build\\jupyter_execute\\bvp\\background_14_0.png"
      }
     },
     "output_type": "display_data"
    }
   ],
   "source": [
    "# Define the nodes\n",
    "t,h=discretise(0,10,0.001); n=len(t)\n",
    "\n",
    "\n",
    "A = sparse.lil_matrix((n+1, n+1))\n",
    "b = sparse.lil_matrix((n+1, 1))\n",
    "c1,c2,c3= [1-h, -2+10*h**2, 1+h]\n",
    "A.setdiag([c1]*(n-1),k=-2)\n",
    "A.setdiag([c2]*(n),  k=-1 )\n",
    "A.setdiag([c3]*(n+1),k=0 )\n",
    "A[0,[0,1,2]] = [-1,0,1]; b[0 ] = -2*h  # x'(0)\n",
    "A[1, [0,1,2]] = [0,1,0]; b[1] = 1  # x(0)\n",
    "A = A.tocsr(); b=b.tocsr()\n",
    "\n",
    "x=sparse.linalg.spsolve(A,b)\n",
    "x = x[1:]                       #remove ghost point\n",
    "\n",
    "plt.plot(t,x)\n",
    "plt.show()"
   ]
  },
  {
   "cell_type": "markdown",
   "id": "6c662860",
   "metadata": {},
   "source": [
    "```{note}\n",
    "It should be noted that the problem given in {numref}`cauchy_example` is an IVP and therefore can be solved by iterative methods. We would not use a (less efficient) matrix method for such a problem! However, this example was used to illustrate how a derivative condition at a boundary can be implemented.\n",
    "```\n",
    "\n",
    "## Chapter exercises\n",
    "\n",
    "**Question 1**<br>\n",
    "\n",
    "The second derivative problem for the logistic function that we saw in {eq}`ord2logist` could be written as a BVP by imposing the following conditions:\n",
    "\n",
    "\\begin{equation}x(0)=C/2, \\quad \\lim_{t\\to\\infty}x = C.\\end{equation}\n",
    "\n",
    "How easy do you think this problem would be to solve numerically, given what you know about the second derivative equation from the previous section?\n",
    "\n",
    "**Question 2**<br>\n",
    "Apply the matrix solution approach to solve following equation using a central finite difference scheme\n",
    "```{math}\n",
    ":label: cdiffsin\n",
    "u^{\\prime\\prime}(x)=\\sin(2\\pi x), \\qquad u(0)=0, \\quad u(1)=0\n",
    "```\n",
    "\n",
    "\n",
    "**Question 3**<br>\n",
    "The image below shows a cross-section of pipe insulation, which is subjected to temperatures $\\phi=500K$ on the inner boundary and $\\phi=300K$ on the outer boundary. The radial and axial directions are denoted by $r,\\theta$, respectively.\n",
    "\n",
    "<br>\n",
    "\n",
    "```{image} ../images/lagging.png\n",
    ":alt: secant\n",
    ":align: center\n",
    ":scale: 40%\n",
    "```\n",
    "<br>\n",
    "\n",
    "Due to axial symmetry of the problem, the governing two-dimensional heat equation $\\nabla^2\\phi=0$ for this problem can be reduced to\n",
    "```{math}\n",
    ":label: heateqn\n",
    "\\frac{\\partial^2\\phi}{\\partial r^2}+\\frac{1}{r}\\frac{\\partial \\phi}{\\partial r}=0.\n",
    "```\n",
    "\n",
    "Express equation {eq}`heateqn` in finite difference form, using a central difference scheme, and use a matrix method to solve for $r\\in[0.05,0.10]$.\n",
    "\n",
    "Graphically compare your answer to the analytic solution, which is given by\n",
    "\\begin{equation*}\\phi = 200\\frac{\\ln(0.10)-\\ln(r)}{\\ln(2)} +300.\\end{equation*}"
   ]
  }
 ],
 "metadata": {
  "jupytext": {
   "formats": "md:myst",
   "text_representation": {
    "extension": ".md",
    "format_name": "myst",
    "format_version": 0.13,
    "jupytext_version": "1.10.3"
   }
  },
  "kernelspec": {
   "display_name": "Python 3",
   "language": "python",
   "name": "python3"
  },
  "language_info": {
   "codemirror_mode": {
    "name": "ipython",
    "version": 3
   },
   "file_extension": ".py",
   "mimetype": "text/x-python",
   "name": "python",
   "nbconvert_exporter": "python",
   "pygments_lexer": "ipython3",
   "version": "3.9.13"
  },
  "source_map": [
   15,
   23,
   78,
   84,
   124,
   134,
   145,
   153,
   157,
   166,
   209,
   244,
   270,
   296,
   341,
   368
  ]
 },
 "nbformat": 4,
 "nbformat_minor": 5
}