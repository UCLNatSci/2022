{
 "cells": [
  {
   "cell_type": "markdown",
   "id": "aa16126e",
   "metadata": {},
   "source": [
    "# Formulae\n",
    "\n",
    "This chapter introduces finite difference formulae for the first and second derivative, which are found from Taylor's series. After completing this chapter you should:\n",
    "\n",
    "* Recognise the forward and central difference formule for the first and second derivatives, and state their order of accuracy\n",
    "\n",
    "* Be able to implement the forward and central difference formulae to numerically estimate first and second derivatives\n",
    "\n",
    "\n",
    "## General idea\n",
    "\n",
    "\n",
    "We can derive other finite difference formulas from Taylor's series, by taking weighted sums of expansions about different points to eliminate unwanted terms in the series. Some of them are favoured because they exhibit higher order accuracy than Euler's formula {eq}`eeulerr`, whilst others may be favoured in practical applications for their numeric stability, computational efficiency or ease of practical implementation. \n",
    "\n",
    "A few examples of finite difference formulas are given below, though this list is far from exhaustive. You may notice that the forward, backward and central differences formulae are simply location-shifted versions of each other. However, this property does not extend to other finite difference formulae.\n",
    "\n",
    "## First derivative formulae\n",
    "\n",
    "<br>\n",
    "\n",
    "**Forward difference** (order $h$ accuracy) :\n",
    "\n",
    "The result is obtained by expanding taking $x=(x_k+h)$,  $a=x_k$ in the Taylor expansion. It is called forward differences because it uses a forward step (from $x_k$ to $x_{k+1}$) to estimate the derivative.\n",
    "\n",
    "```{math}\n",
    ":label: forward1\n",
    "\\begin{align}\n",
    "y_{k+1}&=y_k + h y^{\\prime}_k + \\frac{h^2}{2!}y^{\\prime\\prime}_k +\\frac{h^3}{3!}y^{\\prime\\prime\\prime}_k + \\frac{h^4}{4!}y^{(4)}_k + \\frac{h^5}{5!}y^{(5)}_k + \\dots \\qquad \\text{where }  y_{k+1}=y(x_k+h)\\\\\n",
    "&\\Rightarrow \\quad y^{\\prime}_k= \\frac{y_{k+1}-y_k}{h} + h\\left[-\\frac{1}{2}y^{\\prime\\prime}_k - \\frac{h}{3!}y^{\\prime\\prime\\prime}_k - \\frac{h^2}{4!}y^{(4)}_k - \\frac{h^3}{5!}y^{(5)}_k + \\dots\\right]\n",
    "\\end{align}\n",
    "```\n",
    "\n",
    "The forward difference formula gives an estimate of the derivative at the interior points $[x_1,x_2,x_3,\\dots,x_{n-1}]$. Computing the derivative at $x_n$ requires the function value $y$ at the exterior point $x_{n+1}$ as discussed previously.\n",
    "\n",
    "<br>\n",
    "\n",
    "**Backward difference** (order $h$ accuracy) :\n",
    "\n",
    "The result is obtained by expanding taking $x=x_k$,  $a=(x_k+h)$ in the Taylor expansion. It is called backward differences because it uses a backward step (from $x_k$ to $x_{k-1}$) to estimate the derivative.\n",
    "\n",
    "```{math}\n",
    ":label: backwards1\n",
    "\\begin{align}\n",
    "y_{k-1}&=y_k - h y^{\\prime}_k + \\frac{h^2}{2!}y^{\\prime\\prime}_k -\\frac{h^3}{3!}y^{\\prime\\prime\\prime}_k + \\frac{h^4}{4!}y^{(4)}_k - \\frac{h^5}{5!}y^{(5)}_k + \\dots \\qquad \\text{where }  y_{k-1}=y(x_k-h)\\\\\n",
    "&\\Rightarrow \\quad y^{\\prime}_k = \\frac{y_{k}-y_{k-1}}{h} + h\\left[\\frac{1}{2}y^{\\prime\\prime}_k - \\frac{h}{3!}y^{\\prime\\prime\\prime}_k + \\frac{h^2}{4!}y^{(4)}_k - \\frac{h^3}{5!}y^{(5)}_k + \\dots\\right]\n",
    "\\end{align}\n",
    "```\n",
    "\n",
    "The backward difference formula gives an estimate of the derivative at the interior points $[x_2,x_3,\\dots,x_{n}]$. Computing the derivative at $x_1$ requires the function value $y$ at the exterior point $x_{0}$.\n",
    "\n",
    "<br>\n",
    "\n",
    "**Central difference** (order $h^2$ accuracy):\n",
    "\n",
    "The result is obtained by subtracting the backward difference expression {eq}`backwards1` from the forward difference expression {eq}`forward1`. It is called central differences because it uses both a backward step and a forward step to estimate the derivative.\n",
    "\n",
    "```{math}\n",
    ":label: central1a\n",
    "y^{\\prime}_{k} = \\frac{y_{k+1} - y_{k-1}}{2h}+h^2\\left[-\\frac{2}{3}y^{\\prime\\prime}_k+\\dots\\right]\n",
    "```\n",
    "\n",
    "The central difference formula gives an estimate of the derivative at the interior points $[x_2,x_3,\\dots,x_{n-1}].$ Computing the derivative at the two end points $x_1$ and $x_n$ requires the function value $y$ at the exterior points $x_{0}$ and $x_{n+1}$\n",
    "\n",
    "\n",
    "\n",
    "```{exercise} hand derivation\n",
    "\n",
    "The given results for the first derivative all require only two points to calculate. Can you derive a result from the Taylor series that uses three points $[y_k,y_{k+1},y_{k+2}]$ to calculate an estimate of the first derivative $y^{\\prime}(x_k)$ that gives quadratic order accuracy?\n",
    "\n",
    "**Hint:** Start by expanding $y(x_k+2h)$ and $y(x_{k}+h)$ and use a weighted combination of these two expansions that eliminates the second derivative terms.\n",
    "```\n",
    "\n",
    "```{toggle}\n",
    "\n",
    "  $y(x_k+2h)=y(x_k)+2h y^{\\prime}(x_k)+\\frac{4h^2}{2}y^{\\prime\\prime}(x_k)+\\frac{8h^3}{6}y^{\\prime\\prime\\prime}(x_k)+\\dots$\n",
    "\n",
    "  $y(x_k+h)=y(x_k)+h y^{\\prime}(x_k)+h y^{\\prime}(x_k)+\\frac{h^2}{2}y^{\\prime\\prime}(x_k)+\\frac{h^3}{6}y^{\\prime\\prime\\prime}(x_k)+\\dots$\n",
    "\n",
    "  Subtracting four lots of the second equation from the first gives:\n",
    "\n",
    "  $y(x_k+2h)-4y(x_k+h)=3y(x_k)-2hy^{\\prime}(x_k)+\\frac{4h^3}{6}y^{\\prime\\prime\\prime}(x_k)+\\dots$\n",
    "\n",
    "  which rearranges to:\n",
    "\n",
    "  \\begin{equation*}y^{\\prime}(x_k)=\\frac{-3y(x_k)+4y(x_k+h)-y(x_k+2h)}{2h}+\\frac{h^3}{3}y^{\\prime\\prime\\prime}(x_k).\\end{equation*}\n",
    "\n",
    "```\n",
    "\n",
    "\n",
    "## Central method\n",
    "\n",
    "The central difference formula gives an estimate of the derivative in between points $y_{k-1}$ and $y_{k+1}$. We could adjust the formula to obtain the derivative between points $y_k$ and $y_{k+1}$ by writing the following, where $+1/2$ in the subscript denotes a half-step.\n",
    "\n",
    "```{math}\n",
    ":label: midp12\n",
    "y^{\\prime}_{k+1/2} = \\frac{y_{k+1}-y_k}{x_{k+1}-x_k}+\\mathcal{O}(h^2)\n",
    "```\n",
    "\n",
    "We have shown algebraically that the central difference formula is more accurate than the forward or backward difference formulae. We can also understand this graphically by noticing that the straight line connecting two data points usually gives a more accurate estimate of the slope at the mid-point of the interval, rather than at the left-hand point. The graphic below depicts this claim:\n",
    "\n",
    "\n",
    "```{figure} images/midpoint.png\n",
    "---\n",
    "name: midpoint-rule\n",
    "---\n",
    "The line connecting two points on a curve generally estimates the slope of the curve better at the midpoint of the interval than at the ends.\n",
    "```\n",
    "\n",
    "### Numeric error analysis\n",
    "\n",
    "A comparison of the errors in the forward and central difference formulae is given below for the example of differentiating the function\n",
    "\n",
    "\\begin{equation*}\n",
    "y=\\sin(x)+x.\n",
    "\\end{equation*}\n",
    "\n",
    "The code uses the `fdiff` function that was defined in {numref}`guru1`."
   ]
  },
  {
   "cell_type": "code",
   "execution_count": 1,
   "id": "4dd43556",
   "metadata": {
    "render": null,
    "tags": [
     "remove-input"
    ]
   },
   "outputs": [],
   "source": [
    "from numpy import pi, sin, cos, diff, abs\n",
    "import numpy as np\n",
    "import matplotlib.pyplot as plt\n",
    "def fdiff(f,xRange,h=1e-3):\n",
    "    \n",
    "    #Construct datapoints (x,y=f(x))\n",
    "    xmin,xmax=xRange\n",
    "    stop=xmax+2*h\n",
    "    x = np.arange(xmin,stop,h)\n",
    "    y = f(x)\n",
    "\n",
    "    #Apply finite difference formula\n",
    "    ydiff = y[1:]-y[0:-1]\n",
    "    xdiff = x[1:]-x[0:-1]\n",
    "    yd = ydiff/xdiff\n",
    "    \n",
    "    #Datapoints of func and derivative\n",
    "    return x[0:-1],y[0:-1],yd"
   ]
  },
  {
   "cell_type": "markdown",
   "id": "47547d38",
   "metadata": {},
   "source": [
    "```{code}\n",
    "\n",
    "# Analytic function and derivative\n",
    "f = lambda x: sin(x)+x\n",
    "fp= lambda x: cos(x)+1 \n",
    "\n",
    "# Apply finite difference formula\n",
    "h=1e-3\n",
    "xf,_,yd=fdiff(f,[-pi,pi],h)\n",
    "\n",
    "xm=xf+h/2         #midpoint x values\n",
    "errf = yd-fp(xf)  #error using forward estimate\n",
    "errm = yd-fp(xm)  #error using central estimate\n",
    "\n",
    "\n",
    "plt.semilogy(xf,abs(errf),label='Forward difference')\n",
    "plt.semilogy(xm,abs(errm),label='Central difference')\n",
    "plt.legend()\n",
    "plt.show()\n",
    "```\n",
    "\n",
    "```{figure} images/fwd_mid_errors.png\n",
    "---\n",
    "name: num-errors\n",
    "---\n",
    "Errors in the numeric derivative of $y=\\sin(x)+x$ on $[-\\pi,\\pi]$ with `h=1e-3`.\n",
    "```\n",
    "\n",
    "We see that the central difference approximation is much more accurate for the same step size. To illustrate the power relationship with $h$, we can compute the maximum error in the approximation for a range of step sizes and plot the result. Since the resulting errors $E$ are proportional to $h^n$, a plot of $\\log(E)$ against $\\log(h)$ should show a linear relationship:"
   ]
  },
  {
   "cell_type": "code",
   "execution_count": 2,
   "id": "b831ce34",
   "metadata": {
    "render": null,
    "tags": [
     "remove-input"
    ]
   },
   "outputs": [],
   "source": [
    "f = lambda x: sin(x)+x\n",
    "fp= lambda x: cos(x)+1 "
   ]
  },
  {
   "cell_type": "code",
   "execution_count": 3,
   "id": "3e9e152c",
   "metadata": {},
   "outputs": [
    {
     "data": {
      "image/png": "[encoded data removed]",
      "text/plain": [
       "<Figure size 640x480 with 1 Axes>"
      ]
     },
     "metadata": {
      "filenames": {
       "image/png": "C:\\Users\\Ella Metcalfe\\OneDrive - University College London\\GITBOOKS\\Finite-Differences\\_build\\jupyter_execute\\finitediff\\formulae_4_0.png"
      }
     },
     "output_type": "display_data"
    }
   ],
   "source": [
    "hvals=np.logspace(0,-4,num=10)\n",
    "\n",
    "errf=[]; errm=[]\n",
    "for h in hvals:\n",
    "  xf,_,yd=fdiff(f,[-pi,pi],h)\n",
    "  xm=xf+h/2\n",
    "  errf.append(max(abs(yd-fp(xf))))\n",
    "  errm.append(max(abs(yd-fp(xm))))\n",
    "\n",
    "plt.loglog(hvals,errf,'-o', label='Forward difference')\n",
    "plt.loglog(hvals,errm,'-o', label='Central difference')\n",
    "plt.legend()\n",
    "plt.show()\n"
   ]
  },
  {
   "cell_type": "markdown",
   "id": "7c3e00ac",
   "metadata": {},
   "source": [
    "The gradient of the line gives the estimated order of the truncation error, $n$. As expected, we find that forward difference method has a first order error relationship and central difference method has a quadratic order error relationship."
   ]
  },
  {
   "cell_type": "code",
   "execution_count": 4,
   "id": "33eed24b",
   "metadata": {
    "render": null,
    "tags": [
     "remove-input"
    ]
   },
   "outputs": [],
   "source": [
    "from numpy import log, polyfit\n",
    "# Fitting degree 1 polynomial\n",
    "pf = polyfit(log(hvals), log(errf), 1)[0]\n",
    "pm = polyfit(log(hvals), log(errm), 1)[0]"
   ]
  },
  {
   "cell_type": "markdown",
   "id": "cc5e80bb",
   "metadata": {},
   "source": [
    "### Practical implementation\n",
    "\n",
    "In the above demonstration we estimated the derivative at locations $x_{k+1/2}$, whilst what we generally want is to estimate the derivative at $x_k$. For this, we return to formula {eq}`central1a`, which can be implemented as follows:"
   ]
  },
  {
   "cell_type": "code",
   "execution_count": 5,
   "id": "7df4f603",
   "metadata": {},
   "outputs": [],
   "source": [
    "def cdiff(f,xRange,h=1e-3):\n",
    "    \n",
    "    #Construct datapoints (x,y=f(x))\n",
    "    xmin,xmax=xRange\n",
    "    start=xmin-h                 #add left exterior point\n",
    "    stop =xmax+2*h               #add right exterior point\n",
    "    x = np.arange(start,stop,h)\n",
    "    y = f(x)\n",
    "\n",
    "    #Apply finite difference formula\n",
    "    ydiff = y[2:]-y[0:-2]       #values differing by two positions\n",
    "    xdiff = x[2:]-x[0:-2]       #equivalent to 2*h\n",
    "    yd = ydiff/xdiff\n",
    "    \n",
    "    #Datapoints of func and derivative\n",
    "    return x[1:-1],y[1:-1],yd   #interior points"
   ]
  },
  {
   "cell_type": "markdown",
   "id": "b199a691",
   "metadata": {},
   "source": [
    "## Second derivative formulae\n",
    "\n",
    "<br>\n",
    "\n",
    "**Forward difference** (order $h$ accuracy):\n",
    "\n",
    "The result is obtained by expanding taking $x=(x_k+2h)$,  $a=x_k$ in the Taylor expansion, and then substituting in the result for the first forward difference\n",
    "\n",
    "```{math}\n",
    ":label: forward2\n",
    "\\begin{align}\n",
    " y_{k+2}&=y_{k}+2hy^{\\prime}_{k}+\\frac{(2h)^2}{2!}y^{\\prime\\prime}_{k}+\\frac{(2h)^3}{3!}y^{\\prime\\prime\\prime}_k\\dots \\qquad \\text{where } y_{k+2}=y(x_k+2h)\\\\\n",
    " &=y_k+2h\\left[\\frac{y_{k+1}-y_k}{h}-\\frac{h}{2}y_k^{\\prime\\prime}-\\frac{h^2}{6}y_k^{\\prime\\prime\\prime}+\\dots\\right]+2h^2y_k^{\\prime\\prime}+\\frac{4}{3}h^3 y_k^{\\prime\\prime\\prime}+\\dots\\\\\n",
    " &\\Rightarrow y^{\\prime\\prime}_k = \\frac{y_{k}-2y_{k+1}+y_{k+2}}{h^2}-hy^{\\prime\\prime\\prime}_k+\\dots\n",
    " \\end{align}\n",
    " ```\n",
    "\n",
    "The formula requires two exterior points on the forward side.\n",
    "\n",
    "<br>\n",
    "\n",
    "**Central difference** (order $h^2$ accuracy):\n",
    "\n",
    "By adding the forward difference expression {eq}`forward1` to the backward difference expression {eq}`backwards1` we obtain\n",
    "\n",
    "```{math}\n",
    ":label: central2\n",
    "y^{\\prime\\prime}_k = \\frac{y_{k-1}-2y_k+y_{k+1}}{h^2} + h^2\\left[-\\frac{1}{12}y^{(4)}_k +\\dots\\right]\n",
    "```\n",
    "\n",
    "## Chapter exercise \n",
    "\n",
    "Taking a step size `h=1e-3`, numerically estimate the second derivative of the logistic function given in {numref}`chapex1` \n",
    "\n",
    "(a) using the forward difference formula,<br>\n",
    "(b) using the central difference formula.\n",
    "\n",
    "You will need to extend the function estimate at *two* exterior points to obtain a result for the derivative at each point in the interval.\n",
    "\n",
    "Plot the error in each of your estimates, given that the analytic result satisfies\n",
    "\\begin{equation}\n",
    "\\frac{\\mathrm{d}^2 x}{\\mathrm{d}t^2} = \\frac{r^2 x(C-x)(C-2x)}{C^2}.\n",
    "\\end{equation}\n",
    "\n",
    "Write a short explanation of your findings."
   ]
  }
 ],
 "metadata": {
  "jupytext": {
   "formats": "md:myst",
   "text_representation": {
    "extension": ".md",
    "format_name": "myst",
    "format_version": 0.13,
    "jupytext_version": "1.10.3"
   }
  },
  "kernelspec": {
   "display_name": "Python 3",
   "language": "python",
   "name": "python3"
  },
  "language_info": {
   "codemirror_mode": {
    "name": "ipython",
    "version": 3
   },
   "file_extension": ".py",
   "mimetype": "text/x-python",
   "name": "python",
   "nbconvert_exporter": "python",
   "pygments_lexer": "ipython3",
   "version": "3.9.13"
  },
  "source_map": [
   13,
   133,
   156,
   189,
   198,
   214,
   218,
   227,
   234,
   251
  ]
 },
 "nbformat": 4,
 "nbformat_minor": 5
}