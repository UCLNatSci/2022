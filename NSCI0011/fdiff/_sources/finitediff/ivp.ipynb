{
 "cells": [
  {
   "cell_type": "markdown",
   "id": "9fe5a374",
   "metadata": {},
   "source": [
    "# Preliminaries\n",
    "\n",
    "In this chapter we apply the forward difference formula to solve a general class of ordinary differential equation called an *initial value problem*. After completing the chapter you should be able to:\n",
    "* Recognise the general form an initial value problem, which may be written as a single ODE or as a first order system.\n",
    "* Be able to implement the explicit Euler method to numerically obtain an approximate numeric solution.\n",
    "\n",
    "## First order problem\n",
    "\n",
    "We consider a general class of problem, which has the following form:\n",
    "\n",
    "```{math}\n",
    ":label: ivp1\n",
    "\\frac{\\mathrm{d}x}{\\mathrm{d}t}=f(t,x), \\quad x(t_0)=x_0.\n",
    "```\n",
    "\n",
    "This is known as an initial value problem (IVP), because the solution for $x$ is determined from the derivative rule together with a given initial value. The special case where the function $f$ does not explicitly contain the independent variable $t$ is called the *autonomous* case.\n",
    "\n",
    "### Example\n",
    "\n",
    "The logistic function that we plotted in {numref}`chapex1` is defined by the following IVP:\n",
    "\n",
    "```{math}\n",
    ":label: ord1logist\n",
    "\\frac{\\mathrm{d}x}{\\mathrm{d}t}=r x \\left(1-\\frac{x}{c}\\right), \\qquad x(0)=x_0.\n",
    "```\n",
    "\n",
    "```{exercise}\n",
    "Is this IVP autonomous?\n",
    "```\n",
    "\n",
    "```{toggle}\n",
    "Yes, this is an example of an autonomous IVP because it does not contain the independent variable $t$.\n",
    "```\n",
    "\n",
    "### Explicit Euler method\n",
    "\n",
    "To obtain a numeric estimate of the solution to the first order IVP we can use the finite difference formula\n",
    "\n",
    "```{math}\n",
    ":label: fdiff-basic\n",
    "\\frac{\\Delta x}{\\Delta t}  =\\frac{x_{k+1}-x_k}{h} +\\mathcal{O}(h),\n",
    "```\n",
    "\n",
    "where $h$ is the step size of $t$. By using this formula to replace the continuous derivative in {eq}`ivp1` we obtain the following rearrangement, which defines the explicit Euler method:\n",
    "\n",
    "\\begin{equation}\n",
    "x_{k+1} = x_k + h f(t_k,x_k) + \\mathcal{O}(h^2).\n",
    "\\end{equation}\n",
    "\n",
    "This iterative formula allows us to sequentially obtain the solution values at a given set of grid-points $[t_1,t_2,\\dots,t_n]$. \n",
    "\n",
    "```{exercise}\n",
    "Write out the first couple of iterations of the formula, to understand how it works.\n",
    "```\n",
    "\n",
    "```{toggle}\n",
    "We obtain\n",
    "\\begin{align*}\n",
    "x_1 &= x_0+h f(t_0,x_0)\\\\\n",
    "x_2 &= x_1+h f(t_1,x_1)\\\\\n",
    "\\dots\n",
    "\\end{align*}\n",
    "```\n",
    "\n",
    "The explicit Euler method can be interpreted graphically: We start from the given initial point $(t_0,x_0)$ and \"step forward\" along the tangent line defined by $f(t_0,x_0)$ to obtain the next point $(t_1,x_1)$. The method is re-applied at each point until the end of the integration domain is reached, as illustrated below. The approximation would be better for smaller step size!\n",
    "\n",
    "<br>\n",
    "\n",
    "```{image} images/forward1.png\n",
    ":alt: forward stepping\n",
    ":scale: 100%\n",
    ":align: center\n",
    "```\n",
    "\n",
    "<br>\n",
    "\n",
    "The following code provides an example of how the method can be implemented.  Notice that in the iterative formula we have used `x1` to represent $x_k$ and `x2` to represent $x_{k+1}$ with the understanding that `x1` is updated with each iteration. The implementation uses `**kwargs` to pack and unpack a dictionary of keyword arguments (see {numref}`guru-ivp`):"
   ]
  },
  {
   "cell_type": "code",
   "execution_count": 1,
   "id": "530f85a2",
   "metadata": {
    "render": null,
    "tags": [
     "remove-input"
    ]
   },
   "outputs": [],
   "source": [
    "import numpy as np\n",
    "import matplotlib.pyplot as plt"
   ]
  },
  {
   "cell_type": "code",
   "execution_count": 2,
   "id": "4668d607",
   "metadata": {},
   "outputs": [],
   "source": [
    "def eulerf(f,x0,tRange,h=1e-3,**kwargs):\n",
    "  tmin,tmax=tRange\n",
    "  stop=tmax+2*h    \n",
    "  t = np.arange(tmin,stop,h)  #stop value is not included\n",
    "\n",
    "  n=len(t);                   #get number of values\n",
    "  x=np.empty(n); x[0]=x0      #form output array\n",
    "\n",
    "  for k in range(n-1):\n",
    "    t1,x1=t[k],x[k]           #labels introduced for convenience\n",
    "    x2=x1+h*f(t1,x1,**kwargs) #explicit Euler forward step \n",
    "    x[k+1]=x2\n",
    "  \n",
    "  return t,x"
   ]
  },
  {
   "cell_type": "markdown",
   "id": "45f1231f",
   "metadata": {},
   "source": [
    "We can use the function that we have defined to solve the IVP for the logistic curve. The demonstration below uses the parameters $r=1.5$ and $C=75$ that were selected in {numref}`chapex1`, with the initial value taken as $x(-10)=0.0001$."
   ]
  },
  {
   "cell_type": "code",
   "execution_count": 3,
   "id": "37901936",
   "metadata": {},
   "outputs": [
    {
     "data": {
      "image/png": "[encoded data removed]",
      "text/plain": [
       "<Figure size 640x480 with 1 Axes>"
      ]
     },
     "metadata": {
      "filenames": {
       "image/png": "C:\\Users\\Ella Metcalfe\\OneDrive - University College London\\GITBOOKS\\Finite-Differences\\_build\\jupyter_execute\\finitediff\\ivp_4_0.png"
      }
     },
     "output_type": "display_data"
    }
   ],
   "source": [
    "def dxdt(t,x,r,C):\n",
    "  return r*x*(1-x/C)\n",
    "\n",
    "tRange=[-10,10]; x0=0.0001\n",
    "t,x=eulerf(dxdt,x0,tRange,r=1.5,C=75)\n",
    "\n",
    "plt.plot(t,x)\n",
    "plt.xlim(tRange)\n",
    "plt.xlabel('t')\n",
    "plt.show()"
   ]
  },
  {
   "cell_type": "markdown",
   "id": "ba7aa7d8",
   "metadata": {},
   "source": [
    "```{warning}\n",
    "Even though the ODE in this example was autonomous, the way that we defined `eulerf` required that the first two arguments of `dxdt` are `t` and `x`, in that order.\n",
    "```\n",
    "\n",
    "(guru-ivp)=\n",
    "### For Python gurus\n",
    "\n",
    "A **tuple** is basically the same as a list, except that it is immutable. Tuples are denoted with round brackets, whilst lists are denoted by square brackets. We can easily convert between the two types:"
   ]
  },
  {
   "cell_type": "code",
   "execution_count": 4,
   "id": "d3810413",
   "metadata": {},
   "outputs": [
    {
     "name": "stdout",
     "output_type": "stream",
     "text": [
      "('hello', 1.0, 'world')\n",
      "['hello', 1.0, 'world']\n"
     ]
    }
   ],
   "source": [
    "a_list  = ['hello',1.,'world']\n",
    "a_tuple = ('hello',1.,'world')\n",
    "\n",
    "print(tuple(a_list))\n",
    "print(list(a_tuple))"
   ]
  },
  {
   "cell_type": "markdown",
   "id": "b0b7ccc9",
   "metadata": {},
   "source": [
    "A **dictionary** is used to store data in key:value pairs. Dictionaries are denoted by curly brackets (braces). Values from a dictionary can be retrieved by using their key. For example,"
   ]
  },
  {
   "cell_type": "code",
   "execution_count": 5,
   "id": "f9d47c2e",
   "metadata": {},
   "outputs": [
    {
     "data": {
      "text/plain": [
       "'Metcalfe'"
      ]
     },
     "execution_count": 5,
     "metadata": {},
     "output_type": "execute_result"
    }
   ],
   "source": [
    "student_id = {'SJMET79': 'Metcalfe', 'PBRAT20': 'Bratby', 'SAMOZ15': 'Mozaffari'}\n",
    "student_id['SJMET79']"
   ]
  },
  {
   "cell_type": "markdown",
   "id": "194c826b",
   "metadata": {},
   "source": [
    "**Unpacking** a list assigns the values to variables, as demonstrated by the following example. Notice that the number of variables in the assignment must match the number of items in the list:"
   ]
  },
  {
   "cell_type": "code",
   "execution_count": 6,
   "id": "57e48078",
   "metadata": {},
   "outputs": [],
   "source": [
    "r,g,b=['red','green','blue']"
   ]
  },
  {
   "cell_type": "markdown",
   "id": "879398ad",
   "metadata": {},
   "source": [
    "The **asterisk** operator \\* can be used to unpack lists and tuples when they are passed as inputs to a function. The example below demonstrates unpacking the list `[1,2,3]` into the function `myadd` :"
   ]
  },
  {
   "cell_type": "code",
   "execution_count": 7,
   "id": "ca962765",
   "metadata": {},
   "outputs": [
    {
     "name": "stdout",
     "output_type": "stream",
     "text": [
      "6\n"
     ]
    }
   ],
   "source": [
    "def myadd(a,b,c):\n",
    "  print(a+b+c)\n",
    "\n",
    "vals = [1,2,3]\n",
    "myadd(*vals)"
   ]
  },
  {
   "cell_type": "markdown",
   "id": "fc1ab399",
   "metadata": {},
   "source": [
    "The asterisk can also be used to *pack* values into a tuple, as demonstrated here:"
   ]
  },
  {
   "cell_type": "code",
   "execution_count": 8,
   "id": "fbc1dbdf",
   "metadata": {},
   "outputs": [
    {
     "name": "stdout",
     "output_type": "stream",
     "text": [
      "(1, 2, 3, 4, 5)\n"
     ]
    }
   ],
   "source": [
    "def mypack(*args):\n",
    "  print(args)\n",
    "\n",
    "mypack(1,2,3,4,5)"
   ]
  },
  {
   "cell_type": "markdown",
   "id": "349a90e8",
   "metadata": {},
   "source": [
    "Packing can be extremely useful for functions as it allows us to have a variable number of inputs. In the following example, we iterate over the elements of the tuple `args` to sum the inputs:"
   ]
  },
  {
   "cell_type": "code",
   "execution_count": 9,
   "id": "4d501879",
   "metadata": {},
   "outputs": [
    {
     "name": "stdout",
     "output_type": "stream",
     "text": [
      "15\n"
     ]
    }
   ],
   "source": [
    "def mysum(*args):\n",
    "  s=0\n",
    "  for arg in args:\n",
    "    s+=arg\n",
    "  return s\n",
    "\n",
    "print(mysum(1,2,3,4,5))"
   ]
  },
  {
   "cell_type": "markdown",
   "id": "5fc860a7",
   "metadata": {},
   "source": [
    "A **double asterisk** \\*\\* performs unpacking and packing for dictionaries. This allows us to pass an arbitrary number of keyword arguments to a function:"
   ]
  },
  {
   "cell_type": "code",
   "execution_count": 10,
   "id": "61a0b515",
   "metadata": {},
   "outputs": [
    {
     "name": "stdout",
     "output_type": "stream",
     "text": [
      "code = NSCI0011\n",
      "name = Topics in Scientific Computing\n",
      "year = 2022\n"
     ]
    }
   ],
   "source": [
    "def module_info(**kwargs):\n",
    "  for key in kwargs:\n",
    "    print(\"%s = %s\" % (key, kwargs[key]))\n",
    "\n",
    "module_info(code='NSCI0011',name='Topics in Scientific Computing',year='2022')"
   ]
  },
  {
   "cell_type": "markdown",
   "id": "14c62b24",
   "metadata": {},
   "source": [
    "It is possible to specify standard arguments together with extra keyword or non-keyword arguments, as demonstrated in the example below."
   ]
  },
  {
   "cell_type": "code",
   "execution_count": 11,
   "id": "d472fd38",
   "metadata": {},
   "outputs": [],
   "source": [
    "def myplot(f,xRange,n=1000,**kwargs):\n",
    "  min,max = xRange\n",
    "  x=np.linspace(min,max,n)\n",
    "  y=f(x,**kwargs)\n",
    "  fig = plt.figure()\n",
    "  plt.plot(x,y); plt.xlim(xRange)\n",
    "  return fig"
   ]
  },
  {
   "cell_type": "markdown",
   "id": "68bef2d0",
   "metadata": {},
   "source": [
    "```{exercise}\n",
    "In the `myplot` function, identify:\n",
    "* The mandatory argument(s) that can be specified using their position or keyword\n",
    "* The optional argument(s) that can be specified using their position or keyword\n",
    "* The optional argument(s) that must be specified using keywords\n",
    "```\n",
    "\n",
    "```{toggle}\n",
    "* The mandatory positional/keyword arguments are `f,xRange` \n",
    "* The optional positional/keyword argument is `n`\n",
    "* Any additional keyword arguments are collected by `**kwargs`\n",
    "```\n",
    "\n",
    "To illustrate the use of `myplot`, we plot the logistic curve on the range $[-10,10]$ by passing the keyword arguments $r=1.5,C=75$ :"
   ]
  },
  {
   "cell_type": "code",
   "execution_count": 12,
   "id": "4eb921c8",
   "metadata": {},
   "outputs": [
    {
     "data": {
      "image/png": "[encoded data removed]",
      "text/plain": [
       "<Figure size 640x480 with 1 Axes>"
      ]
     },
     "metadata": {
      "filenames": {
       "image/png": "C:\\Users\\Ella Metcalfe\\OneDrive - University College London\\GITBOOKS\\Finite-Differences\\_build\\jupyter_execute\\finitediff\\ivp_22_0.png"
      }
     },
     "output_type": "display_data"
    }
   ],
   "source": [
    "# Define logistic function\n",
    "def myf(x,r,C,x0=0.0001):\n",
    "  return C/(1+np.exp(-r*(x-x0)))\n",
    "\n",
    "# Plot for given parameters\n",
    "myplot(myf,[-10,10],r=1.5,C=75)\n",
    "plt.show()"
   ]
  },
  {
   "cell_type": "markdown",
   "id": "9d765243",
   "metadata": {},
   "source": [
    "````{exercise}\n",
    "Which of the following expressions generates an error, and why?\n",
    "\n",
    "```{code}\n",
    "myplot(xRange=[-10,10],f=myf,r=1.5,C=75)\n",
    "myplot([-10,10],r=1.5,C=75,f=myf)\n",
    "myplot(xRange=[-10,10],r=1.5,C=75,n=100,f=myf)\n",
    "```\n",
    "\n",
    "````\n",
    "\n",
    "## First order system\n",
    "\n",
    "We can extend the explicit Euler method to solve an initial value problem involving a first order system of the following form:\n",
    "\n",
    "\\begin{equation}\n",
    "\\frac{\\mathrm{d}\\underline{x}}{\\mathrm{d}t}=\\underline{F}(t,\\underline{x}), \\qquad \\underline{x}(t_0)=\\underline{x}_0.\n",
    "\\end{equation}\n",
    "\n",
    "\n",
    "### Example \n",
    "\n",
    "The classic Lotka-Volterra predator prey model is given by the following pair of coupled ODEs, in which $x$ represents the prey population and $y$ represents the predator population. The parameters $a,b,p,q$ are assumed to be constant:\n",
    "\n",
    "\\begin{align}\n",
    "\\dot{x} &= a x - p xy, \\qquad  & x(0)=x_0,\\\\\n",
    "\\dot{y} &= -b y + q xy, \\qquad & y(0)=y_0.\n",
    "\\end{align}\n",
    "\n",
    "Here, $\\underline{x}=(x,y)$, $\\underline{x}_0=(x_0,y_0)$ and $\\underline{F}(t,\\underline{x}) = (ax-pxy,-by+qxy)$.\n",
    "\n",
    "### Explicit Euler method \n",
    "\n",
    "Application of the explicit Euler method to solve the array problem is given below. Only a minor modification of the previously defined `eulerf` is required to make it work arrays $\\underline{F},\\underline{x}$. The modified version can be used to solve an IVP involving an arbitrary number of dependent variables."
   ]
  },
  {
   "cell_type": "code",
   "execution_count": 13,
   "id": "a1c341ce",
   "metadata": {},
   "outputs": [],
   "source": [
    "def eulerf(F,X0,tRange,h=1e-3,**kwargs):\n",
    "  tmin,tmax=tRange\n",
    "  stop=tmax+2*h    \n",
    "  t = np.arange(tmin,stop,h)    #stop value is not included\n",
    "\n",
    "  X0 = np.array([X0]).flatten() #make x0 a 1D array\n",
    "  n=len(t); m=len(X0)           #get number of values\n",
    "  X=np.empty([n,m]); X[0]=X0    #form output array\n",
    "\n",
    "  for k in range(n-1):\n",
    "    t1,X1=t[k],X[k]             #labels introduced for convenience\n",
    "    X2=X1+h*F(t1,X1,**kwargs)   #Euler forward difference \n",
    "    X[k+1]=X2\n",
    "  \n",
    "  return t,X"
   ]
  },
  {
   "cell_type": "markdown",
   "id": "be79d9b3",
   "metadata": {},
   "source": [
    "The definition for $\\underline{F}(t,\\underline{x})$ must return a numpy array as output. The code below provides an example of how this may be implemented for the Lotka-Volterra system with chosen paramters:"
   ]
  },
  {
   "cell_type": "code",
   "execution_count": 14,
   "id": "a9ba7f0e",
   "metadata": {},
   "outputs": [
    {
     "data": {
      "image/png": "[encoded data removed]",
      "text/plain": [
       "<Figure size 640x480 with 1 Axes>"
      ]
     },
     "metadata": {
      "filenames": {
       "image/png": "C:\\Users\\Ella Metcalfe\\OneDrive - University College London\\GITBOOKS\\Finite-Differences\\_build\\jupyter_execute\\finitediff\\ivp_26_0.png"
      }
     },
     "output_type": "display_data"
    }
   ],
   "source": [
    "def dXdt(t,X,a,b,p,q):\n",
    "  x,y = X\n",
    "  dxdt= a*x - p*x*y \n",
    "  dydt=-b*y + q*x*y\n",
    "  return np.array([dxdt,dydt])\n",
    "\n",
    "X0=[20,20]; tRange=[0,20]     # initial conditions\n",
    "params = {\"a\": 1., \"b\": 1., \"p\": .01, \"q\": .02}\n",
    "\n",
    "t,X=eulerf(dXdt,X0,tRange,**params)\n",
    "plt.plot(t,X[:,0],label='prey')\n",
    "plt.plot(t,X[:,1],label='predators')\n",
    "plt.xlim(tRange); plt.xlabel('t')\n",
    "plt.legend()\n",
    "plt.show()"
   ]
  },
  {
   "cell_type": "markdown",
   "id": "c8096204",
   "metadata": {},
   "source": [
    "## Chapter exercise \n",
    "\n",
    "\n",
    "**Question 1**<br>\n",
    "Apply the explicit Euler method to numerically solve the following non-autonomous IVP and plot your solution $x(t)$ :\n",
    "\n",
    "\\begin{equation*}\n",
    "\\frac{\\mathrm{d}x}{\\mathrm{d}t}+x = e^{-(t-2)}, \\qquad x(0)=1.\n",
    "\\end{equation*}\n",
    "\n",
    "**Question 2**<br>\n",
    "Apply the explicit Euler method to numerically solve the following coupled ODE system for the case when $p=28$, $s=10$, $b=2.667$ and use the code given below to make a parameteric plot of your solution\n",
    "\n",
    "\\begin{align}\n",
    "\\dot{x} & = s(y-x)\\\\\n",
    "\\dot{y} & = x(p-z)-y\\\\\n",
    "\\dot{z} & = xy-bz\n",
    "\\end{align}\n",
    "\n",
    "```{code}\n",
    "ax = plt.figure().add_subplot(projection='3d')\n",
    "ax.plot(x, y, z)\n",
    "```\n",
    "\n",
    "**Question 3**<br>\n",
    "Rewrite the following initial value problem as a first order system and use the explicit Euler method to obtain its numeric solution:\n",
    "\n",
    "```{math}\n",
    ":label: ode2or\n",
    "\\ddot{x}+2\\dot{x}+10x=0, \\qquad x(0)=1, \\quad \\dot{x}(0)=-1.\n",
    "```"
   ]
  }
 ],
 "metadata": {
  "jupytext": {
   "formats": "md:myst",
   "text_representation": {
    "extension": ".md",
    "format_name": "myst",
    "format_version": 0.13,
    "jupytext_version": "1.10.3"
   }
  },
  "kernelspec": {
   "display_name": "Python 3",
   "language": "python",
   "name": "python3"
  },
  "language_info": {
   "codemirror_mode": {
    "name": "ipython",
    "version": 3
   },
   "file_extension": ".py",
   "mimetype": "text/x-python",
   "name": "python",
   "nbconvert_exporter": "python",
   "pygments_lexer": "ipython3",
   "version": "3.9.13"
  },
  "source_map": [
   13,
   94,
   103,
   119,
   123,
   134,
   145,
   151,
   155,
   158,
   162,
   164,
   168,
   174,
   178,
   184,
   188,
   196,
   200,
   206,
   210,
   218,
   235,
   243,
   280,
   297,
   301,
   317
  ]
 },
 "nbformat": 4,
 "nbformat_minor": 5
}