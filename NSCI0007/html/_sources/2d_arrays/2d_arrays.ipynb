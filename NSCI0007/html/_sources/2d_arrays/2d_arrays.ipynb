{
 "cells": [
  {
   "cell_type": "markdown",
   "metadata": {
    "collapsed": false
   },
   "source": [
    "# Tutorial 4: Measuring Space\n",
    "\n",
    "[todo] About scalar fields in 2d and 3d. Eg in 3d the temperature of solid body, density of matter inside the brain. In 2d the atmospheric air pressure across a region. Can measure or calculate - and investigate by taking slices. Could be physical space, or time, or even parameters in another model.\n",
    "\n"
   ]
  },
  {
   "cell_type": "markdown",
   "metadata": {
    "collapsed": false
   },
   "source": [
    "Suppose we have a 2-dimensional scalar field given by the following formula, which describes the height of a hemisphere embedded in a 2d-plane.\n",
    "\n",
    "$$\n",
    "\\begin{align}\n",
    "  f(x, y) = \n",
    "  \\begin{cases}\n",
    "    \\sqrt{R^2-\\left(x^2+y^2\\right)} & \\text{if } x^2 + y^2 < R^2 \\\\\n",
    "    0 & \\text{otherwise }\n",
    "  \\end{cases}\n",
    "\\end{align}\n",
    "$$\n",
    "\n",
    "## Question 1\n",
    "\n",
    "**Complete the function `sphere_height(x_pos, y_pos, radius)` so that it returns the correct value of the function $f$.**\n",
    "\n",
    "**Check the two tests work and write a third test with values of `x_pos`, `y_pos`, and `radius` of your choice.**\n"
   ]
  },
  {
   "cell_type": "code",
   "execution_count": 36,
   "metadata": {
    "collapsed": false
   },
   "outputs": [
    {
     "name": "stdout",
     "output_type": "stream",
     "text": [
      "1.0\n",
      "0\n"
     ]
    }
   ],
   "source": [
    "import numpy as np\n",
    "\n",
    "def sphere_height(x_pos, y_pos, radius):\n",
    "    val = 0 # replace this line with your code!\n",
    "    \n",
    "    w = radius**2-(x_pos**2+y_pos**2)\n",
    "    if w < 0:\n",
    "        val = 0\n",
    "    else:\n",
    "        val = np.sqrt(w)\n",
    "    \n",
    "    return val\n",
    "\n",
    "h = sphere_height(0, 0, 1)\n",
    "print(h) # should print 1\n",
    "h = sphere_height(1, 1, 1)\n",
    "print(h) # should print 0"
   ]
  },
  {
   "cell_type": "markdown",
   "metadata": {
    "collapsed": false
   },
   "source": [
    "Next we will create a 2-dimensional array to store the value of the function across a range of values of $x$ and $y$.\n",
    "\n",
    "First let's create a length 10 array and \n",
    "\n",
    "## Question 2\n",
    "\n",
    "**Complete the following code so that it creates a $6$ by $6$ array containing the sphere height in the range $-12 < x < 12$ and $-12 < y < 12$.**\n",
    "\n",
    "Hints: [TODO]\n",
    " - change the `sphere` array from `N` by `1` rather than `N` by `N`\n",
    " - create an array `y_array` to store the range of $y$ values\n",
    " - Add another loop - you will have two loops, one nested inside the other\n"
   ]
  },
  {
   "cell_type": "code",
   "execution_count": 37,
   "metadata": {
    "collapsed": false
   },
   "outputs": [
    {
     "name": "stdout",
     "output_type": "stream",
     "text": [
      "x_array: [-12.   -7.2  -2.4   2.4   7.2  12. ]\n",
      "sphere:\n",
      " [[0.        ]\n",
      " [6.93974063]\n",
      " [9.70772888]\n",
      " [9.70772888]\n",
      " [6.93974063]\n",
      " [0.        ]]\n"
     ]
    }
   ],
   "source": [
    "R = 10\n",
    "N = 6\n",
    "\n",
    "sphere = np.zeros((N, 1))\n",
    "\n",
    "x_array = np.linspace(-12, 12, N)\n",
    "print(\"x_array:\", x_array)\n",
    "\n",
    "for i in range(N):\n",
    "    x = x_array[i]\n",
    "    sphere[i,0] = sphere_height(x, 0, R)\n",
    "    \n",
    "print(\"sphere:\\n\", sphere)"
   ]
  },
  {
   "cell_type": "code",
   "execution_count": 44,
   "metadata": {
    "collapsed": false
   },
   "outputs": [
    {
     "name": "stdout",
     "output_type": "stream",
     "text": [
      "x_array: [-12.   -7.2  -2.4   2.4   7.2  12. ]\n",
      "y_array: [-12.   -7.2  -2.4   2.4   7.2  12. ]\n",
      "sphere:\n",
      " [[0.         0.         0.         0.         0.         0.        ]\n",
      " [0.         0.         6.51152824 6.51152824 0.         0.        ]\n",
      " [0.         6.51152824 9.40638081 9.40638081 6.51152824 0.        ]\n",
      " [0.         6.51152824 9.40638081 9.40638081 6.51152824 0.        ]\n",
      " [0.         0.         6.51152824 6.51152824 0.         0.        ]\n",
      " [0.         0.         0.         0.         0.         0.        ]]\n"
     ]
    }
   ],
   "source": [
    "R = 10\n",
    "N = 6\n",
    "\n",
    "\n",
    "sphere = np.zeros((N, N))\n",
    "\n",
    "x_array = np.linspace(-12, 12, N)\n",
    "print(\"x_array:\", x_array)\n",
    "                  \n",
    "y_array = np.linspace(-12, 12, N)\n",
    "print(\"y_array:\", y_array)\n",
    "\n",
    "for i in range(N):\n",
    "    for j in range(N):\n",
    "        x = x_array[i]\n",
    "        y = y_array[j]\n",
    "                  \n",
    "        sphere[i,j] = sphere_height(x, y, R)\n",
    "    \n",
    "print(\"sphere:\\n\", sphere)"
   ]
  },
  {
   "cell_type": "markdown",
   "metadata": {
    "collapsed": false
   },
   "source": [
    "We'd like to visualise the values of the array. One way to do this is with a 'heat map' - an image whose pixels represent the value of each element of the array. The `matplotlib` function `imshow` will do this for us.\n",
    "\n",
    "## Question 3\n",
    "\n",
    "**Use the `matplotlib` function `imshow` to generate a heat map of the array**\n",
    "\n",
    "**Experiment with different values of  `N` until you get a nice smooth image. What happens if you change the value of `R`?**\n"
   ]
  },
  {
   "cell_type": "code",
   "execution_count": 45,
   "metadata": {
    "collapsed": false
   },
   "outputs": [
    {
     "data": {
      "text/plain": [
       "<matplotlib.image.AxesImage at 0x7f02c7d48790>"
      ]
     },
     "execution_count": 45,
     "metadata": {
     },
     "output_type": "execute_result"
    },
    {
     "data": {
      "image/png": "[encoded data removed]",
      "text/plain": [
       "<Figure size 504x252 with 1 Axes>"
      ]
     },
     "execution_count": 45,
     "metadata": {
      "image/png": {
       "height": 244,
       "width": 241
      },
      "needs_background": "light"
     },
     "output_type": "execute_result"
    }
   ],
   "source": [
    "plt.imshow(sphere)\n"
   ]
  },
  {
   "cell_type": "code",
   "execution_count": 29,
   "metadata": {
    "collapsed": false
   },
   "outputs": [
    {
     "name": "stdout",
     "output_type": "stream",
     "text": [
      "x_array: [-12.   -7.2  -2.4   2.4   7.2  12. ]\n",
      "y_array: [-12.   -7.2  -2.4   2.4   7.2  12. ]\n",
      "sphere:\n",
      " [[0.         0.         0.         0.         0.         0.        ]\n",
      " [0.         0.         6.51152824 6.51152824 0.         0.        ]\n",
      " [0.         6.51152824 9.40638081 9.40638081 6.51152824 0.        ]\n",
      " [0.         6.51152824 9.40638081 9.40638081 6.51152824 0.        ]\n",
      " [0.         0.         6.51152824 6.51152824 0.         0.        ]\n",
      " [0.         0.         0.         0.         0.         0.        ]]\n"
     ]
    }
   ],
   "source": [
    "R = 10\n",
    "N = 6\n",
    "\n",
    "sphere = np.zeros((N, N))\n",
    "\n",
    "x_array = np.linspace(-12, 12, N)\n",
    "print(\"x_array:\", x_array)\n",
    "\n",
    "y_array = np.linspace(-12, 12, N)\n",
    "print(\"y_array:\", x_array)\n",
    "\n",
    "for j in range(N):\n",
    "    for i in range(N):\n",
    "        x = x_array[i]\n",
    "        y = y_array[j]\n",
    "        sphere[i,j] = sphere_height(x, y, R)\n",
    "    \n",
    "print(\"sphere:\\n\", sphere)"
   ]
  },
  {
   "cell_type": "markdown",
   "metadata": {
    "collapsed": false
   },
   "source": [
   ]
  },
  {
   "cell_type": "code",
   "execution_count": 5,
   "metadata": {
    "collapsed": false
   },
   "outputs": [
    {
     "data": {
      "text/plain": [
       "<mpl_toolkits.mplot3d.art3d.Poly3DCollection at 0x7f02d7f59760>"
      ]
     },
     "execution_count": 5,
     "metadata": {
     },
     "output_type": "execute_result"
    },
    {
     "data": {
      "image/png": "[encoded data removed]",
      "text/plain": [
       "<Figure size 432x432 with 1 Axes>"
      ]
     },
     "execution_count": 5,
     "metadata": {
      "image/png": {
       "height": 340,
       "width": 340
      },
      "needs_background": "light"
     },
     "output_type": "execute_result"
    }
   ],
   "source": [
    "import numpy as np\n",
    "import matplotlib.pyplot as plt\n",
    "\n",
    "R = 10\n",
    "w = 1\n",
    "N = 500\n",
    "\n",
    "x_array = np.linspace(-2*R, 2*R, N)\n",
    "y_array = np.linspace(-2*R, 2*R, N)\n",
    "\n",
    "sphere = np.zeros((N, N))\n",
    "    \n",
    "for i in range(N):\n",
    "    for j in range(N):\n",
    "        x = x_array[i]\n",
    "        y = y_array[j]\n",
    "        sphere[i,j] = sphere_height(x, y, R)\n",
    "        \n",
    "        \n",
    "\n",
    "# plt.figure(figsize=(6,6))\n",
    "# plt.imshow(sphere)\n",
    "        \n",
    "plt.figure(figsize=(6,6))\n",
    "X, Y = np.meshgrid(x_array, y_array)\n",
    "ax = plt.axes(projection='3d')\n",
    "ax.set_axis_off()\n",
    "# ax.plot_surface(X, Y, sphere,  rstride=1, cstride=1,\n",
    "#                 cmap='gray', edgecolor='none')\n",
    "\n",
    "\n",
    "# surf = ax.plot_surface(X, Y, sphere, cmap='gray',\n",
    "#                        linewidth=0, antialiased=False, rcount=200, ccount=200)\n",
    "\n",
    "# Get lighting object for shading surface plots.\n",
    "from matplotlib.colors import LightSource\n",
    "\n",
    "# Get colormaps to use with lighting object.\n",
    "from matplotlib import cm\n",
    "\n",
    "# Create an instance of a LightSource and use it to illuminate the surface.\n",
    "light = LightSource(90, 45)\n",
    "rgb = np.ones((sphere.shape[0], sphere.shape[1], 3))\n",
    "illuminated_surface = light.shade_rgb(rgb, sphere)\n",
    "\n",
    "ax.plot_surface(X, Y, sphere, rstride=1, cstride=1, linewidth=0, antialiased=False,\n",
    "                facecolors=illuminated_surface)\n",
    "ere_height"
   ]
  },
  {
   "cell_type": "code",
   "execution_count": 10,
   "metadata": {
    "collapsed": false
   },
   "outputs": [
    {
     "name": "stderr",
     "output_type": "stream",
     "text": [
      "/tmp/ipykernel_4096/3062361008.py:5: RuntimeWarning: invalid value encountered in sqrt\n",
      "  val = np.sqrt(radius - (x_pos**2 + y_pos**2))\n"
     ]
    },
    {
     "data": {
      "text/plain": [
       "nan"
      ]
     },
     "execution_count": 10,
     "metadata": {
     },
     "output_type": "execute_result"
    }
   ],
   "source": [
    "sphere_height(-3, -3, 10)"
   ]
  },
  {
   "cell_type": "code",
   "execution_count": 14,
   "metadata": {
    "collapsed": false
   },
   "outputs": [
    {
     "data": {
      "text/plain": [
       "<mpl_toolkits.mplot3d.art3d.Poly3DCollection at 0x7f02bdc95490>"
      ]
     },
     "execution_count": 14,
     "metadata": {
     },
     "output_type": "execute_result"
    },
    {
     "data": {
      "image/png": "[encoded data removed]",
      "text/plain": [
       "<Figure size 504x252 with 1 Axes>"
      ]
     },
     "execution_count": 14,
     "metadata": {
      "image/png": {
       "height": 253,
       "width": 261
      },
      "needs_background": "light"
     },
     "output_type": "execute_result"
    }
   ],
   "source": [
    "import matplotlib.pyplot as plt\n",
    "import numpy as np\n",
    "\n",
    "# Get lighting object for shading surface plots.\n",
    "from matplotlib.colors import LightSource\n",
    "\n",
    "# Get colormaps to use with lighting object.\n",
    "from matplotlib import cm\n",
    "\n",
    "# Create an instance of a LightSource and use it to illuminate the surface.\n",
    "#light = LightSource(90, 45)\n",
    "light = LightSource(90, 45)\n",
    "\n",
    "plt.rcParams[\"figure.figsize\"] = [7.00, 3.50]\n",
    "plt.rcParams[\"figure.autolayout\"] = True\n",
    "fig = plt.figure()\n",
    "ax = fig.add_subplot(projection='3d')\n",
    "r = 0.05\n",
    "u, v = np.mgrid[0:2 * np.pi:30j, 0:np.pi/2:20j]\n",
    "x = np.cos(u) * np.sin(v)\n",
    "y = np.sin(u) * np.sin(v)\n",
    "z = np.cos(v)\n",
    "\n",
    "rgb = np.ones((z.shape[0], z.shape[1], 3))\n",
    "illuminated_surface = light.shade_rgb(rgb, z)\n",
    "\n",
    "ax.plot_surface(x, y, z, rstride=1, cstride=1, linewidth=0, antialiased=False,\n",
    "                 facecolors=illuminated_surface)\n",
    "\n",
    "N = 10\n",
    "R = 1\n",
    "x_array = np.linspace(-R, R, N)\n",
    "y_array = np.linspace(-R, R, N)\n",
    "\n",
    "X, Y = np.meshgrid(x_array, y_array)\n",
    "\n",
    "Z = np.zeros((N, N))\n",
    "\n",
    "\n",
    "rgb = np.ones((Z.shape[0], Z.shape[1], 3))\n",
    "illuminated_surface = light.shade_rgb(rgb, Z)\n",
    "\n",
    "\n",
    "ax.plot_surface(X, Y, Z, rstride=1, cstride=1, linewidth=0, antialiased=False,\n",
    "                facecolors=illuminated_surface)"
   ]
  },
  {
   "cell_type": "code",
   "execution_count": 0,
   "metadata": {
    "collapsed": false
   },
   "outputs": [
   ],
   "source": [
   ]
  }
 ],
 "metadata": {
  "kernelspec": {
   "display_name": "Python 3 (system-wide)",
   "language": "python",
   "metadata": {
    "cocalc": {
     "description": "Python 3 programming language",
     "priority": 100,
     "url": "https://www.python.org/"
    }
   },
   "name": "python3",
   "resource_dir": "/ext/jupyter/kernels/python3"
  },
  "language_info": {
   "codemirror_mode": {
    "name": "ipython",
    "version": 3
   },
   "file_extension": ".py",
   "mimetype": "text/x-python",
   "name": "python",
   "nbconvert_exporter": "python",
   "pygments_lexer": "ipython3",
   "version": "3.8.10"
  }
 },
 "nbformat": 4,
 "nbformat_minor": 4
}