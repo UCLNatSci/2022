{
 "cells": [
  {
   "cell_type": "markdown",
   "metadata": {},
   "source": [
    "# Tutorial 2: Modelling Change"
   ]
  },
  {
   "cell_type": "markdown",
   "metadata": {
    "collapsed": false
   },
   "source": [
    "\n",
    "## Introduction\n",
    "\n",
    "A **difference equation** defines a sequence by the difference between consecutive terms. To fully specify the sequence we also need an initial value. For example,\n",
    "\n",
    "$$x_{i+1} = x_i + 0.1x_i \\quad\\mathrm{where}\\quad x_0=10$$\n",
    "\n",
    "defines a sequence where the initial value is $10$ and each term is $10\\%$ bigger than the previous term.\n",
    "\n",
    "Let's calculate the first 5 terms using Python. First, we create an array and set its first element to the initial value $10$."
   ]
  },
  {
   "cell_type": "code",
   "execution_count": 13,
   "metadata": {
    "collapsed": false
   },
   "outputs": [
    {
     "name": "stdout",
     "output_type": "stream",
     "text": [
      "x: [10.  0.  0.  0.  0.]\n"
     ]
    }
   ],
   "source": [
    "import numpy as np\n",
    "\n",
    "x = np.zeros(5)\n",
    "\n",
    "x[0] = 10\n",
    "print(\"x:\", x)"
   ]
  },
  {
   "cell_type": "markdown",
   "metadata": {
    "collapsed": false
   },
   "source": [
    "Next we use a `for` loop to calculate the remaining terms of the sequence."
   ]
  },
  {
   "cell_type": "code",
   "execution_count": 14,
   "metadata": {
    "collapsed": false
   },
   "outputs": [
    {
     "name": "stdout",
     "output_type": "stream",
     "text": [
      "x: [ 10.  20.  40.  80. 160.]\n"
     ]
    }
   ],
   "source": [
    "for i in range(4):\n",
    "    x[i+1] = x[i] + 0.1*x[i] \n",
    "    \n",
    "print(\"x:\", x)"
   ]
  },
  {
   "cell_type": "markdown",
   "metadata": {
    "collapsed": false
   },
   "source": [
    "```{exercise}\n",
    "\n",
    "\n",
    "The array `x` has $5$ elements yet the upper limit of the `for` loop is $4$. Why? Try changing the upper limit to $5$ and see what happens.\n",
    "```\n",
    "Finally, we would like to plot a graph of the population for the first $5$ days. To do this we need to import a library, `matplotlib.pyplot`:\n",
    "\n"
   ]
  },
  {
   "cell_type": "code",
   "execution_count": null,
   "metadata": {
    "collapsed": false
   },
   "outputs": [
    {
     "ename": "",
     "evalue": "",
     "output_type": "error",
     "traceback": [
      "\u001b[1;31mRunning cells with 'Python 3.7.9 64-bit (windows store)' requires ipykernel package.\n",
      "Run the following command to install 'ipykernel' into the Python environment. \n",
      "Command: 'c:/Users/NatSciTeaching/AppData/Local/Microsoft/WindowsApps/python3.7.exe -m pip install ipykernel -U --user --force-reinstall'"
     ]
    }
   ],
   "source": [
    "import matplotlib.pyplot as plt\n",
    "\n",
    "plt.figure(figsize=(3,3))\n",
    "plt.plot(x)\n",
    "plt.xlabel(\"i\")\n",
    "plt.ylabel(\"x[i]\")"
   ]
  },
  {
   "cell_type": "markdown",
   "metadata": {
    "collapsed": false
   },
   "source": [
    ":::{exercise}\n",
    "\n",
    "Calculate the value of $x_{16}$. Print the answer as follows:\n",
    "\n",
    "```x[16]: XXXX```\n",
    "\n",
    ":::\n",
    "\n",
    "## Multiple Variables\n",
    "\n",
    "We can produce more interesting behaviour if we introduce a second variable. For example,\n",
    "\n",
    "$$\\begin{align*}\n",
    "x_{i+1} &= x_i - 0.5y_i\\\\\n",
    "y_{i+1} &= y_i + 0.4x_i\\quad\\mathrm{where}~x_0=y_0=10.\n",
    "\\end{align*}$$\n",
    "\n",
    ":::{exercise}\n",
    "\n",
    "Complete the following code to calculate and plot `x` and `y` over the range `0 ... 19`.\n",
    "\n",
    "```\n",
    "x = np.zeros(20)\n",
    "x[0] = 10\n",
    "\n",
    "# create array y and set initial value\n",
    "\n",
    "for i in range(19):\n",
    "    x[i+1] = x[i] - 0.5 * y[i]  \n",
    "\n",
    "    # set value of y[i+1]\n",
    "\n",
    "plt.figure(figsize=(3,3))\n",
    "plt.plot(x)\n",
    "\n",
    "# plot y on the SAME graph    \n",
    "```\n",
    ":::\n",
    "\n",
    "\n",
    "\n"
   ]
  },
  {
   "cell_type": "code",
   "execution_count": null,
   "metadata": {},
   "outputs": [
    {
     "ename": "",
     "evalue": "",
     "output_type": "error",
     "traceback": [
      "\u001b[1;31mRunning cells with 'Python 3.7.9 64-bit (windows store)' requires ipykernel package.\n",
      "Run the following command to install 'ipykernel' into the Python environment. \n",
      "Command: 'c:/Users/NatSciTeaching/AppData/Local/Microsoft/WindowsApps/python3.7.exe -m pip install ipykernel -U --user --force-reinstall'"
     ]
    }
   ],
   "source": [
    "x = np.zeros(20)\n",
    "x[0] = 10\n",
    "\n",
    "# create array y and set initial value\n",
    "y = np.zeros(20)\n",
    "y[0] = 10\n",
    "\n",
    "\n",
    "for i in range(19):\n",
    "    x[i+1] = x[i] - 0.5 * y[i]\n",
    "    # set value of y[i+1]\n",
    "    y[i+1] = y[i] + 0.4 * x[i]\n",
    "\n",
    "plt.figure(figsize=(3,3))\n",
    "plt.plot(x)\n",
    "\n",
    "# plot y on the SAME graph\n",
    "plt.plot(y)"
   ]
  },
  {
   "cell_type": "markdown",
   "metadata": {},
   "source": [
    "## SIR Model of Epidemics\n",
    "\n",
    "The spread of an infectious disease amongst a population can be modelled by the SIR model. We divide the the population into three groups: Susceptible, Infected and Recovered. As the epidemic progresses, the number of people in each group changes according to a set of simple rules. Let the $S_i$ represent the number of susceptible people and $I_i$ the number of infected people on day $i$. Then:\n",
    "\n",
    ":::{math}\n",
    ":label: SIR_equations\n",
    "\\begin{align}S_{i+1} &= S_i - bS_iI_i\\\\\n",
    "I_{i+1} &= I_i + bS_iI_i - aI_i.\\end{align}\n",
    ":::\n",
    "\n",
    "We assume a fixed total population so that the number of people in the Recovered group is given by\n",
    "\n",
    "$$R_i = N - (S_i + I_i)$$\n",
    "\n",
    "where $N$ is the total population. There are two parameters: the recovery rate parameter $a$ and the infection rate parameter $b$."
   ]
  },
  {
   "cell_type": "markdown",
   "metadata": {
    "collapsed": false
   },
   "source": [
    "### Simplified Model\n",
    "\n",
    "First, let's examine a simplified version of this model where we assume that there are no susceptible people in the population and an initial population $I_0$ of infected people. Then, the equations reduce to:\n",
    "\n",
    "$$ I_{i+1} = I_i - aI_i $$\n",
    "\n",
    "A fixed proportion $a$ of the infected population recovers at each time step. Let's suppose that 10% of the population recovers each day so that $a=0.1$, and assume that our population starts with $I_0=1000$ infected people.\n",
    "\n",
    "```{exercise}\n",
    "\n",
    "Calculate (by hand) the first few terms of the sequence. What would you expect the graph $I_i$ to look like?\n",
    "\n",
    "Write Python code to model the number of infected people for $100$ days. Plot a graph of $I_i$.\n",
    "```"
   ]
  },
  {
   "cell_type": "code",
   "execution_count": 18,
   "metadata": {
    "collapsed": false
   },
   "outputs": [
    {
     "name": "stdout",
     "output_type": "stream",
     "text": [
      "I_0: [100.   0.   0.   0.   0.   0.   0.   0.   0.   0.]\n",
      "I: [100.         90.         81.         72.9        65.61       59.049\n",
      "  53.1441     47.82969    43.046721   38.7420489]\n"
     ]
    },
    {
     "data": {
      "text/plain": [
       "Text(0, 0.5, 'Infected population')"
      ]
     },
     "execution_count": 18,
     "metadata": {},
     "output_type": "execute_result"
    },
    {
     "data": {
      "image/png": "[encoded data removed]",
      "text/plain": [
       "<Figure size 360x360 with 1 Axes>"
      ]
     },
     "execution_count": 18,
     "metadata": {
      "image/png": {
       "height": 316,
       "width": 333
      },
      "needs_background": "light"
     },
     "output_type": "execute_result"
    }
   ],
   "source": [
    "import numpy as np\n",
    "\n",
    "n_days = 100\n",
    "\n",
    "I = np.zeros(n_days)\n",
    "\n",
    "I[0] = 100\n",
    "\n",
    "for i in range(n_days - 1):\n",
    "    I[i+1] = I[i] - 0.1 * I[i]\n",
    "\n",
    "plt.figure(figsize=(5,5))\n",
    "plt.plot(I)\n",
    "plt.xlabel(\"Time (days)\")\n",
    "plt.ylabel(\"Infected population\")"
   ]
  },
  {
   "cell_type": "markdown",
   "metadata": {
    "collapsed": false
   },
   "source": [
    "### Full Model\n",
    "\n",
    "```{exercise}\n",
    "\n",
    "Adapt your code to models the full set of two equations {eq}`SIR_equations`. With parameter values $a = 0.1$ and $b = 0.00005$ and the initial populations $S_0 = 20000$ and $I_0 = 100$, simulate the infection for a duration of 100 days. Plot the resulting arrays `S` and `I` on the same figure.\n",
    "\n",
    "[You should see that the number of infected people peaks at around 15000 at about day 15, while the number of susceptible people drops to about zero at about the same time].\n",
    "```"
   ]
  },
  {
   "cell_type": "code",
   "execution_count": null,
   "metadata": {},
   "outputs": [],
   "source": [
    "import numpy as np\n",
    "\n",
    "n_days = 100\n",
    "b = 0.00005\n",
    "\n",
    "I = np.zeros(n_days)\n",
    "I[0] = 100\n",
    "S = np.zeros(n_days)\n",
    "S[0] = 20000\n",
    "\n",
    "for i in range(n_days - 1):\n",
    "    I[i+1] = I[i] + b*S[i]*I[i]- 0.1 * I[i]\n",
    "    S[i+1] = S[i] - b*S[i]*I[i]\n",
    "\n",
    "plt.figure(figsize=(5,5))\n",
    "plt.plot(I)\n",
    "plt.plot(S)\n",
    "plt.xlabel(\"Time (days)\")\n",
    "plt.ylabel(\"Population\")"
   ]
  },
  {
   "cell_type": "markdown",
   "metadata": {
    "collapsed": false
   },
   "source": [
    "```{exercise}\n",
    "\n",
    "The infection rate parameter $b$ can be influenced by public policy - for example the imposition of social distancing, vaccination or other measures. \n",
    "\n",
    "Experiment with various values of $b$ to see how it affects the outbreak. Roughly what is the minimum value of $b$ which results in an epidemic? (We say there is an epidemic if $I_i$ initially rises to a peak, however small).\n",
    "\n",
    "```"
   ]
  }
 ],
 "metadata": {
  "kernelspec": {
   "display_name": "Python 3.7.9 64-bit (windows store)",
   "language": "python",
   "name": "python3"
  },
  "language_info": {
   "codemirror_mode": {
    "name": "ipython",
    "version": 3
   },
   "file_extension": ".py",
   "mimetype": "text/x-python",
   "name": "python",
   "nbconvert_exporter": "python",
   "pygments_lexer": "ipython3",
   "version": "3.7.9"
  },
  "vscode": {
   "interpreter": {
    "hash": "7f871366baaeb23d5e2a586caa18124c1371cc3d3832dcd001f8f599e1be9e29"
   }
  }
 },
 "nbformat": 4,
 "nbformat_minor": 4
}
