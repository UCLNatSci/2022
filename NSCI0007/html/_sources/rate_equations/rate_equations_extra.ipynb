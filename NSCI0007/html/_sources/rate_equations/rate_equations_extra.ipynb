{
 "cells": [
  {
   "cell_type": "markdown",
   "metadata": {},
   "source": [
    "# Further Practice\n",
    "\n",
    ":::{exercise} \n",
    ":label: rate_equations_extra_loops\n",
    "\n",
    "Use a `for` loop to produce the following output:\n",
    "1. `5, 7, 9, 11, 13, 15`\n",
    "1. `1, 10, 100, 1000, 10000, 100000`\n",
    "1. `0, 1, 2, 0, 1, 2, 0, 1, 2` (hint: use the `%` operator)\n",
    "\n",
    ":::\n",
    "\n",
    ":::{exercise}\n",
    ":label: rate_equations_extra_weather\n",
    "\n",
    "Look up the predicted daily maximum and minimum temperatures for the next 10 days according to the BBC weather forecast.\n",
    "\n",
    "https://www.bbc.co.uk/weather/2643743\n",
    "\n",
    "Create two arrays containing the maximum and minimum temperatures and plot them as two separate lines on a line graph, including axis labels and title. Look up how to add a legend in the [Matplotlib documentation](https://matplotlib.org/stable/users/index.html).\n",
    "\n",
    "```{image} temperatures.png\n",
    ":width: 300px\n",
    "```\n",
    "\n",
    ":::\n",
    "\n",
    ":::{exercise}\n",
    ":label: rate_equations_extra_moving_average\n",
    "\n",
    "Given an array of numbers, a moving average is an array containing the mean of `n` consecutive elements. For example, the moving average of `[1. 2. 3. 4.]` with `n = 2` is `[1.5 2.5 3.5]`.\n",
    "\n",
    "The variable `pressure_data` is an array of atmospheric pressure readings in millibars.\n",
    "\n",
    "Create a second variable `pressure_smoothed` which contains the the moving average of `pressure_data` with `n = 2` and plot the two lists on a graph. (The two arrays will not be the same length so you will have to determine what to do about that!)\n",
    "\n",
    "**Challenge:** Adapt your code for an arbitrary value of `n`.\n",
    "\n",
    "```\n",
    "pressure_data = [1018.3, 1018.3, 1015.7, 1014.3, 1011.8, 1011.4, 1015.5, 1016.0, 1016.9, 1016.8, 1016.4, 1017.5, 1018.8, 1018.1, 1017.1, 1018.4, 1022.0, 1022.8, 1021.8, 1020.5, 1021.0, 1019.8, 1018.9, 1018.4, 1017.8, 1018.1, 1019.6, 1017.4, 1015.8, 1015.5, 1017.5, 1018.9, 1017.7, 1014.4, 1014.2, 1016.0, 1016.1, 1015.6, 1016.4, 1015.7, 1016.6, 1019.6, 1021.6, 1021.4, 1020.6, 1017.6, 1016.5, 1016.2, 1013.0, 1005.4, 1007.4, 1012.2, 1015.2, 1016.1, 1014.3, 1012.4, 1014.2, 1013.1, 1012.9, 1012.1, 1010.6, 1010.0, 1010.5, 1010.3, 1007.4, 1008.9, 1007.4, 1006.9, 1009.8, 1014.8, 1014.9, 1016.6, 1014.1, 1011.1, 1010.7, 1009.8, 1011.9, 1012.6, 1011.8, 1009.8, 1008.9, 1010.6, 1009.9, 1010.2, 1009.5, 1009.0, 1007.1, 1007.1, 1007.5, 1005.0, 1004.2, 1004.2, 1007.2, 1005.0, 1002.9, 1007.4, 1010.4, 1010.6, 1008.6, 1006.2, 1005.9, 1006.8, 1004.6, 1002.4, 1003.2, 1004.4, 1003.1, 1000.9, 998.6, 999.9, 1001.6, 1002.1, 1004.1]\n",
    "```\n",
    ":::\n",
    "\n",
    ":::{exercise} Challenge\n",
    ":label: rate_equations_extra_cannon\n",
    "\n",
    "A cannon located at position $x = 0, y = 0$ fires a cannonball at an angle $\\theta$ from the horizontal (measured in radians) and speed $s$ m/s. Write a program which plots a graph of the cannonball's trajectory.\n",
    "\n",
    "```{image} cannon.jpg\n",
    ":alt: cannon\n",
    ":width: 200px\n",
    "```\n",
    "\n",
    "(Hint: Create arrays `x` and `y` for the x and y coordinates and `vx` and `vy` for the x and y velocities. Set the initial positions `x[0]` and `y[0]` to zero and velocities `vx[0]` and `vy[0]` to `s * np.cos(theta)` and `s * np.sin(theta)`. At each time step, update the positions using `x[i+1] = x[i] + vx[i] * DELTA_T` and `y[i+1] = y[i] + vy[i] * DELTA_T`. Update the velocity `vy[i+1] = vy[i] - g * DELTA_T`. The x velocity remains constant `vx[i+1] = vx[i]`).\n",
    "\n",
    "Extend your program so that it prints `hit` or `miss` depending if the cannonball lands less than 20m from a target placed at a distance `dis` from the cannon.\n",
    "\n",
    "```{image} cannon_output.png\n",
    ":alt: cannon output\n",
    ":width: 200px\n",
    "```\n",
    "\n",
    "`hit`\n",
    "\n",
    ":::"
   ]
  }
 ],
 "metadata": {
  "kernelspec": {
   "display_name": "Python 3.7.9 64-bit (microsoft store)",
   "language": "python",
   "name": "python3"
  },
  "language_info": {
   "name": "python",
   "version": "3.7.9"
  },
  "orig_nbformat": 4,
  "vscode": {
   "interpreter": {
    "hash": "7f871366baaeb23d5e2a586caa18124c1371cc3d3832dcd001f8f599e1be9e29"
   }
  }
 },
 "nbformat": 4,
 "nbformat_minor": 2
}
