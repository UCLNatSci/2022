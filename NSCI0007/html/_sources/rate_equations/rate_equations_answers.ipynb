{
 "cells": [
  {
   "cell_type": "markdown",
   "metadata": {},
   "source": [
    "# Answers\n",
    "\n"
   ]
  },
  {
   "cell_type": "markdown",
   "metadata": {},
   "source": [
    "## Homework"
   ]
  },
  {
   "cell_type": "code",
   "execution_count": null,
   "metadata": {},
   "outputs": [],
   "source": [
    "import numpy as np\n",
    "import matplotlib.pyplot as plt\n",
    "\n",
    "n = 300\n",
    "k1 = .2\n",
    "k2 = .4\n",
    "k3 = .1\n",
    "k4 = .3\n",
    "\n",
    "for k1 in np.linspace(0, 0.3, 20):\n",
    "\n",
    "    X = np.zeros(n)\n",
    "    X[0] = 0\n",
    "    Y = np.zeros(n)\n",
    "    Y[0] = 0\n",
    "\n",
    "    for i in range(n - 1):\n",
    "        X[i+1] = X[i] + k1 - k2*X[i] + k3*X[i]**2*Y[i]\n",
    "        Y[i+1] = Y[i] + k4*X[i] - k3*X[i]**2*Y[i]\n",
    "\n",
    "    plt.figure(figsize=(5,5))\n",
    "    plt.plot(X, Y)\n",
    "\n",
    "    plt.figure(figsize=(5,5))\n",
    "    plt.plot(X)\n",
    "    plt.plot(Y)"
   ]
  },
  {
   "cell_type": "code",
   "execution_count": null,
   "metadata": {},
   "outputs": [],
   "source": []
  }
 ],
 "metadata": {
  "kernelspec": {
   "display_name": "Python 3.7.9 64-bit (windows store)",
   "language": "python",
   "name": "python3"
  },
  "language_info": {
   "name": "python",
   "version": "3.7.9"
  },
  "orig_nbformat": 4,
  "vscode": {
   "interpreter": {
    "hash": "7f871366baaeb23d5e2a586caa18124c1371cc3d3832dcd001f8f599e1be9e29"
   }
  }
 },
 "nbformat": 4,
 "nbformat_minor": 2
}
