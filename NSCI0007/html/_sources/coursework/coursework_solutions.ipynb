{
 "cells": [
  {
   "attachments": {},
   "cell_type": "markdown",
   "metadata": {},
   "source": [
    "# Coursework Solutions"
   ]
  },
  {
   "cell_type": "code",
   "execution_count": 1,
   "metadata": {},
   "outputs": [],
   "source": [
    "import numpy as np\n",
    "import matplotlib.pyplot as plt"
   ]
  },
  {
   "attachments": {},
   "cell_type": "markdown",
   "metadata": {},
   "source": [
    "Your notebook should:\n",
    "- run without errors\n",
    "- complete execution in no more than 1 minute\n",
    "- be well-organised with import statements, functions and executable code clearly separated\n",
    "- not include any redundant code\n",
    "- include sufficient text and/or comments such that a reader could easily understand the flow of your program\n",
    "\n",
    "## Organisation\n",
    "\n",
    "> A maximum of **5 marks** will be awarded to submissions that meet these requirements.\n",
    "\n",
    "|Criterion|Mark|\n",
    "|---|---|\n",
    "|Notebook too disorganised to assess|0|\n",
    "|Solution presented but some execution errors or does not complete in a timely fashion |1-2|\n",
    "|Solution presented with sufficient commentary. May include some redundant code or ineffiencies |3-4|\n",
    "|Solution presented including markdown commentary and efficient coding practice|5|\n",
    "\n",
    "## Part 1\n",
    "\n",
    "For each step, example solutions are shown but any method which produces the correct output is OK. Deduct 1 mark if the simulation fails in a small number of edge cases (unless the edge cases are impossible or irrelevant in the context of the problem). Do not award marks for the test case if it only works in a trivial way (eg hardcoded values).\n",
    "\n",
    "Partial marks awarded where solutions which do not work but where the correct algorithm is attempted.\n",
    "\n",
    "### Step 1\n",
    "\n",
    "**4 marks** will be awarded for a function which correctly returns an array as described and **1 mark** for including the test case.\n",
    "\n",
    "No need to check for impossible parameter values (eg `n` too large)."
   ]
  },
  {
   "cell_type": "code",
   "execution_count": 2,
   "metadata": {},
   "outputs": [
    {
     "name": "stdout",
     "output_type": "stream",
     "text": [
      "[[2. 0. 0. 0.]\n",
      " [1. 2. 0. 2.]\n",
      " [0. 0. 1. 1.]\n",
      " [1. 2. 1. 2.]]\n"
     ]
    }
   ],
   "source": [
    "\n",
    "def initialise_grid(N, n):\n",
    "    x = np.zeros((N, N))\n",
    "    k = 0\n",
    "    while k < n:\n",
    "        i = np.random.randint(N)\n",
    "        j = np.random.randint(N)\n",
    "        if x[i,j] == 0:\n",
    "            k += 1\n",
    "            x[i,j] = 1\n",
    "    k = 0\n",
    "    while k < n:\n",
    "        i = np.random.randint(N)\n",
    "        j = np.random.randint(N)\n",
    "        if x[i,j] == 0:\n",
    "            k += 1\n",
    "            x[i,j] = 2\n",
    "    \n",
    "    return x\n",
    "\n",
    "\n",
    "grid = initialise_grid(4, 5)\n",
    "\n",
    "# A 4 by 4 array with exactly 5 `1`s and 5 `2`s\n",
    "print(grid)"
   ]
  },
  {
   "attachments": {},
   "cell_type": "markdown",
   "metadata": {},
   "source": [
    "### Step 2\n",
    "\n",
    "**4 marks** for a function which returns the correct value for all possible arguments `x`, `i` and `j`, and **1 mark** for including the test cases."
   ]
  },
  {
   "cell_type": "code",
   "execution_count": 3,
   "metadata": {},
   "outputs": [
    {
     "name": "stdout",
     "output_type": "stream",
     "text": [
      "1\n",
      "1\n",
      "0\n",
      "2\n"
     ]
    }
   ],
   "source": [
    "def neighbours_same(x, i, j):\n",
    "    N = len(x)\n",
    "    count = 0\n",
    "    for a in range(max((i-1), 0), min(i+2, N)):\n",
    "        for b in range(max((j-1), 0), min(j+2, N)):\n",
    "            if x[a, b] == x[i,j]:\n",
    "                count = count + 1\n",
    "    count = count - 1\n",
    "    return count\n",
    "    \n",
    "x_test = np.array([[2, 2, 1, 2, 1],\n",
    "                   [0, 1, 1, 1, 1],\n",
    "                   [2, 2, 0, 0, 0],\n",
    "                   [2, 1, 2, 2, 2],\n",
    "                   [2, 1, 1, 0, 1]])\n",
    "\n",
    "print(neighbours_same(x_test, 0, 0))\n",
    "print(neighbours_same(x_test, 0, 1))\n",
    "print(neighbours_same(x_test, 1, 0))\n",
    "print(neighbours_same(x_test, 1, 1))"
   ]
  },
  {
   "attachments": {},
   "cell_type": "markdown",
   "metadata": {},
   "source": [
    "### Step 3\n",
    "\n",
    "**2 marks** for a function which returns the correct value for all possible arguments `x`, `i` and `j`, and **1 mark** for including the test cases."
   ]
  },
  {
   "cell_type": "code",
   "execution_count": 4,
   "metadata": {},
   "outputs": [
    {
     "name": "stdout",
     "output_type": "stream",
     "text": [
      "2\n",
      "4\n",
      "5\n",
      "6\n"
     ]
    }
   ],
   "source": [
    "\n",
    "def neighbours_total(x, i, j):\n",
    "    N = len(x)\n",
    "    count = 0\n",
    "    for a in range(max((i-1), 0), min(i+2, N)):\n",
    "        for b in range(max((j-1), 0), min(j+2, N)):\n",
    "            if x[a, b] != 0:\n",
    "                count = count + 1\n",
    "    if x[i, j] != 0:\n",
    "        count = count - 1\n",
    "    return count\n",
    "    \n",
    "print(neighbours_total(x_test, 0, 0))\n",
    "print(neighbours_total(x_test, 0, 1))\n",
    "print(neighbours_total(x_test, 1, 0))\n",
    "print(neighbours_total(x_test, 1, 1))"
   ]
  },
  {
   "cell_type": "markdown",
   "metadata": {},
   "source": [
    "### Step 4\n",
    "\n",
    "**4 marks** for a function which executes correctly for all possible arguments `x` and `f`, and **1 mark** for including the test case.\n"
   ]
  },
  {
   "cell_type": "code",
   "execution_count": 6,
   "metadata": {},
   "outputs": [
    {
     "name": "stdout",
     "output_type": "stream",
     "text": [
      "[[0. 1. 0. 1. 0.]\n",
      " [0. 1. 0. 0. 0.]\n",
      " [0. 0. 0. 0. 0.]\n",
      " [0. 1. 0. 0. 0.]\n",
      " [1. 0. 0. 0. 1.]]\n"
     ]
    }
   ],
   "source": [
    "def get_dissatisfied_cells(x, f):\n",
    "    N = len(x)\n",
    "    dis = np.zeros((N, N))\n",
    "    for i in range(N):\n",
    "        for j in range(N):\n",
    "            same = neighbours_same(x, i, j)\n",
    "            total = neighbours_total(x, i, j)\n",
    "            if x[i,j] != 0 and total != 0 and same/total < f:\n",
    "                dis[i,j] = 1\n",
    "    return dis\n",
    "f = 0.4\n",
    "\n",
    "print(get_dissatisfied_cells(x_test, f))"
   ]
  },
  {
   "attachments": {},
   "cell_type": "markdown",
   "metadata": {},
   "source": [
    "### Step 5\n",
    "\n",
    "**6 marks** for a function which works as described for all possible imputs of `x` and `f`, **1 mark** for including the test case."
   ]
  },
  {
   "cell_type": "code",
   "execution_count": 7,
   "metadata": {},
   "outputs": [
    {
     "name": "stdout",
     "output_type": "stream",
     "text": [
      "[[2. 0. 1. 0. 1.]\n",
      " [2. 1. 1. 1. 1.]\n",
      " [2. 2. 1. 0. 2.]\n",
      " [2. 0. 2. 2. 2.]\n",
      " [2. 1. 1. 1. 0.]]\n"
     ]
    }
   ],
   "source": [
    "def advance(x, f):\n",
    "    N = len(x)\n",
    "    dis = get_dissatisfied_cells(x, f)\n",
    "    result = np.zeros((N, N))\n",
    "    for i in range(N):\n",
    "        for j in range(N):\n",
    "            if dis[i, j] == 0:\n",
    "                result[i, j] = x[i, j]\n",
    "                \n",
    "    for i in range(N):\n",
    "        for j in range(N):\n",
    "            if dis[i, j] == 1:\n",
    "                i_new = np.random.randint(N)\n",
    "                j_new = np.random.randint(N)\n",
    "                while result[i_new, j_new] != 0:\n",
    "                    i_new = np.random.randint(N)\n",
    "                    j_new = np.random.randint(N)\n",
    "                result[i_new, j_new] = x[i, j]\n",
    "    return result\n",
    "    \n",
    "f = 0.3\n",
    "\n",
    "x2 = advance(x_test, f)\n",
    "print(x2)"
   ]
  },
  {
   "attachments": {},
   "cell_type": "markdown",
   "metadata": {},
   "source": [
    "### Step 6\n",
    "\n",
    "**2 marks** for correctly initialising the grid, **3 marks** for executing the simulation and displaying the results.\n"
   ]
  },
  {
   "cell_type": "code",
   "execution_count": 8,
   "metadata": {},
   "outputs": [
    {
     "data": {
      "image/png": "[encoded data removed]",
      "text/plain": [
       "<Figure size 1200x200 with 11 Axes>"
      ]
     },
     "metadata": {},
     "output_type": "display_data"
    }
   ],
   "source": [
    "N = 20\n",
    "n = int(N**2 * .45)\n",
    "f = 0.5\n",
    "num = 10\n",
    "\n",
    "grid = initialise_grid(N, n)\n",
    "\n",
    "fig, axes = plt.subplots(1, num+1, figsize=(12,2))\n",
    "\n",
    "axes[0].imshow(grid)\n",
    "axes[0].axis(\"off\")\n",
    "\n",
    "for i in range(num):\n",
    "    \n",
    "    grid = advance(grid, f)\n",
    "\n",
    "    axes[i+1].imshow(grid)\n",
    "    axes[i+1].axis(\"off\")"
   ]
  },
  {
   "attachments": {},
   "cell_type": "markdown",
   "metadata": {},
   "source": [
    "## Part 2\n",
    "\n",
    "|Category|Mark|Description|\n",
    "|---|---|---|\n",
    "|Analysis/Results|7|The simulation executed for a variety of values of $f$ and the results presented and described. At least one different starting condition or grid size demonstrated. Maximum of 3 marks if a determination of the values of $f$ resulting in equilibrium only determined 'by eye'.|\n",
    "|Conclusions|3|The simulation reaches equilibrium for small values of $f$ but not large. A threshold value of $f$ determined. A valid statement as to whether starting condition or grid size affects this value.|\n",
    "|Evaluation|2|Comments of the strengths/limitations of the conclusions (eg stochastcity of the simulation, slow run time), possible mitigations (eg averaging), or improvements that could be made (eg. changes to make it run faster, test more parameter values)|\n",
    "|Communication|3|Full marks for clearly presented results described with full sentences. Figures annotated with parameter values.|\n",
    "\n",
    "The following is a sketch of a possible solution to this question.\n",
    "\n",
    "Varying $f$ but fixing the other parameters as in step 6 we can see that time simulation heads towards a stable equilbrium for small values of $f$, but not for large values. "
   ]
  },
  {
   "cell_type": "code",
   "execution_count": 9,
   "metadata": {},
   "outputs": [
    {
     "data": {
      "image/png": "[encoded data removed]",
      "text/plain": [
       "<Figure size 1200x200 with 11 Axes>"
      ]
     },
     "metadata": {},
     "output_type": "display_data"
    },
    {
     "data": {
      "image/png": "[encoded data removed]",
      "text/plain": [
       "<Figure size 1200x200 with 11 Axes>"
      ]
     },
     "metadata": {},
     "output_type": "display_data"
    },
    {
     "data": {
      "image/png": "[encoded data removed]",
      "text/plain": [
       "<Figure size 1200x200 with 11 Axes>"
      ]
     },
     "metadata": {},
     "output_type": "display_data"
    },
    {
     "data": {
      "image/png": "[encoded data removed]",
      "text/plain": [
       "<Figure size 1200x200 with 11 Axes>"
      ]
     },
     "metadata": {},
     "output_type": "display_data"
    },
    {
     "data": {
      "image/png": "[encoded data removed]",
      "text/plain": [
       "<Figure size 1200x200 with 11 Axes>"
      ]
     },
     "metadata": {},
     "output_type": "display_data"
    },
    {
     "data": {
      "image/png": "[encoded data removed]",
      "text/plain": [
       "<Figure size 1200x200 with 11 Axes>"
      ]
     },
     "metadata": {},
     "output_type": "display_data"
    },
    {
     "data": {
      "image/png": "[encoded data removed]",
      "text/plain": [
       "<Figure size 1200x200 with 11 Axes>"
      ]
     },
     "metadata": {},
     "output_type": "display_data"
    },
    {
     "data": {
      "image/png": "[encoded data removed]",
      "text/plain": [
       "<Figure size 1200x200 with 11 Axes>"
      ]
     },
     "metadata": {},
     "output_type": "display_data"
    },
    {
     "data": {
      "image/png": "[encoded data removed]",
      "text/plain": [
       "<Figure size 1200x200 with 11 Axes>"
      ]
     },
     "metadata": {},
     "output_type": "display_data"
    },
    {
     "data": {
      "image/png": "[encoded data removed]",
      "text/plain": [
       "<Figure size 1200x200 with 11 Axes>"
      ]
     },
     "metadata": {},
     "output_type": "display_data"
    },
    {
     "data": {
      "image/png": "[encoded data removed]",
      "text/plain": [
       "<Figure size 1200x200 with 11 Axes>"
      ]
     },
     "metadata": {},
     "output_type": "display_data"
    }
   ],
   "source": [
    "f_array = np.linspace(0, 1, 11)\n",
    "for f in f_array:\n",
    "\n",
    "    N = 20\n",
    "    n = int(N**2 * .45)\n",
    "\n",
    "    num = 10\n",
    "\n",
    "    grid = initialise_grid(N, n)\n",
    "\n",
    "    fig, axes = plt.subplots(1, num+1, figsize=(12,2))\n",
    "    axes[0].set_title(\"f = %.1f\" % f)\n",
    "\n",
    "    axes[0].imshow(grid)\n",
    "    axes[0].axis(\"off\")\n",
    "\n",
    "    for i in range(num):\n",
    "        \n",
    "        grid = advance(grid, f)\n",
    "\n",
    "        axes[i+1].imshow(grid)\n",
    "        axes[i+1].axis(\"off\")"
   ]
  },
  {
   "attachments": {},
   "cell_type": "markdown",
   "metadata": {},
   "source": [
    "Determining whether equilibrium is reached by eye is unreliable, so it is better to find a computational method. To determine the whether a particular simulation has reached equilbrium, we can test if consecutive arrays are equal. Use `np.all(grid == grid2)` (where `grid2` is the current array and `grid` is the previous one) to test if the array has changed between steps.\n",
    "\n",
    "The code below defines a function `equilibrium_reached` which returns an array of `1`s and `0`s corresponding to whether consecutive arrays are equal at each timestep."
   ]
  },
  {
   "cell_type": "code",
   "execution_count": 10,
   "metadata": {},
   "outputs": [],
   "source": [
    "# For the given parameters N, f, p and num,\n",
    "# Returns an array whose values are 1 if consecutive arrays\n",
    "# Are equal and 0 if they are different\n",
    "def equilibrium_reached(N, f, p, num):\n",
    "    n = int(N**2 * p)\n",
    "\n",
    "    grid = initialise_grid(N, n)\n",
    "\n",
    "    equilibrium = np.zeros(num)\n",
    "    for i in range(num):\n",
    "        \n",
    "        grid2 = advance(grid, f)\n",
    "\n",
    "        if np.all(grid == grid2):\n",
    "            equilibrium[i] = 1\n",
    "\n",
    "        grid = grid2\n",
    "\n",
    "    return equilibrium"
   ]
  },
  {
   "attachments": {},
   "cell_type": "markdown",
   "metadata": {},
   "source": [
    "We run the simulation for values of `f` bewteen 0 and 1. For simulations which reach equilibrium, the last element in each array is `1`. We can see that equilibrium is reached somewhere between `0.5` and `0.6`."
   ]
  },
  {
   "cell_type": "code",
   "execution_count": 11,
   "metadata": {},
   "outputs": [
    {
     "name": "stdout",
     "output_type": "stream",
     "text": [
      "0.0 [1. 1. 1. 1. 1. 1. 1. 1. 1. 1. 1. 1. 1. 1. 1. 1. 1. 1. 1. 1. 1. 1. 1. 1.\n",
      " 1. 1. 1. 1. 1. 1.]\n",
      "0.1 [0. 0. 1. 1. 1. 1. 1. 1. 1. 1. 1. 1. 1. 1. 1. 1. 1. 1. 1. 1. 1. 1. 1. 1.\n",
      " 1. 1. 1. 1. 1. 1.]\n",
      "0.2 [0. 0. 0. 1. 1. 1. 1. 1. 1. 1. 1. 1. 1. 1. 1. 1. 1. 1. 1. 1. 1. 1. 1. 1.\n",
      " 1. 1. 1. 1. 1. 1.]\n",
      "0.30000000000000004 [0. 0. 0. 0. 0. 0. 0. 0. 0. 1. 1. 1. 1. 1. 1. 1. 1. 1. 1. 1. 1. 1. 1. 1.\n",
      " 1. 1. 1. 1. 1. 1.]\n",
      "0.4 [0. 0. 0. 0. 0. 0. 0. 0. 0. 0. 0. 0. 0. 0. 0. 0. 0. 0. 0. 0. 0. 0. 0. 0.\n",
      " 0. 0. 1. 0. 1. 1.]\n",
      "0.5 [0. 0. 0. 0. 0. 0. 0. 0. 0. 0. 0. 1. 1. 1. 1. 1. 1. 1. 1. 1. 1. 1. 1. 1.\n",
      " 1. 1. 1. 1. 1. 1.]\n",
      "0.6000000000000001 [0. 0. 0. 0. 0. 0. 0. 0. 0. 0. 0. 0. 0. 0. 0. 0. 0. 0. 0. 0. 0. 0. 0. 0.\n",
      " 0. 0. 0. 0. 0. 0.]\n",
      "0.7000000000000001 [0. 0. 0. 0. 0. 0. 0. 0. 0. 0. 0. 0. 0. 0. 0. 0. 0. 0. 0. 0. 0. 0. 0. 0.\n",
      " 0. 0. 0. 0. 0. 0.]\n",
      "0.8 [0. 0. 0. 0. 0. 0. 0. 0. 0. 0. 0. 0. 0. 0. 0. 0. 0. 0. 0. 0. 0. 0. 0. 0.\n",
      " 0. 0. 0. 0. 0. 0.]\n",
      "0.9 [0. 0. 0. 0. 0. 0. 0. 0. 0. 0. 0. 0. 0. 0. 0. 0. 0. 0. 0. 0. 0. 0. 0. 0.\n",
      " 0. 0. 0. 0. 0. 0.]\n",
      "1.0 [0. 0. 0. 0. 0. 0. 0. 0. 0. 0. 0. 0. 0. 0. 0. 0. 0. 0. 0. 0. 0. 0. 0. 0.\n",
      " 0. 0. 0. 0. 0. 0.]\n"
     ]
    }
   ],
   "source": [
    "n = 11\n",
    "f_array = np.linspace(0, 1, n)\n",
    "for i in range(n):\n",
    "    print(f_array[i], equilibrium_reached(20, f_array[i], .45, 30))"
   ]
  },
  {
   "cell_type": "markdown",
   "metadata": {},
   "source": []
  },
  {
   "cell_type": "code",
   "execution_count": 12,
   "metadata": {},
   "outputs": [
    {
     "name": "stdout",
     "output_type": "stream",
     "text": [
      "0.4 [0. 0. 0. 0. 0. 0. 0. 0. 0. 0. 0. 0. 0. 0. 0. 0. 0. 0. 0. 0. 0. 1. 1. 1.\n",
      " 1. 1. 1. 1. 1. 1.]\n",
      "0.42000000000000004 [0. 0. 0. 0. 0. 0. 0. 0. 0. 1. 1. 1. 1. 1. 1. 1. 1. 1. 1. 1. 1. 1. 1. 1.\n",
      " 1. 1. 1. 1. 1. 1.]\n",
      "0.44 [0. 0. 0. 0. 0. 0. 0. 0. 0. 0. 0. 0. 0. 0. 0. 1. 1. 1. 1. 1. 1. 1. 1. 1.\n",
      " 1. 1. 1. 1. 1. 1.]\n",
      "0.46 [0. 0. 0. 0. 0. 0. 0. 0. 1. 1. 1. 1. 1. 1. 1. 1. 1. 1. 1. 1. 1. 1. 1. 1.\n",
      " 1. 1. 1. 1. 1. 1.]\n",
      "0.48 [0. 0. 0. 0. 0. 0. 0. 0. 1. 1. 1. 1. 1. 1. 1. 1. 1. 1. 1. 1. 1. 1. 1. 1.\n",
      " 1. 1. 1. 1. 1. 1.]\n",
      "0.5 [0. 0. 0. 0. 0. 0. 0. 0. 0. 0. 0. 0. 0. 0. 0. 1. 1. 1. 1. 1. 1. 1. 1. 1.\n",
      " 1. 1. 1. 1. 1. 1.]\n",
      "0.52 [0. 0. 0. 0. 0. 0. 0. 0. 0. 0. 0. 0. 0. 0. 0. 0. 0. 0. 0. 0. 0. 0. 0. 0.\n",
      " 0. 0. 0. 0. 0. 0.]\n",
      "0.54 [0. 0. 0. 0. 0. 0. 0. 0. 0. 0. 0. 0. 0. 0. 0. 0. 0. 0. 0. 0. 0. 0. 0. 0.\n",
      " 0. 0. 1. 1. 1. 1.]\n",
      "0.56 [0. 0. 0. 0. 0. 0. 0. 0. 0. 0. 0. 0. 0. 0. 0. 0. 0. 0. 0. 0. 0. 0. 0. 0.\n",
      " 0. 0. 0. 0. 0. 0.]\n",
      "0.58 [0. 0. 0. 0. 0. 0. 0. 0. 0. 0. 0. 0. 0. 0. 0. 0. 0. 0. 0. 0. 0. 0. 0. 0.\n",
      " 0. 0. 0. 0. 0. 0.]\n",
      "0.6 [0. 0. 0. 0. 0. 0. 0. 0. 0. 0. 0. 0. 0. 0. 0. 0. 0. 0. 0. 0. 0. 0. 0. 0.\n",
      " 0. 0. 0. 0. 0. 0.]\n"
     ]
    }
   ],
   "source": [
    "n = 11\n",
    "f_array = np.linspace(0.4, 0.6, n)\n",
    "for i in range(n):\n",
    "    print(f_array[i], equilibrium_reached(20, f_array[i], .45, 30))"
   ]
  },
  {
   "attachments": {},
   "cell_type": "markdown",
   "metadata": {},
   "source": [
    "Finding an exact value of $f$ which results in equilibrium is not possible due to the stochastic (random) nature of the simulation, although one way to mitigate against this would be to execute the simulation many times for each value of $f$. Furthermore, it is not possible to determine if a simulation 'eventually' reaches equilibrium without running it forever, so a maximum number of iterations must be fixed in advance (in this case `20`)."
   ]
  },
  {
   "attachments": {},
   "cell_type": "markdown",
   "metadata": {},
   "source": [
    "\n",
    "\n"
   ]
  },
  {
   "attachments": {},
   "cell_type": "markdown",
   "metadata": {},
   "source": []
  },
  {
   "attachments": {},
   "cell_type": "markdown",
   "metadata": {},
   "source": []
  },
  {
   "attachments": {},
   "cell_type": "markdown",
   "metadata": {},
   "source": []
  }
 ],
 "metadata": {
  "kernelspec": {
   "display_name": "Python 3",
   "language": "python",
   "name": "python3"
  },
  "language_info": {
   "codemirror_mode": {
    "name": "ipython",
    "version": 3
   },
   "file_extension": ".py",
   "mimetype": "text/x-python",
   "name": "python",
   "nbconvert_exporter": "python",
   "pygments_lexer": "ipython3",
   "version": "3.7.9 (tags/v3.7.9:13c94747c7, Aug 17 2020, 18:58:18) [MSC v.1900 64 bit (AMD64)]"
  },
  "orig_nbformat": 4,
  "vscode": {
   "interpreter": {
    "hash": "7924ab759b3df5cb48bbab33739b019b840d790ae77db55f5a743ebfebcfdc3f"
   }
  }
 },
 "nbformat": 4,
 "nbformat_minor": 2
}
