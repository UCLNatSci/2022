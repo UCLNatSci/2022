{
 "cells": [
  {
   "cell_type": "code",
   "execution_count": null,
   "metadata": {
    "collapsed": false,
    "tags": [
     "remove-cell"
    ]
   },
   "outputs": [
    {
     "ename": "",
     "evalue": "",
     "output_type": "error",
     "traceback": [
      "\u001b[1;31mRunning cells with 'Python 3.7.9 64-bit (windows store)' requires ipykernel package.\n",
      "Run the following command to install 'ipykernel' into the Python environment. \n",
      "Command: 'c:/Users/NatSciTeaching/AppData/Local/Microsoft/WindowsApps/python3.7.exe -m pip install ipykernel -U --user --force-reinstall'"
     ]
    }
   ],
   "source": [
    "import numpy as np\n",
    "import matplotlib.pyplot as plt\n",
    "\n",
    "def initialise_grid(N, n):\n",
    "    x = np.zeros((N, N))\n",
    "    k = 0\n",
    "    while k < n:\n",
    "        i = np.random.randint(N)\n",
    "        j = np.random.randint(N)\n",
    "        if x[i,j] == 0:\n",
    "            k += 1\n",
    "            x[i,j] = 1\n",
    "    k = 0\n",
    "    while k < n:\n",
    "        i = np.random.randint(N)\n",
    "        j = np.random.randint(N)\n",
    "        if x[i,j] == 0:\n",
    "            k += 1\n",
    "            x[i,j] = 2\n",
    "    \n",
    "    return x\n",
    "\n",
    "def neighbours_same(x, i, j):\n",
    "    N = len(x)\n",
    "    count = 0\n",
    "    for a in range(max((i-1), 0), min(i+2, N)):\n",
    "        for b in range(max((j-1), 0), min(j+2, N)):\n",
    "            if x[a, b] == x[i,j]:\n",
    "                count = count + 1\n",
    "    count = count - 1\n",
    "    return count\n",
    "\n",
    "def neighbours_total(x, i, j):\n",
    "    N = len(x)\n",
    "    count = 0\n",
    "    for a in range(max((i-1), 0), min(i+2, N)):\n",
    "        for b in range(max((j-1), 0), min(j+2, N)):\n",
    "            if x[a, b] != 0:\n",
    "                count = count + 1\n",
    "    if x[i, j] != 0:\n",
    "        count = count - 1\n",
    "    return count\n",
    "\n",
    "def get_dissatisfied_cells(x, f):\n",
    "    N = len(x)\n",
    "    dis = np.zeros((N, N))\n",
    "    for i in range(N):\n",
    "        for j in range(N):\n",
    "            same = neighbours_same(x, i, j)\n",
    "            total = neighbours_total(x, i, j)\n",
    "            if x[i,j] != 0 and total != 0 and same/total < f:\n",
    "                dis[i,j] = 1\n",
    "    return dis\n",
    "            \n",
    "def advance(x, f):\n",
    "    N = len(x)\n",
    "    dis = get_dissatisfied_cells(x, f)\n",
    "    result = np.zeros((N, N))\n",
    "    for i in range(N):\n",
    "        for j in range(N):\n",
    "            if dis[i, j] == 0:\n",
    "                result[i, j] = x[i, j]\n",
    "                \n",
    "    for i in range(N):\n",
    "        for j in range(N):\n",
    "            if dis[i, j] == 1:\n",
    "                i_new = np.random.randint(N)\n",
    "                j_new = np.random.randint(N)\n",
    "                while result[i_new, j_new] != 0:\n",
    "                    i_new = np.random.randint(N)\n",
    "                    j_new = np.random.randint(N)\n",
    "                result[i_new, j_new] = x[i, j]\n",
    "    return result\n",
    "\n",
    "N = 15\n",
    "n = 100\n",
    "f = 0.5\n",
    "\n",
    "grid = initialise_grid(N, n)\n",
    "\n",
    "plt.figure()\n",
    "plt.imshow(grid)\n",
    "\n",
    "for i in range(10):\n",
    "    \n",
    "    grid = advance(grid, f)\n",
    "    plt.figure()\n",
    "    plt.imshow(grid)\n",
    "\n"
   ]
  },
  {
   "cell_type": "markdown",
   "metadata": {
    "collapsed": false
   },
   "source": [
    "# NSCI0007 Coursework (LSA)\n",
    "\n",
    "## Background\n",
    "\n",
    "Suppose there are two species of organism which live in a neighbourhood consisting of a square grid of cells. Populations of the two species are initially placed into random locations of a neighbourhood represented by a grid. After placing all the organisms in the grid, each cell is either occupied by an organism or is empty as shown below.\n",
    "\n",
    "![](grid1.png)\n",
    "\n",
    "The organisms prefer to be surrounded by organisms of the same type. An organism is *satisfied* if it is surrounded by at least a fraction $f$ of organisms that are of a like species.\n",
    "\n",
    "For example, if $f = 0.3$, an organism is satisfied if at least 30% of its neighbours are the same species as itself. If the organism is satisfied, then it will remain in its current location. If fewer than 30% are the same species, then the organism is not satisfied, and it will want to change its location in the grid.\n",
    "\n",
    "The picture below (left) shows a satisfied organism because 50% of X's neighbors are also X ($50\\% > f$). The next X (right) is not satisfied because only 25% of its neighbors are X ($25\\% < f$). Notice that empty cells are not counted when calculating similarity.\n",
    "\n",
    "![](grid2.png) ![](grid3.png)\n",
    "\n",
    "When an organism is not satisfied, it is moved to any vacant location in the grid. The new location is chosen at random from amongst the empty cells.\n",
    "\n",
    "In the image below (left), all dissatisfied organisms have an asterisk next to them. The image on the right shows the new configuration after all the dissatisfied organisms have been moved to unoccupied cells at random. Note that the new configuration may cause some organisms which were previously satisfied to become dissatisfied!\n",
    "\n",
    "![](grid4.png) ![](grid5.png)\n",
    "\n",
    "All dissatisfied organisms are moved in the same round. After the round is complete, a new round begins, and dissatisfied organisms are once again moved to new locations in the grid. These rounds continue until all organisms in the neighbourhood are satisfied with their location.\n",
    "\n",
    "The animation below shows an example of how the distribution of two populations might evolve. Notice that the distribution eventually settles down to a stable pattern with organisms segregated into distinct regions.\n",
    "\n",
    "```{image} atlas.gif\n",
    ":width: 300px\n",
    ":align: center\n",
    "```\n",
    "\n",
    "## Coursework\n",
    "\n",
    "By following the steps below you will implement the simulation using Python. You will model the grid as an array containing the values `1` and `2` which represent the two species of organism and `0` which represents an empty cell. Starter code is provided to help you."
   ]
  },
  {
   "cell_type": "markdown",
   "metadata": {
    "collapsed": false
   },
   "source": [
    "\n",
    "First you will write a function which places `n` `1`s and `n` `2`s at random locations in an `N` by `N` array.\n",
    "\n",
    "The following code uses the function `randint` to place `1` at a random location in a `3` by `3` array `x` six times:\n",
    "```\n",
    "import numpy as np\n",
    "\n",
    "x = np.zeros((3, 3))\n",
    "\n",
    "for n in range(6):\n",
    "    i = np.random.randint(3)\n",
    "    j = np.random.randint(3)\n",
    "    x[i, j] = 1\n",
    "        \n",
    "print(x)\n",
    "```\n",
    "\n",
    "Notice that when you run the code, we don't end up with six ones! This is because we sometimes end up randomly choosing the same cell twice.\n",
    "\n",
    "You can fix this problem by replacing the `for` loop with a `while` loop which terminates once we have placed six `1`s in to empty cells.\n",
    "\n",
    "### Question 1 [5 marks] \n",
    "\n",
    "Write a function `initialise_grid(N, n)` which returns an array of dimensions `N` by `N` containing exactly `n` `1`s and `n` `2`s placed at random cells in the array. Use the code below to help.\n",
    "\n",
    "```\n",
    "def initialise_grid(N, n):\n",
    "    x = np.zeros((N, N))\n",
    "    k = 0\n",
    "    while k < n:\n",
    "        # select a random i and j\n",
    "        # if the cell i, j is empty, set it to 1 and increase k\n",
    "    \n",
    "    # same again for 2s\n",
    "    \n",
    "    return x\n",
    "```\n",
    "\n",
    "Test that your code works as below."
   ]
  },
  {
   "cell_type": "code",
   "execution_count": null,
   "metadata": {
    "collapsed": false
   },
   "outputs": [
    {
     "ename": "",
     "evalue": "",
     "output_type": "error",
     "traceback": [
      "\u001b[1;31mRunning cells with 'Python 3.7.9 64-bit (windows store)' requires ipykernel package.\n",
      "Run the following command to install 'ipykernel' into the Python environment. \n",
      "Command: 'c:/Users/NatSciTeaching/AppData/Local/Microsoft/WindowsApps/python3.7.exe -m pip install ipykernel -U --user --force-reinstall'"
     ]
    }
   ],
   "source": [
    "grid = initialise_grid(4, 5)\n",
    "\n",
    "# A 4 by 4 array with exactly 5 `1`s and 5 `2`s\n",
    "print(grid)"
   ]
  },
  {
   "cell_type": "markdown",
   "metadata": {
    "collapsed": false
   },
   "source": [
    "\n",
    "The function `neighbours_same(x, i, j) ` returns the number of neighbours which are of the same species as cell `i, j`. Notice the carefully calculated limits of the for loop so that we don't go beyond the borders of the grid!\n",
    "\n",
    "```\n",
    "def neighbours_same(x, i, j):\n",
    "    N = len(x)\n",
    "    count = 0\n",
    "    for a in range(max((i-1), 0), min(i+2, N)):\n",
    "        for b in range(max((j-1), 0), min(j+2, N)):\n",
    "            if x[a, b] == x[i,j]:\n",
    "                count = count + 1\n",
    "    count = count - 1 # subtract 1 since the cell i, j always equals itself!\n",
    "    return count\n",
    "```\n",
    "\n",
    "### Question 2 [5 marks]\n",
    "\n",
    "Write a function `neighbours_total(x, i, j)` which returns the total number of non-empty neighbouring cells of cell `i, j`. Check that your function works in the following cases:"
   ]
  },
  {
   "cell_type": "code",
   "execution_count": 3,
   "metadata": {
    "collapsed": false
   },
   "outputs": [
    {
     "name": "stdout",
     "output_type": "stream",
     "text": [
      "2\n",
      "4\n",
      "5\n",
      "6\n"
     ]
    }
   ],
   "source": [
    "x = np.array([[2, 2, 1, 2, 1],\n",
    "              [0, 1, 1, 1, 1],\n",
    "              [2, 2, 0, 0, 0],\n",
    "              [2, 1, 2, 2, 2],\n",
    "              [2, 1, 1, 0, 1]])\n",
    "\n",
    "            \n",
    "print(neighbours_total(x, 0, 0)) # should print 2\n",
    "print(neighbours_total(x, 0, 1)) # should print 4\n",
    "print(neighbours_total(x, 1, 0)) # should print 5\n",
    "print(neighbours_total(x, 1, 1)) # should print 6"
   ]
  },
  {
   "cell_type": "markdown",
   "metadata": {
    "collapsed": false
   },
   "source": [
    "### Question 3 [10 marks]\n",
    "\n",
    "Write a function `get_dissatisfied_cells(x, f)` which returns an `N` by `N` array whose values are `1` for cells containing a dissatisfied organism, or `0` otherwise. An organism is disatisfied if the fraction of its neighbours which are the same as it is less than `f`.\n",
    "\n",
    "```\n",
    "def get_dissatisfied_cells(x, f):\n",
    "    N = len(x)\n",
    "    dis = np.zeros((N, N))\n",
    "    \n",
    "    # loop over all cells in x\n",
    "    # and determine if it is satisfied\n",
    "\n",
    "    return dis\n",
    "```\n",
    "\n",
    "For example,"
   ]
  },
  {
   "cell_type": "code",
   "execution_count": 4,
   "metadata": {
    "collapsed": false
   },
   "outputs": [
    {
     "name": "stdout",
     "output_type": "stream",
     "text": [
      "[[0. 1. 0. 1. 0.]\n",
      " [1. 1. 0. 0. 0.]\n",
      " [0. 0. 1. 1. 1.]\n",
      " [0. 1. 0. 0. 0.]\n",
      " [1. 0. 0. 1. 1.]]\n"
     ]
    }
   ],
   "source": [
    "x = np.array([[2, 2, 1, 2, 1],\n",
    "              [0, 1, 1, 1, 1],\n",
    "              [2, 2, 0, 0, 0],\n",
    "              [2, 1, 2, 2, 2],\n",
    "              [2, 1, 1, 0, 1]])\n",
    "f = 0.4\n",
    "\n",
    "print(get_dissatisfied_cells(x, f))"
   ]
  },
  {
   "cell_type": "markdown",
   "metadata": {
    "collapsed": false
   },
   "source": [
    "### Question 4 [10 marks]\n",
    "\n",
    "Write a function `advance(x, f)` which returns the array of cells after moving all dissatisfied organisms to an unoccupied cell.\n",
    "\n",
    "You will need to do this in two steps:\n",
    "\n",
    "1. **Satisfied organisms stay where they are:** loop over all cells in `dis`, and for each satisfied cell set the value of `result` to the same value as the equivalent cell in `x`.\n",
    "2. **Dissatisfied organisms move to a random empty cell:** loop over all cells again. For each unsatisfied cell, choose a random empty cell and set its value to the species number. As in Question 1, you can use a while loop to find a random empty cell.\n",
    "\n",
    "```\n",
    "def advance(x, f):\n",
    "    N = len(x)\n",
    "    dis = get_dissatisfied_cells(x, f)\n",
    "    result = np.zeros((N, N))\n",
    "    \n",
    "    # loop over all cells in dis\n",
    "    # and set value of result if satisfied\n",
    "                \n",
    "    # loop over all cells in dis\n",
    "    # for each disatisfied cell, find a random\n",
    "    # empty cell in result and set its value\n",
    "```\n",
    "\n",
    "Check your code works similarly to below."
   ]
  },
  {
   "cell_type": "code",
   "execution_count": 5,
   "metadata": {
    "collapsed": false
   },
   "outputs": [
    {
     "name": "stdout",
     "output_type": "stream",
     "text": [
      "[[2. 2. 1. 2. 1.]\n",
      " [0. 1. 1. 1. 1.]\n",
      " [2. 2. 0. 1. 0.]\n",
      " [2. 0. 2. 2. 2.]\n",
      " [2. 1. 1. 1. 0.]]\n"
     ]
    }
   ],
   "source": [
    "x = np.array([[2, 2, 1, 2, 1],\n",
    "              [0, 1, 1, 1, 1],\n",
    "              [2, 2, 0, 0, 0],\n",
    "              [2, 1, 2, 2, 2],\n",
    "              [2, 1, 1, 0, 1]])\n",
    "f = 0.3\n",
    "\n",
    "x2 = advance(x, f)\n",
    "print(x2)"
   ]
  },
  {
   "cell_type": "markdown",
   "metadata": {
    "collapsed": false
   },
   "source": [
    "### Question 5 [10 marks]\n",
    "\n",
    "Initialise the grid to an `15` by `15` array with 10% unoccupied. Run the simulation for `10` iterations with `f = 0.4` and display the contents of the array at each step using `matplotlib.pyplot.imshow`.\n",
    "\n",
    "Experiment with different values of `f`. For what values of `f` does the grid eventually reach a stable pattern?\n",
    "\n",
    "```\n",
    "import numpy as np\n",
    "import matplotlib.pyplot as plt\n",
    "\n",
    "N = 15\n",
    "n = 100\n",
    "f = 0.5\n",
    "\n",
    "grid = initialise_grid(N, n)\n",
    "\n",
    "plt.figure()\n",
    "plt.imshow(grid)\n",
    "\n",
    "# Your code goes here\n",
    "```"
   ]
  }
 ],
 "metadata": {
  "kernelspec": {
   "display_name": "Python 3.7.9 64-bit (windows store)",
   "language": "python",
   "name": "python3"
  },
  "language_info": {
   "codemirror_mode": {
    "name": "ipython",
    "version": 3
   },
   "file_extension": ".py",
   "mimetype": "text/x-python",
   "name": "python",
   "nbconvert_exporter": "python",
   "pygments_lexer": "ipython3",
   "version": "3.7.9"
  },
  "vscode": {
   "interpreter": {
    "hash": "7f871366baaeb23d5e2a586caa18124c1371cc3d3832dcd001f8f599e1be9e29"
   }
  }
 },
 "nbformat": 4,
 "nbformat_minor": 4
}
