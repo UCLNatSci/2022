{
 "cells": [
  {
   "cell_type": "markdown",
   "metadata": {},
   "source": [
    "# Further Practice\n",
    "\n",
    ":::{exercise}\n",
    ":label: calculations_extra_factorial\n",
    "\n",
    "Recall the definition of factorial of a number $n$,\n",
    "\n",
    "$$n! = n \\times (n-1) \\times \\ldots \\times 2 \\times 1.$$\n",
    "\n",
    "We can calculate the factorial of $n$ by repeated multiplation.\n",
    "\n",
    "Write pseudocode for this computation then write Python code that calculates the factorial of any given number.\n",
    ":::\n",
    "\n",
    ":::{exercise}\n",
    ":label: calculations_extra_quadratic\n",
    "\n",
    "Write a program which use the quadratic formula to print the solution to the quadratic equation $ax^2 + bx + c = 0$, given variables `a`, `b`, and `c`. Your program should print:\n",
    "\n",
    "```\n",
    "The solutions are x = 4 and x = 1\n",
    "```\n",
    "or\n",
    "```\n",
    "The solution is x = 1\n",
    "```\n",
    "or\n",
    "```\n",
    "There are no real solutions\n",
    "```\n",
    "(Hint: first calculate the discriminant $b^2-4ac$).\n",
    ":::\n",
    "\n",
    ":::{exercise}\n",
    ":label: calculations_extra_division\n",
    "\n",
    "Given two integers $n$ and $m$ it is possible to perform division-with-remainder by repeatedly subtracting $m$ from $n$ until the result is less than $m$. For example, to calculate 13 divided by 3:\n",
    "\n",
    "13 - 3 = 10  \n",
    "10 - 3 = 7  \n",
    "7 - 3 = 4  \n",
    "4 - 3 = 1  \n",
    "\n",
    "13 divided by 3 equals 4 remainder 1.\n",
    "\n",
    "1. Write pseudocode for a program which performs this calulation.  \n",
    "2. Turn your pseudocode into a Python program. The result of the calculation should be displayed in words as above.\n",
    "\n",
    "(hint: you'll need to create an extra variable to store the original value of `n`).\n",
    "\n",
    ":::\n",
    "\n",
    ":::{exercise}\n",
    "\n",
    "A duration `t` in seconds can be converted to days, hours, minutes and seconds using integer division:\n",
    "\n",
    "1. Divide `t` by 60; set `t` to the quotient and call the remainder `s`.\n",
    "1. Divide `t` by 60; set `t` to the quotient and call the remainder `m`.\n",
    "1. Divide `t` by 24; set `d` to the quotient and call the remainder `h`.\n",
    "\n",
    "Calculate the number of days, hours, minutes and seconds in one million seconds. Display the result as follows:\n",
    "```\n",
    "1000000 seconds is xx days H:M:S\n",
    "```\n",
    "\n",
    ":::"
   ]
  }
 ],
 "metadata": {
  "kernelspec": {
   "display_name": "Python 3.7.9 64-bit (microsoft store)",
   "language": "python",
   "name": "python3"
  },
  "language_info": {
   "name": "python",
   "version": "3.7.9"
  },
  "orig_nbformat": 4,
  "vscode": {
   "interpreter": {
    "hash": "7f871366baaeb23d5e2a586caa18124c1371cc3d3832dcd001f8f599e1be9e29"
   }
  }
 },
 "nbformat": 4,
 "nbformat_minor": 2
}
