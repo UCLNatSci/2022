{
 "cells": [
  {
   "cell_type": "markdown",
   "metadata": {},
   "source": [
    "## Solutions\n",
    "\n",
    ":::{solution} exercise_1_6\n",
    "\n",
    "```{code-block} python\n",
    "pop = 100\n",
    "i = 0\n",
    "while pop < 10000:\n",
    "    pop = pop * 2\n",
    "    i = i + 1\n",
    "    print(pop)\n",
    "    \n",
    "print(\"Number of hours:\", i)\n",
    "```\n",
    ":::\n",
    "\n",
    "\n"
   ]
  }
 ],
 "metadata": {
  "kernelspec": {
   "display_name": "Python 3.7.9 64-bit (microsoft store)",
   "language": "python",
   "name": "python3"
  },
  "language_info": {
   "name": "python",
   "version": "3.7.9"
  },
  "orig_nbformat": 4,
  "vscode": {
   "interpreter": {
    "hash": "7f871366baaeb23d5e2a586caa18124c1371cc3d3832dcd001f8f599e1be9e29"
   }
  }
 },
 "nbformat": 4,
 "nbformat_minor": 2
}
