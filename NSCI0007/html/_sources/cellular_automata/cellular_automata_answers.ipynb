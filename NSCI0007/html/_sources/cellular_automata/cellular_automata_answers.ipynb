{
 "cells": [
  {
   "cell_type": "markdown",
   "metadata": {},
   "source": [
    "# Solutions"
   ]
  }
 ],
 "metadata": {
  "kernelspec": {
   "display_name": "Python 3.7.9 64-bit (microsoft store)",
   "language": "python",
   "name": "python3"
  },
  "language_info": {
   "name": "python",
   "version": "3.7.9"
  },
  "orig_nbformat": 4,
  "vscode": {
   "interpreter": {
    "hash": "7f871366baaeb23d5e2a586caa18124c1371cc3d3832dcd001f8f599e1be9e29"
   }
  }
 },
 "nbformat": 4,
 "nbformat_minor": 2
}
