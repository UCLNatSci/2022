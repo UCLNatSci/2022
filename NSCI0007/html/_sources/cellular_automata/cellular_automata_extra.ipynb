{
 "cells": [
  {
   "cell_type": "markdown",
   "metadata": {},
   "source": [
    "## Further Practice\n"
   ]
  },
  {
   "cell_type": "markdown",
   "metadata": {},
   "source": [
    "In fact, the concentration $z_{i,j}$ at the next timestep is given by \n",
    "\n",
    "$$x_{i,j} + \\mathrm{flow~into~cell~} i, j - \\mathrm{flow~out~of~cell~} i,j.$$\n",
    "\n",
    "If we assume that a fraction $d$ of concentration flows between neighbouring cells, then a fraction $d$ of each 8 neighbouring cells flows inwords, and a fraction $d$ of the cell flows into the 8 neighbouring cells,\n",
    "\n",
    "$$x_{i,j} + d \\times (\\mathrm{sum~of~neighbouring~8~cells}) - 8d \\times x_{i,j}.$$\n",
    "\n",
    "Which can be simplified to,\n",
    "\n",
    "$$d \\times (\\mathrm{sum~of~3~by~3~subarray~centred~at~}i,j) + (1-9d)x_{i,j}.$$\n",
    "\n",
    ":::{exercise}\n",
    "\n",
    "Use the formula above to calculate the concentration in cell `x[1,1]` of array `x` after one timestep.\n",
    "\n",
    "```\n",
    "x = np.array([[0, 0, 0, 0],\n",
    "              [0, 1, 1, 0],\n",
    "              [0, 1, 1, 0],\n",
    "              [0, 0, 0, 0]])\n",
    "```\n",
    ":::\n"
   ]
  },
  {
   "cell_type": "code",
   "execution_count": null,
   "metadata": {},
   "outputs": [
    {
     "name": "stdout",
     "output_type": "stream",
     "text": [
      "0.7499999999999999\n",
      "0.75\n"
     ]
    }
   ],
   "source": [
    "import numpy as np\n",
    "import matplotlib.pyplot as plt\n",
    "\n",
    "x = np.array([[0, 0, 0, 0],\n",
    "              [0, 1, 1, 0],\n",
    "              [0, 1, 1, 0],\n",
    "              [0, 0, 0, 0]])\n",
    "d = 0.05\n",
    "\n",
    "print(x[1,1] + d * (np.sum(x[0:3,0:3]) - x[1,1]) - 8 * d)\n",
    "print(d * (np.sum(x[0:3,0:3])) + (1-9*d)*x[1,1])"
   ]
  },
  {
   "cell_type": "code",
   "execution_count": null,
   "metadata": {},
   "outputs": [],
   "source": [
    "def diffuse(x, d):\n",
    "    n = len(x)\n",
    "    result = np.zeros((n, n))\n",
    "    for i in range(1, n-1):\n",
    "        for j in range(1, n-1):\n",
    "            total = np.sum(x[i-1:i+2,j-1:j+2]) - x[i,j]\n",
    "\n",
    "            result[i,j] = x[i,j] + total * d - x[i,j] * 8 * d\n",
    "    return result\n",
    "\n",
    "n = 5\n",
    "N = 5\n",
    "\n",
    "grid = np.zeros((n, n))\n",
    "grid[2,2] = 1\n",
    "\n",
    "plt.figure(figsize=(2,2))\n",
    "plt.imshow(grid, vmin=0, vmax=1)\n",
    "\n",
    "for i in range(N):\n",
    "    grid = diffuse(grid, 0.03)\n",
    "    print(grid)\n",
    "    plt.figure(figsize=(2,2))\n",
    "    plt.imshow(grid, vmin=0, vmax=1)"
   ]
  },
  {
   "cell_type": "markdown",
   "metadata": {},
   "source": [
    ":::{exercise}\n",
    "\n",
    "Write a function `diffuse(x, d)` which \n",
    "\n",
    "```\n",
    "```\n",
    "\n",
    ":::"
   ]
  },
  {
   "cell_type": "markdown",
   "metadata": {
    "collapsed": false
   },
   "source": [
    "## Question 2\n",
    "\n",
    "Get this working on a 3-d `n` by `n` by `t` array where `t` is the number of time steps.\n",
    "\n",
    "Generate embedded video\n"
   ]
  },
  {
   "cell_type": "markdown",
   "metadata": {
    "collapsed": false
   },
   "source": [
    "## Question 3\n",
    "\n",
    "You'll have noticed that some starting patterns quickly die out, whereas some spawn a complicted series of activity which lasts a long time. To invesitage this, we'd like to generate a line graph which shows the total number of active cells at each timestep.\n",
    "\n",
    "Write a function `activity_graph(grid)` which plots a line graph as shown."
   ]
  },
  {
   "cell_type": "markdown",
   "metadata": {
    "collapsed": false
   },
   "source": [
    "## Question 4\n",
    "\n",
    "Some starting patterns eventually settle down to an oscillating between states. Write a function which returns the number of states in the cycle.\n",
    "\n",
    "`def cycle_period(grid):`\n",
    "\n",
    "## Question 5\n",
    "\n",
    "Some starting patterns 'gliders' oscillate between states, but shifted by a cell in some direction. Write a function which idenfities if a starting pattern is a glider.\n",
    "\n",
    "`def is_glider(grid):`"
   ]
  },
  {
   "cell_type": "markdown",
   "metadata": {},
   "source": [
    ":::{exercise}\n",
    ":label: exercise_5_6\n",
    "\n",
    "Adapt your code so that  the Create a 3d array `z` to store the results of your diffusion simulation. Each slice `z[i,:,:]` should be an `n` by `n` array representing the concentration of the region at timestep `i`. For example,\n",
    "\n",
    "```\n",
    "N = 20 # number of time steps\n",
    "n = 10 # size of region\n",
    "z = np.zeros((N, n, n))\n",
    "\n",
    "z[0,:,:] = # the inital concentrations\n",
    "\n",
    "for i in range(N):\n",
    "    # set z[i,:,:] to the value of the next moving average\n",
    "\n",
    "```\n",
    "\n",
    "Then create line graphs which show the concentration at a point  \n",
    "1\\. At the centre  \n",
    "2\\. Near the edge  \n",
    "\n",
    "Over time.\n",
    ":::"
   ]
  },
  {
   "cell_type": "markdown",
   "metadata": {
    "collapsed": false
   },
   "source": [
    "\n",
    "```{footbibliography}\n",
    "```"
   ]
  }
 ],
 "metadata": {
  "kernelspec": {
   "display_name": "Python 3.7.9 64-bit (microsoft store)",
   "language": "python",
   "name": "python3"
  },
  "language_info": {
   "name": "python",
   "version": "3.7.9"
  },
  "orig_nbformat": 4,
  "vscode": {
   "interpreter": {
    "hash": "7f871366baaeb23d5e2a586caa18124c1371cc3d3832dcd001f8f599e1be9e29"
   }
  }
 },
 "nbformat": 4,
 "nbformat_minor": 2
}
