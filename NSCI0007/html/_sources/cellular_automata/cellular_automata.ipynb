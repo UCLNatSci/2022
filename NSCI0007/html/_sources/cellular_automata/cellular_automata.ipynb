{
 "cells": [
  {
   "cell_type": "markdown",
   "metadata": {
    "collapsed": false
   },
   "source": [
    "# Tutorial 5: Cellular Automata\n",
    "\n",
    "TODO: Introduction to Cellular Automata\n",
    "\n",
    "The Rules of the Game\n",
    "1. Start with a square grid of “cells”, each of which is “alive” (black) or “dead” (white).\n",
    "2. At each step, we count the number of each cell’s 8 immediate neighbours that are alive, and  \n",
    "  a. any live cell with fewer than 2 live neighbours dies  \n",
    "  b. any live cell with more than 3 live neighbours dies  \n",
    "  c. any live cell with 2 or 3 live neighbours lives on  \n",
    "  d. any dead cell with exactly three live neighbours becomes alive, and otherwise stays dead\n",
    "\n",
    "\n",
    "\n",
    "![](game_of_life_example.png)\n",
    "\n",
    "## Question 1\n",
    "\n",
    "\n"
   ]
  },
  {
   "cell_type": "markdown",
   "metadata": {
    "collapsed": false
   },
   "source": [
    "In this question, you will write code which implements Conway's Game of Life on an $n$ by $n$ grid. Template code is given below - copy and paste this into a new notebook then replace the comments with your own code to get this working.\n",
    "\n",
    "NB `pass` is Python keyword which means 'do nothing'. You will also need to delete this!\n",
    "\n",
    "Once you have got your code working, test it out with some of the patterns here.\n",
    "\n",
    "Hints\n",
    "\n",
    " - First get `count_neighbours` working and test it on specific cells\n",
    " - if you're struggling to get the full Game of Life rules working, first try a 'simplified' version. E.g a cell is alive in the next step if *any* of its neighbours is alive in the current step\n"
   ]
  },
  {
   "cell_type": "code",
   "execution_count": 9,
   "metadata": {
    "collapsed": false,
    "scrolled": true
   },
   "outputs": [
    {
     "name": "stdout",
     "output_type": "stream",
     "text": [
      "grid1:\n",
      "[[0. 0. 0. 0. 0.]\n",
      " [0. 0. 0. 0. 0.]\n",
      " [0. 0. 0. 0. 0.]\n",
      " [0. 0. 0. 0. 0.]\n",
      " [0. 0. 0. 0. 0.]]\n",
      "grid2:\n",
      "[[0. 0. 0. 0. 0.]\n",
      " [0. 0. 0. 0. 0.]\n",
      " [0. 0. 0. 0. 0.]\n",
      " [0. 0. 0. 0. 0.]\n",
      " [0. 0. 0. 0. 0.]]\n"
     ]
    }
   ],
   "source": [
    "import numpy as np\n",
    "import matplotlib.pyplot as plt\n",
    "\n",
    "def count_neighbours(grid, i, j):\n",
    "    pass\n",
    "    # Return the number of live neighbours\n",
    "    # of the cell at position i, j\n",
    "\n",
    "def advance(grid):\n",
    "    n, m = grid.shape\n",
    "    new_grid = np.zeros((n,m))\n",
    "    \n",
    "    # Loop over each of the cells in the grid.\n",
    "    # For each cell, determine the number of live neighbours.\n",
    "    # Use the game of life rules to determine if the cell lives or dies.\n",
    "    # Finally, set the value of the equivalent cell in new_grid\n",
    "\n",
    "    return new_grid\n",
    "\n",
    "n = 5\n",
    "grid1 = np.zeros((n, n))\n",
    "\n",
    "# set the initial value of grid1\n",
    "\n",
    "print(\"grid1:\")\n",
    "print(grid1)\n",
    "\n",
    "grid2 = advance(grid1)\n",
    "\n",
    "print(\"grid2:\")\n",
    "print(grid2)\n",
    "\n"
   ]
  },
  {
   "cell_type": "markdown",
   "metadata": {
    "collapsed": false
   },
   "source": [
    "## Question 2\n",
    "\n",
    "Get this working on a 3-d `n` by `n` by `t` array where `t` is the number of time steps.\n",
    "\n",
    "Generate embedded video\n"
   ]
  },
  {
   "cell_type": "markdown",
   "metadata": {
    "collapsed": false
   },
   "source": [
    "## Question 3\n",
    "\n",
    "You'll have noticed that some starting patterns quickly die out, whereas some spawn a complicted series of activity which lasts a long time. To invesitage this, we'd like to generate a line graph which shows the total number of active cells at each timestep.\n",
    "\n",
    "Write a function `activity_graph(grid)` which plots a line graph as shown."
   ]
  },
  {
   "cell_type": "markdown",
   "metadata": {
    "collapsed": false
   },
   "source": [
    "## Question 4\n",
    "\n",
    "Some starting patterns eventually settle down to an oscillating between states. Write a function which returns the number of states in the cycle.\n",
    "\n",
    "`def cycle_period(grid):`\n",
    "\n",
    "## Question 5\n",
    "\n",
    "Some starting patterns 'gliders' oscillate between states, but shifted by a cell in some direction. Write a function which idenfities if a starting pattern is a glider.\n",
    "\n",
    "`def is_glider(grid):`"
   ]
  },
  {
   "cell_type": "code",
   "execution_count": 0,
   "metadata": {
    "collapsed": false
   },
   "outputs": [
   ],
   "source": [
   ]
  }
 ],
 "metadata": {
  "kernelspec": {
   "display_name": "Python 3 (system-wide)",
   "language": "python",
   "metadata": {
    "cocalc": {
     "description": "Python 3 programming language",
     "priority": 100,
     "url": "https://www.python.org/"
    }
   },
   "name": "python3",
   "resource_dir": "/ext/jupyter/kernels/python3"
  }
 },
 "nbformat": 4,
 "nbformat_minor": 4
}