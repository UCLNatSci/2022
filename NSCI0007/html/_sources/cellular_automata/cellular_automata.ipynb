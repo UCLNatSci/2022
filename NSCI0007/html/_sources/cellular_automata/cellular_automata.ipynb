{
 "cells": [
  {
   "cell_type": "markdown",
   "metadata": {
    "collapsed": false
   },
   "source": [
    "# Tutorial 5: Cellular Automata\n",
    "\n",
    "A cellular automaton is a collection of cells on a rectangular grid that evolves through a number of discrete time steps according to a set of rules based on the states of neighbouring cells. The rules are then applied iteratively for as many time steps as desired.\n",
    "\n",
    "You will investigate a cellular automaton model as part of your group project.\n",
    "\n",
    "```{figure} epidemic.png\n",
    "---\n",
    "height: 200px\n",
    "name: epidemic-fig\n",
    "---\n",
    "Cellular automata models of the spread of an epidemic on a 2-dimensional grid of cells. Each timestep corresponds to one day {footcite}`gagliardi2010small`.\n",
    "```\n",
    "\n",
    "## Conway's Game of Life\n",
    "\n",
    "The **Game of Life** is a simple cellular automaton devised by mathematician John Conway in 1970. The automaton mimics the dynamical evolution of \"life-forms\" existing in the grid of cells {numref}`game-of-life-fig` shows an example evolution of the Game of Life for two iterations.\n",
    "\n",
    "```{admonition} The Rules of Conway's Game of Life\n",
    "\n",
    "1. Start with a rectangular grid of cells, each of which is \"alive\" (black) or \"dead\" (white).\n",
    "2. Count the number of each cell’s 8 immediate neighbours that are alive, and  \n",
    "  a. any live cell with fewer than 2 live neighbours dies;  \n",
    "  b. any live cell with more than 3 live neighbours dies;  \n",
    "  c. any live cell with 2 or 3 live neighbours lives on;  \n",
    "  d. any dead cell with exactly three live neighbours becomes alive, and otherwise stays dead.\n",
    "3. Repeat step 2 as many times as desired.\n",
    "\n",
    "```\n",
    "\n",
    "```{figure} game_of_life_example.png\n",
    "---\n",
    "height: 150px\n",
    "name: game-of-life-fig\n",
    "---\n",
    "Two iterations of the Game of Life on a 5 by 5 grid.\n",
    "```\n",
    "\n",
    "The remainder of this workshop involves constructing code to execute the Game of Life\n",
    "\n",
    "\n",
    "```{exercise}\n",
    "What would the next iteration of the Game of Life in {numref}`game-of-life-fig` look like?\n",
    "\n",
    "Using pseudocode, sketch an algorithm for calculating one iteration of the Game of Life.\n",
    "```\n",
    "\n",
    "\n",
    "## Programming the Game of Life\n",
    "\n",
    "Below is template code for a Python program which executes a single iteration of the game of life. The first function `count_neighbours` calculates the number of live neighbours of single cell, whereas the function `advance` calculates the next iteration of the entire grid of cells."
   ]
  },
  {
   "cell_type": "code",
   "execution_count": null,
   "metadata": {
    "collapsed": false,
    "scrolled": true
   },
   "outputs": [
    {
     "name": "stdout",
     "output_type": "stream",
     "text": [
      "grid1:\n",
      "[[0. 0. 0. 0. 0.]\n",
      " [0. 0. 0. 0. 0.]\n",
      " [0. 0. 0. 0. 0.]\n",
      " [0. 0. 0. 0. 0.]\n",
      " [0. 0. 0. 0. 0.]]\n",
      "grid2:\n",
      "[[0. 0. 0. 0. 0.]\n",
      " [0. 0. 0. 0. 0.]\n",
      " [0. 0. 0. 0. 0.]\n",
      " [0. 0. 0. 0. 0.]\n",
      " [0. 0. 0. 0. 0.]]\n"
     ]
    }
   ],
   "source": [
    "import numpy as np\n",
    "import matplotlib.pyplot as plt\n",
    "\n",
    "def count_neighbours(grid, i, j):\n",
    "    pass\n",
    "    # Return the number of live neighbours\n",
    "    # of the cell at position i, j\n",
    "\n",
    "def advance(grid):\n",
    "    n, m = grid.shape\n",
    "    new_grid = np.zeros((n,m))\n",
    "    \n",
    "    # Loop over each of the cells in the grid.\n",
    "    # For each cell, determine the number of live neighbours.\n",
    "    # Use the game of life rules to determine if the cell lives or dies.\n",
    "    # Finally, set the value of the equivalent cell in new_grid\n",
    "\n",
    "    return new_grid\n",
    "\n",
    "n = 5\n",
    "grid1 = np.zeros((n, n))\n",
    "\n",
    "# set the initial value of grid1\n",
    "\n",
    "print(\"grid1:\")\n",
    "print(grid1)\n",
    "\n",
    "grid2 = advance(grid1)\n",
    "\n",
    "print(\"grid2:\")\n",
    "print(grid2)\n",
    "\n"
   ]
  },
  {
   "cell_type": "markdown",
   "metadata": {},
   "source": [
    ":::{exercise}\n",
    "\n",
    "Complete the function `count_neighbours(grid, i, j)` so that it returns the total number of live neighbours of cell `i`, `j`.\n",
    "\n",
    "**Hint:** for cells that aren't on one of the edges, the following code will calculate the total number of neighours in the 3 by 3 grid of cells centred at `i`, `j`:\n",
    "\n",
    "```\n",
    "sum(grid[i-1:i+2, j-1:j+2])\n",
    "```\n",
    "\n",
    "You will need to adapt this code for \n",
    ":::"
   ]
  },
  {
   "cell_type": "markdown",
   "metadata": {
    "collapsed": false
   },
   "source": [
    "In this question, you will write code which implements Conway's Game of Life on an $n$ by $n$ grid. Template code is given below - copy and paste this into a new notebook then replace the comments with your own code to get this working.\n",
    "\n",
    "NB `pass` is Python keyword which means 'do nothing'. You will also need to delete this!\n",
    "\n",
    "Once you have got your code working, test it out with some of the patterns here.\n",
    "\n",
    "Hints\n",
    "\n",
    " - First get `count_neighbours` working and test it on specific cells\n",
    " - if you're struggling to get the full Game of Life rules working, first try a 'simplified' version. E.g a cell is alive in the next step if *any* of its neighbours is alive in the current step\n"
   ]
  },
  {
   "cell_type": "markdown",
   "metadata": {
    "collapsed": false
   },
   "source": [
    "## Question 2\n",
    "\n",
    "Get this working on a 3-d `n` by `n` by `t` array where `t` is the number of time steps.\n",
    "\n",
    "Generate embedded video\n"
   ]
  },
  {
   "cell_type": "markdown",
   "metadata": {
    "collapsed": false
   },
   "source": [
    "## Question 3\n",
    "\n",
    "You'll have noticed that some starting patterns quickly die out, whereas some spawn a complicted series of activity which lasts a long time. To invesitage this, we'd like to generate a line graph which shows the total number of active cells at each timestep.\n",
    "\n",
    "Write a function `activity_graph(grid)` which plots a line graph as shown."
   ]
  },
  {
   "cell_type": "markdown",
   "metadata": {
    "collapsed": false
   },
   "source": [
    "## Question 4\n",
    "\n",
    "Some starting patterns eventually settle down to an oscillating between states. Write a function which returns the number of states in the cycle.\n",
    "\n",
    "`def cycle_period(grid):`\n",
    "\n",
    "## Question 5\n",
    "\n",
    "Some starting patterns 'gliders' oscillate between states, but shifted by a cell in some direction. Write a function which idenfities if a starting pattern is a glider.\n",
    "\n",
    "`def is_glider(grid):`"
   ]
  },
  {
   "cell_type": "markdown",
   "metadata": {
    "collapsed": false
   },
   "source": [
    "\n",
    "```{footbibliography}\n",
    "```"
   ]
  }
 ],
 "metadata": {
  "kernelspec": {
   "display_name": "Python 3.7.9 64-bit (microsoft store)",
   "language": "python",
   "name": "python3"
  },
  "language_info": {
   "name": "python",
   "version": "3.7.9"
  },
  "vscode": {
   "interpreter": {
    "hash": "7f871366baaeb23d5e2a586caa18124c1371cc3d3832dcd001f8f599e1be9e29"
   }
  }
 },
 "nbformat": 4,
 "nbformat_minor": 4
}
