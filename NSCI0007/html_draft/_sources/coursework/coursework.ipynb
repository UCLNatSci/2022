{
 "cells": [
  {
   "cell_type": "code",
   "execution_count": 62,
   "metadata": {
    "collapsed": false,
    "tags": [
     "remove-cell"
    ]
   },
   "outputs": [
    {
     "data": {
      "application/papermill.record/image/png": "iVBORw0KGgoAAAANSUhEUgAAAxsAAACZCAYAAABHTieHAAAAOXRFWHRTb2Z0d2FyZQBNYXRwbG90bGliIHZlcnNpb24zLjUuMSwgaHR0cHM6Ly9tYXRwbG90bGliLm9yZy/YYfK9AAAACXBIWXMAAA9hAAAPYQGoP6dpAAAaW0lEQVR4nO3d0ZLjuA2FYXVqXy952M4DOhdTmyWpBuboCJBkz/9dJTs2JcsQ3SqCwNfr9XptAAAAAFDsX3efAAAAAIDPxMMGAAAAgBY8bAAAAABowcMGAAAAgBY8bAAAAABowcMGAAAAgBY8bAAAAABowcMGAAAAgBZ/qS/8+vrvP//n+z/xC//zffgkXq9/z8f679ep8VLJub/+/U9/w+nzrq8bznf3umH8abzxM21b/ecKzmF3rIrvLviMnd46/sSYm84hib9pvOX8otjcfcZs/LOy7ycjXuv1s1xFjUF1Hplk92wF5zvJziGJwUcSP7/zG3CV9H4e5qyK+LPGSGTXy5pvPzT+JsnnenL8TZzvc6uPv/JjEX+Hh2NlAwAAAEALHjYAAAAAtPh6vV5SHoyVxiIuV2UpHmnKUkZM9QnHLE7VycZPl/Gi8xDTZ9IxVA9YzpXTijIn08Tc5VwnhtO0g4qlXvEz2vdfdB4i9Zyu5MTgOvdEY5SnxTSYYkFNfRFjcHJkblMVp1FN73nwHKjGX/kcWsH4zrbtwN8PD5wDPy3+dob4CecT8f3tCuIvfV9FXKka7281/ljZAAAAANCChw0AAAAALXjYAAAAANDC27OREfc6ZPl6aclYYezdeVSU01NzYp0ScGopUydPen2tk8effAe3lL7NqCVJjbg6VD72bPy51O9aVL7fJIvh6HyN0sEdSubAUXVJ6oWVE3xyf822New3qSgzaeyR+8Q5cOR8PnffZOccmP4GV5cuv3I8c89Al845JHPpnrXic6+Il/K9HcX3pRp/rGwAAAAAaMHDBgAAAIAWcgdxOcVITA3Iljq/vhs7iK+icxTTGqZzTV6Xjp9cs6+vcYzejr7hcuUDGmRWLCXK6R3jtRz+9/xdFDnb2XN9v7NEn7zOudb5e5JzUtOK7lKcTjGnmyWpIOZx5zGGf1BL0GbEOVDtwp3GTMVvwHi+m3is6zL0NMXxF82H67/NKVa1aWz78UXqb3CF6r9B1PGeNh82ds2uiD+1q3lJ/F2oPHXspo7nrGwAAAAAaMHDBgAAAIAWehpVRl3uM9KtRnKVmyPjO9V7nIpb6lJYwXEz0xLikiYwLau/xjSjgrSLk0qW8sfxpjSx+vib0rTUVLss1UA9XzGeoziwu8Q2LqunaW4fwl3Kt6r6LddPrtJmVAjLUpbCmG6eA1VqmtFlGtN53FQkpwu0HevinKrGn0Wdo4s9If6y6zrHgTFew/wX6b52V8XfXelQLlY2AAAAALTgYQMAAABACx42AAAAALSw9mzInZSTbthTnniS1nZon8ZI7QSrlr4dP0uSuxzlEK6N2qd9EBU56GJp4vS4QXnIfUk5/zQvVdCd1c1rDsvsivG3j21xT05QTnXNHR3v2ek9ZizK+5PUktJvE2S/hDnLyRzodLHflcZOLtPZHOZdnriRf6zGhbqXrOJY8r6Pp5XBVffJqPGnzmfBPsRfx+rLf8/3rYljVMREYLdH6pXsMwvIf0s9QFhKe9u26AbJuks781/292C1knNXOaWhs713brf36G+mgnLprGwAAAAAaMHDBgAAAIAWNaVv1W7Y6gphcYfutIRhdFJqCd9F1Bld7VqbLVNby2TL+E5p4n3pUf3QLdy0MyN1yi41F8SfvByZHSu9x5JjKbLzSzvdFyz/nyyNfSlzbrNSp5T//jvGMr2byufEYJjWt8hSEjtTUB7fZThKhTPTTqLynftrbMSjeD+vx1LLq1pzYEGqmJO6sn/Lz+f7rvGXlePO6PE3Er9rM/7k9zll+gvKUFupU+r9UfAbzMoGAAAAgBY8bAAAAABooadRqcs8FZ1gB3LqkLqrfl3FE893rmpRkOKhVstSU7EqOkuq3azvKJhRkVbjjFFxLUdqBQmzU7LcvdSoUJb+9+r4+1RqF261io5x3F1cfP/8up3iuT1M25TnwOZ4eWL63kHZtRwvX55a19e5/NfwWlzJ6VHq3xbqPdY4L6UV3z4g/jJpSuSV8XfTGLfFX/Yb1Ji+zMoGAAAAgBY8bAAAAABowcMGAAAAgBZfr7W1dfRCp/Sam9cd5IpleaVySVuTk0MtdwsWr0W6f6V6D4LYkVwtZXdWSem/4jJvdiniqxTso3A68Kb5343fQbdLY3CUfI/lezuKlZyfEcdZyVe7u250rE+cAwdPj7EM8VfntvnvD1cRw9YYxfHHygYAAACAFjxsAAAAAGghp1FNb0rL6RWk81SU0TxbprEiBaxiydDpMK2Op5b6Tb5vt0PtUVlZ2LR0cKQidS1THH+XpTJ0lwQu7l76dmlUI/f+E8dQhce6K+WhIAZ3XaCNe0b9Dt4qjWV04PpFSuaiivm2kll2fET8CYi/nxXEn1zCPlEdf6xsAAAAAGjBwwYAAACAFiXVqOwu33+rqFBTkBIUvWf3voq0LOU9VWM8YAntLCeVJP0OhffvXLm86R7LWRJ2OoVmaYa/e61CrG71lDSqMJVPvU4XLo+raWlu+laUAlFRBeXSNId3qgYUpTL/gfF3Oi2mO5VU9UbxZ6Uyjy5MT2uPv5Oyv1veef5jZQMAAABACx42AAAAALTgYQMAAABAi5oO4mq+6EjM8Xb2W6Tn4eSnH+HkzialZMP87yOfwzgnNTfwstK31XnwBV1hT+/jKaDuZ7g1vzO6n9dzCsbYfcbhfVfF37bpe0WcTuuH5jbHG8dgGDMHPlP5nppkT1EXK/7c7704/uRSzp0aP9O26fNSFn/RdXrCvrV3jr9J99+Ao+rS5Nm1NVoSrHOyXAbdmP9Y2QAAAADQgocNAAAAAC3+kl9ZvayVpATFy0bJeBUl+ao7oRvH+vpaxytIUVPfN/zb1/ewZPqK01geIbiW6TL3mFbxraUI7j93Ei/jOTWm8WXnNH+ugo7fo3X5P0sJSuP75zFG+7SLmzpbj7GwmaWEg3ts5XSMT8tCdsZglgJWkOExjx/cV4s0jUBNmxzjcfkcUxxfVX1ZjL85dg6UqI5eV1CWVP4dr1Ad62J6cZo6Nb32eNr0bq4ovsckRvytJyen0Bnxp8pS0kqoacOG9N4elLR4yF5nzH+sbAAAAABowcMGAAAAgBY8bAAAAABo4ZW+FXNlS3Lh1Hy9ij0b2XiRivNLyoiFZSSXa6vmkqpl6d6q9G2kIl+34lhOLHbvGQqOleazZrnQxZ/xafG3bWYMrpyY/JQ58InnUXDfXhmDf7Pzv4m/Z51HwdjE3y/pnjUH8SeNrcYfKxsAAAAAWvCwAQAAAKCFnkaVdMeM/s3uTjgyOl7vxs84S8TFnanD969jdC/rGePfkUaVdZROiZ/P6jZ85N8cjaUAw+Osx/qD42/bfjOnXJXal3Uczjqyd3ayLaaWY0wVfx9P6GL/+PirOL/MRXPgE+MvG/8Tf4PLMf/97ML4Y2UDAAAAQAseNgAAAAC00DuIj12AdytIQ2fJqNvr7t+0Y6X/Xe2weWW6izq22Jk5HGPtup51xD7bTf1h5I7SZrWjsLOzm2KUpPtNx82WZqPvw01tUuOv0X65OHjhg2PxjDQWorly+d6mTq5mDKoprWF8uhWdgveth0m701+kM23iNkkqhBx/6mWp+J115sAL4296XdJh2/KwOVD+DU5Y85+rIP6iOUDtAp+e0/T+5T+of2d0xkjB2KxsAAAAAGjBwwYAAACAFjxsAAAAAGih79kYZd0Exb0DUxmxNb9R3W8RHHcdM82lDMbcl/c9WQJUzbUzu7DOncGTF6rnflWpVYd6Pln++Xe8t0jOETf25Ki532k31Or4GxV09d69LyiP+dZp8OY9IZdV3sTvzihduP/uxFz44nhSRdfpUMfgu0pudikuJTv9vm3bNlbEb82f3zbrs8xzyoFjGeQ9Tdk+jSf/njoKPkPJ/Ocojz/xbwRXsN+u4jf4SqxsAAAAAGjBwwYAAACAFnoalZPOk+TzZCVywyXSrPTtujQ0DZk0SXeWqJx0ApdRonSXUvYtlmJTjnuT1rKCi7k7sFmqdpR9V1GK0VfyPV0Zf4Psnh3l6S3HSwE+RUUMRrFlx7RRvlQu1ZjNFTfFYJb6k3rTea9cdVquE39rydPh/6pzqnx+1dx0qLvul0oV6V/iGHKanFFadn2P0xn8rvhTf4N377vrfhmwsgEAAACgBQ8bAAAAAFp8vbI8kfGF2Q52tbNnZxUGd2myuCtplBazS20yqgulVZLU5UR12VuskLWOcYfy7r7OUnnF0nhBp1A1/kZydQq3app6PYPPnN07V8afNQe63jgG1e9xpMbgpXNg5k+aA0dO2soRD48/txpamKpT8HfLHfFXHm+rB6SapfFiVL6r+BuwIv6m97iVqYz4Y2UDAAAAQAseNgAAAAC04GEDAAAAQAt9z4bZ+Tgcz8gVK8l5M0W5wrtzqsh/j16ncjv/iq/Lchm7VMSfvCdl9JCSmXJZZjXX2jnf4q7Frjvib9sO5ClX7MGKZGUbr+wM2527rx7LUby34Kqc+er4qyjHasWw66a52O3aHPrw+FPnpIrYIf7EMYp/J5zfYFY2AAAAALTgYQMAAABAC6/0bcUSurOEm6SCqOlMciqWu2TmlAF2SoNmaTHVKQ4HrnsXOf5GDyiftyOmM6Vxmrw/+j6yMqFOB9XsuLsxGr+HK1OqrCXsJ8agSI3BihLazvx1qDTlB8TgnxZ/O868n8RfmIKjlhZ30lkbEH8XMeJPTfNSU6XeOf5Y2QAAAADQgocNAAAAAC1KOoiHqRvZUnZxF9fyNCX1uBVjdJ9fY2rbLWlUq5PL6x3x5yzR3xZ/CauKRUXlK3H8t+sgrqbNFcfgNLa5/H66ItqqMwab3VKRL6uCeLJSVXdVRTnlzYm/gi7csqekBd1Rjapx/uv+zcjSmU6nOpl/Kzlpae88F7KyAQAAAKAFDxsAAAAAWvCwAQAAAKDFXxWDRDnpu1z4r5OdYNPuueeG3jazU2PFXpHqTq7fZi6fmk85Hdg7VCmx1GH0OfZ7i4zjZmOq4zl7Znb7TcRjRZbjWuN1d1O/cJ+GKipJKM+B7n2UxWCY0+vNRfN45+es0Hrc8ZoVNxN/V7vvdrwuzhy41c+B0/jqRCLG37jVVJ6jjD1C21bUNbzadG0e8COs7ocM5r/y37HMEgdz7Bvzn6gijp6yT8PBygYAAACAFjxsAAAAAGihp1E5ZeIywxLVbmktOlSW4pF1/RxLcy0rjuPS1rRE5aS+LOeYpjYVd889nbaTnUe6VH7DEq66HL5eoy0oV1cR22L8pXGgUu+dsx13E3a5YJWaTnFDCdJt236zFD/89911acwDcstPni0Bqs6BcmdcLc2rOwazkph3xKCV5mvfz/Jp/TNG+puU/IYY8Vc+32Rz6ujC+Hsc53u6MAUtK9+c/m3XWAJ5umeD34htO9AZ/I3jj5UNAAAAAC142AAAAADQQu8gni2JRstQ7uui91QsxXZ34c7GCMhLaBkxraHknJJ0ri55hZ+fr5lcVeSB8ed29LW6PBvVa1LFKRPZcvGVaVTWvVkxB6oqOstn4xV3Bn/8eOKx7pgDVSVzoHosN41KHc/pap65Kf6cdLgnzIHvFn/TcZ+QYvSQ+VSNF/X+pYM4AAAAgFvxsAEAAACgBQ8bAAAAAFqUdBA/Tc1lO5Lz5ozhdPlWzynt9Du+Lj4Ftwt5WH5NLWmb5Z3fUHlUzR1Vy46mucFuLqkRf3kurxh/Y5Xncd9NlrOq3kfungBnn9BUtjAZ7wHNc1NumWYnx7i5c7tbRvVvdt50dZlq8VhWqdmHUfdtVcRf2tXckM6Bmc6O9nJJ+Ji8l256j9ge4GHWzyr/JjnHaix9vW3e/pryvyXS0rfacGoJcrkcufgbzMoGAAAAgBY8bAAAAABooZe+HZeD1HSKglKMWRfXiiXN08eqTi3pKI16tjRx8r47Ojg7y9DbtpXHS7XytI3iz5jeHxXve3j8WXPgm/nTYtBNlZjGDtLGOsnn+caxWF2iuEJ6f4jlQeV5RD2ni+LPOm/i7/wYA3f+C10Yf6xsAAAAAGjBwwYAAACAFno1KidtwE1pGf7t61usolOQzjQdq6KDeCYYT+3Cuq/yIC6vvemyZnlKh9o1u6LLpzjG/L2ZFdpOyuJvrGS2Zl9mMVfevfWualTdlZCiY7n3rDFGGoN3GefoLSndl1b8+zkG1Yp1T3Bp6lRB/JWnfDzNgesSfn43lfkOF6ZOVcSONcaTr3+HC+OPlQ0AAAAALXjYAAAAANCChw0AAAAALfQ9G8n+iKj8pLx3wN0f4eSXmV24w39Tc97Ez+juTbCu9XoOTjf1q3LmCzpUy+N17mtx816DzqG7PU0ncy71ssLmF//w8sOZuaNqc0dp59qo3/3T85K7ywq/awze1EndNe83HP6h+dznDs7GAMn5VezrfNu9LBfGX8V1iUpct8/dJ6X7dgv+3srKxc974mqxsgEAAACgBQ8bAAAAAFroHcSDEqw7RirSoW7YgXRpqKLzb3WqjtORPBu7uKu72in1qg7O4zlkHSuzOG1dvi7uNmp3Nj6b/nBjis2c/qDds3d0b/6dLLYuTaEwvsvwO8jGq05FujPNy5iLL+vgnMyB6u/zJ8bf7lqc/VxPmQPFOZ/4C5z8HtPPOPqk+c9AB3EAAAAAt+JhAwAAAEALL40q41SSMtOy0iU5dclffF2YVuSmlCnv2ZJlVbfzY0XK1uCONKrya54xx5OXi4vjNDqHVXhOSfxN7zcrepRUdLohjW+VnXuaCnKls6maquYYfKSbY/Dd4q+1klvx74Gdwnol4u+3wiqpF8afkzb2DvHnpO6xsgEAAACgBQ8bAAAAAFrwsAEAAACghddBfDHvZ2js/rrk8o7dDtetJ7vOyn+/bs2H27S9APKegfFYU56qd12c46bjO3tl3A7vlcSysGn3WDWHPegQn+afLwdz4u9059v1nJLyseP9kuWSxvF3IK9+eN/8uZLrHuR778e4jrpnKuycvMV7v+TynUfuxeDfspKOVulb0b6E9s+vs69F5sru202c+Mu2ZKa54FHsHClTH9z3u99qp6y5aB7PLLFfEDun96w8oNO9Wvp2/nxe+ejouzkSf+G/raeU/NZM4130w7M77/F8HxJ/0/0s7hliZQMAAABACx42AAAAALSwSt+WdI/s7ojsdBs92fF028zPJaY2qV295VQLsTOz2hG5k3Ndj6Q9KePtZKk+Z+Og4Jwyp8sTHrhXnM7gkweUXt62ijSO3hLiaQqA2tXc6FpslXbetmu73VeXZB88bg4cVZRIT8i/Se4Y0XveLf4qj7t4dPy5Cu49p9RsSfwV32OhipSqgtLEpFEBAAAAuBUPGwAAAABa8LABAAAAoIVc+jbP80rKpA7mcqBGvllB/mWaX2fse9iVtK3OwR+PNZ57Ur5tJ8jrjsqz/jqWdErXEa/rlH+Z5iMasbQrH5vcE8NL9XOKhWVxszjN7sWzuZoHcsHDUrAPKOd4iBqDYlyocTzK8uKzezaLwfn/a3NWXlZ5+Pxb40RyZD+Cuhfj3WLyBxUltOX4G1+m7iXbldFs/Lugk7sfBr8n/l2W/Q0zqp7/Jm8WfxX7NBysbAAAAABowcMGAAAAgBZyGlXaFTIoNyqnLLkKlsPDLt/L+62yvcb5dLtrCe20giXC6Tv8TkqwqsdKOkWr56SSS8ZG//aQ+Htr1TGYpBjJc4w4p5bf92ra3OApneA/Xcl8I3456hxYPf+UlKEm/noUlGaX33PT/PfOfwPehZUNAAAAAC142AAAAADQQk6jUqXLVUYn61R5daq4qpZaVSVMk1CrBmXpW263c+e6Ox3J7+JWInsnTmfwYal3rS4jXwu1WltGjb+nxdURJyvK7b6fN87xiGLQ1hmDn0L9fE4n9TcTxZ89/xN/v0f8/V/1/CdXhlPP6aafFlY2AAAAALTgYQMAAABACx42AAAAALTQ92wE5W23bc4BS0vEGnl9cslZtdRtlhudfcYx/30poReONx43KbsXlt/d1r0iYungrJRrRe7oON7P6YSt5BKG6p6AO/NI1VK14ut2He3PnEP2ugPxJ3dQd67vDfHXQe5A35Bwq5bjDbkxOHzfcp5zFoNOHFf4kBicVO+vTJyOv0X4Gxzkvm+bV1p89zuUxG1F3n08+PkhHufKfX7FMa1+p+p+3OieOBJ/YYnqis8uxh8rGwAAAABa8LABAAAAoIWeRjUst0zdlxdRacdsvLTzY5K+JC99DuPv0zh+Lne7/4zDvxnH3a01jcfafk7l2o2vlt1z0wvehFzCUE31EV93KP6c5V2n3LDT7XzbttfrZOrCmio1psEs4zklm8vLp1arXr4X58BD6ZNqOV512T9IH1XTprK02or0v8fHTKWC+JPTG5PjzmOcPqXU2e93PwcO8Wz8Rrox9gmxeVs3dvXvowan55c0Pao5/tySzYVY2QAAAADQgocNAAAAAC2+XmM+RfbCYZlVrejksqqvFCyvZcvK5RV1nGoLaiWWbKnbSJlIq2wklbkqVcdYyqmSU7G8m6RsjdJrcTL+1E7WR753J41KXfa9Kv62raYanqwifbLyuFtDVayTMbh7n1ElUB3vcXPgqjH+7Dmw8LjbZs4jmcb42/2N4Jzvw+bAS+Mv0lGNKhr/pvnPjm2xmqqqev5jZQMAAABACx42AAAAALTgYQMAAABAC6/0bVYqU815S/Y9WOVzM1YeXm2ZMqd7+rZtSe6snrsY5tul5/TPdTnSqfIS3XnrU6nk6R+sMdT9G1ZpvbN7hBZpaeisVOmRkqzBe64so/l4Qf5tNvfu8nSDfXbZ3JvNMae7OxfEYHaP5OVbP6Tk8lWysu0Gp8zu/vqf3KdxZfyZeffpbzz2Okvfip28VXK5YLP9QcWeks75j5UNAAAAAC142AAAAADQQi59CwAAAABHsLIBAAAAoAUPGwAAAABa8LABAAAAoAUPGwAAAABa8LABAAAAoAUPGwAAAABa8LABAAAAoAUPGwAAAABa8LABAAAAoMX/AEVFGa+gJ+iVAAAAAElFTkSuQmCC\n",
      "application/papermill.record/text/plain": "<Figure size 1000x200 with 5 Axes>"
     },
     "metadata": {
      "scrapbook": {
       "mime_prefix": "application/papermill.record/",
       "name": "neighbourhood_fig"
      }
     },
     "output_type": "display_data"
    },
    {
     "data": {
      "image/png": "[encoded data removed]",
      "text/plain": [
       "<Figure size 1000x200 with 5 Axes>"
      ]
     },
     "metadata": {},
     "output_type": "display_data"
    }
   ],
   "source": [
    "import numpy as np\n",
    "import matplotlib.pyplot as plt\n",
    "from matplotlib.colors import ListedColormap\n",
    "from myst_nb import glue\n",
    "\n",
    "def initialise_grid(N, n):\n",
    "    x = np.zeros((N, N))\n",
    "    k = 0\n",
    "    while k < n:\n",
    "        i = np.random.randint(N)\n",
    "        j = np.random.randint(N)\n",
    "        if x[i,j] == 0:\n",
    "            k += 1\n",
    "            x[i,j] = 1\n",
    "    k = 0\n",
    "    while k < n:\n",
    "        i = np.random.randint(N)\n",
    "        j = np.random.randint(N)\n",
    "        if x[i,j] == 0:\n",
    "            k += 1\n",
    "            x[i,j] = 2\n",
    "    \n",
    "    return x\n",
    "\n",
    "def neighbours_same(x, i, j):\n",
    "    N = len(x)\n",
    "    count = 0\n",
    "    for a in range(max((i-1), 0), min(i+2, N)):\n",
    "        for b in range(max((j-1), 0), min(j+2, N)):\n",
    "            if x[a, b] == x[i,j]:\n",
    "                count = count + 1\n",
    "    count = count - 1\n",
    "    return count\n",
    "\n",
    "def neighbours_total(x, i, j):\n",
    "    N = len(x)\n",
    "    count = 0\n",
    "    for a in range(max((i-1), 0), min(i+2, N)):\n",
    "        for b in range(max((j-1), 0), min(j+2, N)):\n",
    "            if x[a, b] != 0:\n",
    "                count = count + 1\n",
    "    if x[i, j] != 0:\n",
    "        count = count - 1\n",
    "    return count\n",
    "\n",
    "def get_dissatisfied_cells(x, f):\n",
    "    N = len(x)\n",
    "    dis = np.zeros((N, N))\n",
    "    for i in range(N):\n",
    "        for j in range(N):\n",
    "            same = neighbours_same(x, i, j)\n",
    "            total = neighbours_total(x, i, j)\n",
    "            if x[i,j] != 0 and total != 0 and same/total < f:\n",
    "                dis[i,j] = 1\n",
    "    return dis\n",
    "            \n",
    "def advance(x, f):\n",
    "    N = len(x)\n",
    "    dis = get_dissatisfied_cells(x, f)\n",
    "    result = np.zeros((N, N))\n",
    "    for i in range(N):\n",
    "        for j in range(N):\n",
    "            if dis[i, j] == 0:\n",
    "                result[i, j] = x[i, j]\n",
    "                \n",
    "    for i in range(N):\n",
    "        for j in range(N):\n",
    "            if dis[i, j] == 1:\n",
    "                i_new = np.random.randint(N)\n",
    "                j_new = np.random.randint(N)\n",
    "                while result[i_new, j_new] != 0:\n",
    "                    i_new = np.random.randint(N)\n",
    "                    j_new = np.random.randint(N)\n",
    "                result[i_new, j_new] = x[i, j]\n",
    "    return result\n",
    "\n",
    "N = 40\n",
    "n = int(N**2 * .45)\n",
    "f = 0.5\n",
    "num = 4\n",
    "\n",
    "grid = initialise_grid(N, n)\n",
    "\n",
    "fig, axes = plt.subplots(1, num, figsize=(10,2))\n",
    "\n",
    "colours = np.array([[1, 1, 1, 1],\n",
    "                    [0, .7, 0, 1],\n",
    "                    [0, 0, .7, 1]])\n",
    "cm = ListedColormap(colours)\n",
    "\n",
    "for i in range(num):\n",
    "    \n",
    "    axes[i].imshow(grid, cmap=cm)\n",
    "    axes[i].axis(\"off\")\n",
    "    grid = advance(grid, f)\n",
    "    \n",
    "\n",
    "glue(\"neighbourhood_fig\", fig, display=False)\n"
   ]
  },
  {
   "cell_type": "markdown",
   "metadata": {
    "collapsed": false
   },
   "source": [
    "# NSCI0007 Coursework\n",
    "\n",
    "## Background\n",
    "\n",
    "Suppose there are two species of organism living in a neighbourhood. The organisms are initially spread about the neighbourhood at random, but are free to move around the neighbourhood as they wish. The organisms are lazy and so in general will stay where they are; however they have a slight preference for being surrounded by organisms of the same species. If too many of their immediate neighbours are of the opposite species, they will move to another location in the neighbourhood. Over time, what will the distribution of organisms look like? {numref}`fig-neighbourhood` shows one possibility.\n",
    "```{glue:figure} neighbourhood_fig\n",
    ":figwidth: 600px\n",
    ":name: \"fig-neighbourhood\"\n",
    "\n",
    "**Panel 1 (left)**. Organisms of two species (blue and green) are initially spread around the neighbourhood at random, with some cells empty (white). **Panels 2 - 4**. At each time step, dissatisfied organisms move into unoccupied cells, resulting in shifting patterns of organism locations.\n",
    "\n",
    "```\n",
    "\n",
    "The neighbourhood consists of a square grid of cells, each of which is either empty or occupied by an organism of one of the two species. Populations of the two species are initially placed into random locations of a neighbourhood represented by a grid ({numref}`grid1_fig`).\n",
    "\n",
    "```{figure} grid1.png\n",
    "---\n",
    "name: grid1_fig\n",
    "height: 150px\n",
    "---\n",
    "Organisms of two species (X and O) are placed at random in a 5 by 5 grid.\n",
    "```\n",
    "\n",
    "The organisms prefer to be surrounded by organisms of the same type. An organism is *satisfied* if it is surrounded by at least a fraction $f$ of organisms that are of a like species.\n",
    "\n",
    "Let's assume that $f = 0.3$, meaning that an organism is satisfied when at least 30% of its neighbours are the same species as itself. If the organism is satisfied, then it will remain in its current location. If fewer than 30% are the same species, then the organism is not satisfied, and it will want to change its location in the grid.\n",
    "\n",
    "{numref}`grid2_fig` (left) shows a satisfied organism because 50% of X's neighbors are also X $(50\\% > f)$. The next X (right) is dissatisfied because only 25% of its neighbours are X $(25\\% < f)$. Notice that empty cells are not counted when calculating similarity.\n",
    "\n",
    "```{figure} grid2.png\n",
    "---\n",
    "name: grid2_fig\n",
    "height: 150px\n",
    "---\n",
    "An organism is satisifed if the proportion of its neighbours which are of the same species is greater than $f$, otherwise it is disatisfied. Given $f=0.3$, the organism indicated in the left panel is satisfied because 50% of its neighbours are X, whereas the organism indicated in the right panel is dissatisfied because only 25% of its neighbours are X.\n",
    "```\n",
    "\n",
    "When an organism is not satisfied, it is moved to a an empty cell in the grid. The new location is chosen at random from amongst the empty cells.\n",
    "\n",
    "In {numref}`grid3_fig` (left), all dissatisfied organisms have an asterisk next to them. {numref}`grid3_fig` (right) shows the new configuration after all the dissatisfied organisms have been moved to unoccupied cells at random. Note that the new configuration may cause some organisms which were previously satisfied to become dissatisfied.\n",
    "\n",
    "```{figure} grid3.png\n",
    "---\n",
    "name: grid3_fig\n",
    "height: 150px\n",
    "---\n",
    "In the left panel, all dissatisfied organisms have an asterisk next to them. In the right panel, all the dissatisfied organisms have been moved to unoccupied cells at random.\n",
    "```\n",
    "\n",
    "All dissatisfied organisms are moved in the same round. After the round is complete, a new round begins, and dissatisfied organisms are once again moved to new locations in the grid. These rounds continue until all organisms in the neighbourhood are satisfied with their location.\n",
    "\n",
    "## Coursework Brief\n",
    "\n",
    "Your task is to write a Python notebook that implements the model described above, and then to investigate the model for various values of its parameters. You will model the grid as an array containing the values `1` and `2` which represent the two species of organism and `0` which represents an empty cell."
   ]
  },
  {
   "cell_type": "markdown",
   "metadata": {
    "collapsed": false
   },
   "source": [
    "### Question 1 [5 marks] \n",
    "\n",
    "Write a function `initialise_grid(N, n)` which returns an `N` by `N` array containing `n` `1`s and `n` `2`s placed at random cells in the array. Be sure that the returned array contains **exactly** the right number of `1`s and `2`s.\n",
    "\n",
    "You can use the `numpy` function `randint` to generate random numbers in a given range.\n",
    "\n",
    "Test that your code works as below."
   ]
  },
  {
   "cell_type": "code",
   "execution_count": 3,
   "metadata": {
    "collapsed": false
   },
   "outputs": [
    {
     "name": "stdout",
     "output_type": "stream",
     "text": [
      "[[2. 0. 1. 2.]\n",
      " [2. 0. 1. 0.]\n",
      " [1. 2. 1. 1.]\n",
      " [2. 0. 0. 0.]]\n"
     ]
    }
   ],
   "source": [
    "grid = initialise_grid(4, 5)\n",
    "\n",
    "# A 4 by 4 array with exactly 5 `1`s and 5 `2`s\n",
    "print(grid)"
   ]
  },
  {
   "cell_type": "markdown",
   "metadata": {
    "collapsed": false
   },
   "source": [
    "\n",
    "### Question 2 [5 marks] \n",
    "\n",
    "Write function `neighbours_same(x, i, j) ` returns the number of neighbours which are of the same species as cell `i, j`. Be careful that your function doesn't go beyond the borders of the grid!\n",
    "\n",
    "Test that your function works correctly in the following cases."
   ]
  },
  {
   "cell_type": "code",
   "execution_count": 7,
   "metadata": {},
   "outputs": [
    {
     "data": {
      "text/plain": [
       "2"
      ]
     },
     "execution_count": 7,
     "metadata": {},
     "output_type": "execute_result"
    }
   ],
   "source": [
    "x = np.array([[2, 2, 1, 2, 1],\n",
    "              [0, 1, 1, 1, 1],\n",
    "              [2, 2, 0, 0, 0],\n",
    "              [2, 1, 2, 2, 2],\n",
    "              [2, 1, 1, 0, 1]])\n",
    "\n",
    "neighbours_same(x, 0, 0) # should return 1\n",
    "neighbours_same(x, 0, 1) # should return 1\n",
    "neighbours_same(x, 1, 0) # should return 0\n",
    "neighbours_same(x, 1, 1) # should return 2        "
   ]
  },
  {
   "cell_type": "markdown",
   "metadata": {},
   "source": [
    "### Question 3 [5 marks]\n",
    "\n",
    "Write a function `neighbours_total(x, i, j)` which returns the total number of non-empty neighbouring cells of cell `i, j`. Check that your function works in the following cases."
   ]
  },
  {
   "cell_type": "code",
   "execution_count": 6,
   "metadata": {
    "collapsed": false
   },
   "outputs": [
    {
     "data": {
      "text/plain": [
       "6"
      ]
     },
     "execution_count": 6,
     "metadata": {},
     "output_type": "execute_result"
    }
   ],
   "source": [
    "neighbours_total(x, 0, 0) # should return 2\n",
    "neighbours_total(x, 0, 1) # should return 4\n",
    "neighbours_total(x, 1, 0) # should return 5\n",
    "neighbours_total(x, 1, 1) # should return 6"
   ]
  },
  {
   "cell_type": "markdown",
   "metadata": {
    "collapsed": false
   },
   "source": [
    "### Question 4 [10 marks]\n",
    "\n",
    "Write a function `get_dissatisfied_cells(x, f)` which returns an `N` by `N` array whose values are `1` for cells containing a dissatisfied organism, or `0` otherwise. An organism is disatisfied if the fraction of its neighbours which are the same as it is less than `f`.\n",
    "\n",
    "Check that your function works for the array `x`."
   ]
  },
  {
   "cell_type": "code",
   "execution_count": 4,
   "metadata": {
    "collapsed": false
   },
   "outputs": [
    {
     "name": "stdout",
     "output_type": "stream",
     "text": [
      "[[0. 1. 0. 1. 0.]\n",
      " [1. 1. 0. 0. 0.]\n",
      " [0. 0. 1. 1. 1.]\n",
      " [0. 1. 0. 0. 0.]\n",
      " [1. 0. 0. 1. 1.]]\n"
     ]
    }
   ],
   "source": [
    "x = np.array([[2, 2, 1, 2, 1],\n",
    "              [0, 1, 1, 1, 1],\n",
    "              [2, 2, 0, 0, 0],\n",
    "              [2, 1, 2, 2, 2],\n",
    "              [2, 1, 1, 0, 1]])\n",
    "f = 0.4\n",
    "\n",
    "print(get_dissatisfied_cells(x, f))"
   ]
  },
  {
   "cell_type": "markdown",
   "metadata": {
    "collapsed": false
   },
   "source": [
    "### Question 5 [10 marks]\n",
    "\n",
    "Write a function `advance(x, f)` which returns the array of cells after moving all dissatisfied organisms to an unoccupied cell.\n",
    "\n",
    "You will need to do this in two steps:\n",
    "\n",
    "1. **Satisfied organisms stay where they are:** loop over all cells in `dis`, and for each satisfied cell set the value of `result` to the same value as the equivalent cell in `x`.\n",
    "2. **Dissatisfied organisms move to a random empty cell:** loop over all cells again. For each unsatisfied cell, choose a random empty cell and set its value to the species number. You can use a `while` loop to find a random empty cell.\n",
    "\n",
    "Check your code works as below (you won't get exactly the same result of course)."
   ]
  },
  {
   "cell_type": "code",
   "execution_count": 5,
   "metadata": {
    "collapsed": false
   },
   "outputs": [
    {
     "name": "stdout",
     "output_type": "stream",
     "text": [
      "[[2. 2. 1. 2. 1.]\n",
      " [0. 1. 1. 1. 1.]\n",
      " [2. 2. 0. 1. 0.]\n",
      " [2. 0. 2. 2. 2.]\n",
      " [2. 1. 1. 1. 0.]]\n"
     ]
    }
   ],
   "source": [
    "x = np.array([[2, 2, 1, 2, 1],\n",
    "              [0, 1, 1, 1, 1],\n",
    "              [2, 2, 0, 0, 0],\n",
    "              [2, 1, 2, 2, 2],\n",
    "              [2, 1, 1, 0, 1]])\n",
    "f = 0.3\n",
    "\n",
    "x2 = advance(x, f)\n",
    "print(x2)"
   ]
  },
  {
   "cell_type": "markdown",
   "metadata": {
    "collapsed": false
   },
   "source": [
    "### Question 6 [10 marks]\n",
    "\n",
    "Initialise a grid an `20` by `20` array with 45% of cells occupied by species 1, 45% occupied by species 2 and 10% unoccupied. Run the simulation for `10` iterations with `f = 0.4`. Display the contents of the array at each step using `matplotlib.pyplot.imshow`.\n",
    "\n",
    "```\n",
    "import numpy as np\n",
    "import matplotlib.pyplot as plt\n",
    "\n",
    "N = 15\n",
    "n = 100\n",
    "f = 0.5\n",
    "\n",
    "grid = initialise_grid(N, n)\n",
    "\n",
    "plt.figure()\n",
    "plt.imshow(grid)\n",
    "\n",
    "# Your code goes here\n",
    "```\n",
    "\n",
    "### Question 7 [10 marks]\n",
    "\n",
    "Experiment with different values of `f`. For what values of `f` does the grid eventually reach a stable pattern?\n",
    "\n"
   ]
  }
 ],
 "metadata": {
  "kernelspec": {
   "display_name": "Python 3.7.9 64-bit",
   "language": "python",
   "name": "python3"
  },
  "language_info": {
   "codemirror_mode": {
    "name": "ipython",
    "version": 3
   },
   "file_extension": ".py",
   "mimetype": "text/x-python",
   "name": "python",
   "nbconvert_exporter": "python",
   "pygments_lexer": "ipython3",
   "version": "3.7.9"
  },
  "vscode": {
   "interpreter": {
    "hash": "7924ab759b3df5cb48bbab33739b019b840d790ae77db55f5a743ebfebcfdc3f"
   }
  }
 },
 "nbformat": 4,
 "nbformat_minor": 4
}
