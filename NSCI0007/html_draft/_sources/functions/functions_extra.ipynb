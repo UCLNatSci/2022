{
 "cells": [
  {
   "cell_type": "markdown",
   "metadata": {},
   "source": [
    "# Further Practice"
   ]
  },
  {
   "cell_type": "markdown",
   "metadata": {},
   "source": [
    ":::{exercise}\n",
    "\n",
    "A [solid of revolution](https://en.wikipedia.org/wiki/Solid_of_revolution) is a three-dimensional figure contstructed by rotating a curve about a straight line. We can estimate the volume of a solid of revolution by dividing it into a sequence of stacked discs and summing the volume of each.\n",
    "\n",
    "A sphere of radius $R$ is formed by rotating the curve $y = \\sqrt{R^2 - x^2}$ around the x-axis between $-R$ and $R$.\n",
    "\n",
    "![a](https://miro.medium.com/max/2400/0*d7QEcno6XhPOiJSt.png)\n",
    "\n",
    "Use the following steps to estimate the volume of a sphere of radius 1.\n",
    "\n",
    "1. Write a function `vol_disc(R, x, dx)` which returns the volume of the disc centred at position `x` with thickness `dx`. \n",
    "2. Estimate the volume of a sphere of radius 1 by dividing the figure into 10 discs equally spaced between `-1` and `1` [use a value of 3.14159 for $\\pi$].\n",
    "3. Write a function `sphere_vol(R, n)` which returns the estimate of the volume of a sphere of radius `R` calculated by dividing it into `n` discs.\n",
    "4. The estimate should get more accurate as we increase `n`. We can estimate the accuracy by calculating the difference between `sphere_vol(R, n)` and `sphere_vol(R, n-1)`. For `R = 1`, how large does `n` need to be so that difference between consecutive estimates is less than $10^{-4}$?\n",
    "\n",
    ":::"
   ]
  },
  {
   "cell_type": "markdown",
   "metadata": {},
   "source": [
    ":::{exercise}\n",
    ":label: functions_extra_primes\n",
    "\n",
    "In this question you will investigate the [number of prime numbers below a number $n$](https://en.wikipedia.org/wiki/Prime-counting_function) (recall a *prime number* is a number divisible only by 1 and itself).\n",
    "\n",
    "You will need to use *Boolean variables* which are variables that take the logical values *True* or *False*. For example, the following function `divisible_by_two` returns the Boolean value `True` if its argument is divisible two, and `False` otherwise.\n",
    "\n",
    "```\n",
    "def divisible_by_two(n):\n",
    "    if n % 2 == 0:\n",
    "        return True\n",
    "    else:\n",
    "        return False\n",
    "\n",
    "k = 5\n",
    "if divisible_by_two(k):\n",
    "    print(k, \"is even\")\n",
    "else:\n",
    "    print(k, \"is odd\")\n",
    "```\n",
    "\n",
    "1. Write a function `is_divisible(n, m)` which returns `True` if `n` is divisible by `m`, and otherwise returns `False`.\n",
    "2. Write a function `is_prime(n)` which returns `False` if `n` is divisible by any integer between `2` and `n-1`, and otherwise returns `True`.\n",
    "3. Write a function `number_of_primes(n)` which returns the number of prime numbers less than or equal to `n` [NB 1 is *not* a prime number].\n",
    "4. Draw a graph with `n` on the x-axis and the number of primes less than or equal to `n` on the y-axis.\n",
    "\n",
    ":::"
   ]
  }
 ],
 "metadata": {
  "kernelspec": {
   "display_name": "Python 3.7.9 64-bit (microsoft store)",
   "language": "python",
   "name": "python3"
  },
  "language_info": {
   "name": "python",
   "version": "3.7.9"
  },
  "orig_nbformat": 4,
  "vscode": {
   "interpreter": {
    "hash": "7f871366baaeb23d5e2a586caa18124c1371cc3d3832dcd001f8f599e1be9e29"
   }
  }
 },
 "nbformat": 4,
 "nbformat_minor": 2
}
