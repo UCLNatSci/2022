{
 "cells": [
  {
   "cell_type": "markdown",
   "metadata": {},
   "source": [
    "# Homework solutions\n",
    "\n",
    "Last week you used the following equations to model the dynamics of the [Belousov–Zhabotinsky reaction](https://en.wikipedia.org/wiki/Belousov%E2%80%93Zhabotinsky_reaction) where $X_i$ and $Y_i$ are the concentrations of the two reactants X (red) and Y (colourless) at timestep $i$.\n",
    "\n",
    "$$\\begin{align}\n",
    "X_{i+1} &= X_i + k_1-k_2X_i + k_3X_i^2Y_i\\\\\n",
    "Y_{i+1} &= Y_i + k_4X_i - k_3X_i^2Y_i.\n",
    "\\end{align}$$\n",
    "\n",
    "For the parameter values $k_1=0.1$, $k_2=0.4$, $k_3=0.1$ and $k_4=0.2$, the system results in decaying oscillations of the variables $X$ and $Y$. Over time the system reaches equilibrium and the values of $X$ and $Y$ reach a steady state. Assuming the system is at equilibrium after $1000$ time steps, we can assume that the steady-state value of $X$ is $X_{1000}$.\n",
    "\n",
    "1. Run the simulation with the parameters above for $1000$ time steps and plot the two arrays `X` and `Y` on the same figure.\n",
    "2. Determine the steady-state value of $X$. \n",
    "3. Write a function `steady_state_X(k4)` which runs the simulation with $k_1=0.1$, $k_2=0.4$, $k_3=0.1$ and the given value of $k_4$, then returns the steady-state value of $X$.\n",
    "4. Determine the steady-state value of X for a range of values of $k_4$ between $0$ and $0.3$ and plot the results on a graph with $k_4$ on the x-axis and the steady-state value of $X$ on the y-axis."
   ]
  },
  {
   "cell_type": "markdown",
   "metadata": {},
   "source": [
    "## Modelling\n",
    "\n",
    "First, to run the simulation we can use the same approach as last week."
   ]
  },
  {
   "cell_type": "code",
   "execution_count": 15,
   "metadata": {},
   "outputs": [
    {
     "data": {
      "text/plain": [
       "Text(0, 0.5, 'Concentrations')"
      ]
     },
     "execution_count": 15,
     "metadata": {},
     "output_type": "execute_result"
    },
    {
     "data": {
      "image/png": "[encoded data removed]",
      "text/plain": [
       "<Figure size 360x360 with 1 Axes>"
      ]
     },
     "metadata": {
      "needs_background": "light"
     },
     "output_type": "display_data"
    }
   ],
   "source": [
    "# import necessary libraries\n",
    "import numpy as np\n",
    "import matplotlib.pyplot as plt\n",
    "\n",
    "# set up variables and arrays\n",
    "n = 1000\n",
    "k1 = 0.1\n",
    "k2 = 0.4\n",
    "k3 = 0.1\n",
    "k4 = 0.2\n",
    "\n",
    "X = np.zeros(n)\n",
    "Y = np.zeros(n)\n",
    "\n",
    "# initialise variables (not strictly necessary here!)\n",
    "X[0] = 0\n",
    "Y[0] = 0\n",
    "\n",
    "# implement equations\n",
    "for i in range(n - 1):\n",
    "    X[i+1] = X[i] + k1 - k2*X[i] + k3*(X[i]**2)*Y[i]\n",
    "    Y[i+1] = Y[i] + k4*X[i] - k3*(X[i]**2)*Y[i]\n",
    "\n",
    "# plot on the same figure\n",
    "plt.figure(figsize=(5,5))\n",
    "plt.plot(X)\n",
    "plt.plot(Y)\n",
    "plt.xlabel(\"Time (seconds)\")\n",
    "plt.ylabel(\"Concentrations\")"
   ]
  },
  {
   "cell_type": "markdown",
   "metadata": {},
   "source": [
    "## Determine the steady state\n",
    "\n",
    "We are told that the system is in equilibrium after $1000$ steps (and we can see from the figure that oscillations are not visible after about 600 steps), so to determine the steady state value of $X$ we just need to check the value of $X_{1000}$."
   ]
  },
  {
   "cell_type": "code",
   "execution_count": 16,
   "metadata": {},
   "outputs": [
    {
     "name": "stdout",
     "output_type": "stream",
     "text": [
      "The steady state value of X is 0.49999189523530085\n"
     ]
    }
   ],
   "source": [
    "print('The steady state value of X is', X[999])"
   ]
  },
  {
   "cell_type": "markdown",
   "metadata": {},
   "source": [
    "## Turning into a function\n",
    "\n",
    "As we saw in the tutorial, we just need to wrap our existing code in a few extra lines to turn it into a function that can handle lots of values of $k_4$. "
   ]
  },
  {
   "cell_type": "code",
   "execution_count": 22,
   "metadata": {},
   "outputs": [],
   "source": [
    "def steady_state_X(k4):\n",
    "    # set up variables and arrays\n",
    "    n = 1000\n",
    "    k1 = 0.1\n",
    "    k2 = 0.4\n",
    "    k3 = 0.1\n",
    "\n",
    "    X = np.zeros(n)\n",
    "    Y = np.zeros(n)\n",
    "\n",
    "    # initialise variables (not strictly necessary here!)\n",
    "    X[0] = 0\n",
    "    Y[0] = 0\n",
    "\n",
    "    # implement equations\n",
    "    for i in range(n - 1):\n",
    "        X[i+1] = X[i] + k1 - k2*X[i] + k3*(X[i]**2)*Y[i]\n",
    "        Y[i+1] = Y[i] + k4*X[i] - k3*(X[i]**2)*Y[i]\n",
    "        \n",
    "    #return the steady state\n",
    "    return(X[999])"
   ]
  },
  {
   "cell_type": "markdown",
   "metadata": {},
   "source": [
    "To test this we can check it returns the same value as above for $k_4 = 0.2$."
   ]
  },
  {
   "cell_type": "code",
   "execution_count": 26,
   "metadata": {},
   "outputs": [
    {
     "name": "stdout",
     "output_type": "stream",
     "text": [
      "When k_4 = 0.2 the steady state value of X is 0.49999189523530085\n"
     ]
    }
   ],
   "source": [
    "print('When k_4 =', 0.2, 'the steady state value of X is', steady_state_X(0.2))"
   ]
  },
  {
   "cell_type": "markdown",
   "metadata": {},
   "source": [
    "As we expected!\n",
    "\n",
    "## Explore behaviour for changing $k_4$\n",
    "\n",
    "We would like to explore how the steady state value of $X$ changes for values of $k_4$ between $0$ and $0.3$. We did something similar in the tutorial, so we can modify our existing code:\n"
   ]
  },
  {
   "cell_type": "code",
   "execution_count": 30,
   "metadata": {},
   "outputs": [
    {
     "data": {
      "text/plain": [
       "Text(0, 0.5, 'Steady state value')"
      ]
     },
     "execution_count": 30,
     "metadata": {},
     "output_type": "execute_result"
    },
    {
     "data": {
      "image/png": "[encoded data removed]",
      "text/plain": [
       "<Figure size 288x288 with 1 Axes>"
      ]
     },
     "metadata": {
      "needs_background": "light"
     },
     "output_type": "display_data"
    }
   ],
   "source": [
    "# set up variables and arrays\n",
    "k4_array = np.linspace(0, 0.3, 1000)\n",
    "steady_state = np.zeros(1000) # be careful not to give this the same name as the function!\n",
    "\n",
    "for i in range(1000):\n",
    "    # Calculate the steady state value of X\n",
    "    # for the given value of k_4\n",
    "    steady_state[i] = steady_state_X(k4_array[i])\n",
    "\n",
    "# Create a plot of steady state values against k_4 values\n",
    "plt.figure(figsize=(4,4))\n",
    "plt.plot(k4_array, steady_state)\n",
    "plt.title('Steady state value against k_4')\n",
    "plt.xlabel('k_4')\n",
    "plt.ylabel('Steady state value')"
   ]
  },
  {
   "cell_type": "markdown",
   "metadata": {},
   "source": [
    "We can see that as $k_4$ increases from $0$ to $0.2$, the steady state value also gradually increases. When $k_4$ is larger than $0.2$ the steady state value oscillates rapidly."
   ]
  }
 ],
 "metadata": {
  "kernelspec": {
   "display_name": "Python 3 (ipykernel)",
   "language": "python",
   "name": "python3"
  },
  "language_info": {
   "codemirror_mode": {
    "name": "ipython",
    "version": 3
   },
   "file_extension": ".py",
   "mimetype": "text/x-python",
   "name": "python",
   "nbconvert_exporter": "python",
   "pygments_lexer": "ipython3",
   "version": "3.10.4"
  },
  "vscode": {
   "interpreter": {
    "hash": "7f871366baaeb23d5e2a586caa18124c1371cc3d3832dcd001f8f599e1be9e29"
   }
  }
 },
 "nbformat": 4,
 "nbformat_minor": 2
}
